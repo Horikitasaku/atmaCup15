{
 "cells": [
  {
   "cell_type": "markdown",
   "metadata": {},
   "source": [
    "# gpt-2を使ってembeddingを作る簡単なコード"
   ]
  },
  {
   "cell_type": "code",
   "execution_count": 1,
   "metadata": {},
   "outputs": [],
   "source": [
    "import pandas as pd\n",
    "import torch\n",
    "from transformers import GPT2Tokenizer, GPT2Model\n",
    "import os\n",
    "from tqdm.auto import tqdm\n",
    "import numpy as np"
   ]
  },
  {
   "cell_type": "code",
   "execution_count": null,
   "metadata": {},
   "outputs": [],
   "source": [
    "anime_info = pd.read_csv('anime.csv')\n",
    "train_df = pd.read_csv('train/train.csv')\n",
    "\n",
    "test_df = pd.read_csv('test/test.csv')\n",
    "\n",
    "tokenizer = GPT2Tokenizer.from_pretrained('gpt2')\n",
    "model = GPT2Model.from_pretrained('gpt2')\n",
    "text_columns = ['genres', 'japanese_name', 'type', 'episodes', 'aired', 'producers', 'licensors', 'studios', 'source', 'duration', 'rating', 'members', 'watching', 'completed', 'on_hold', 'dropped', 'plan_to_watch']\n",
    "\n",
    "def get_gpt2_embeds(text):\n",
    "    input_ids = tokenizer.encode(text, return_tensors='pt')\n",
    "    with torch.no_grad():\n",
    "        outputs = model(input_ids)\n",
    "        embeddings = outputs[0][0][0]\n",
    "    return embeddings.detach().cpu().numpy()\n",
    "\n",
    "def concat_with_column_names(row): # 前に列名を付けます\n",
    "    return ' '.join([f'{col}: {row[col]}' for col in text_columns])\n",
    "\n",
    "\n",
    "ids_list = []\n",
    "embeddings = []\n",
    "for i, row in tqdm(anime_info.iterrows(),total=2000):\n",
    "    ids_list.append(row['anime_id'])\n",
    "    text = concat_with_column_names(row[text_columns])\n",
    "    embedding = get_gpt2_embeds(text)\n",
    "    embeddings.append(embedding)\n",
    "np.save('#15/train/train_ids.npy',np.array(ids_list))\n",
    "np.save('#15/train/train_embeddings.npy',np.array(embeddings))"
   ]
  },
  {
   "cell_type": "markdown",
   "metadata": {},
   "source": [
    "これで、サイズは768のembeddingが得られます\n",
    "\n",
    "このようにデータを読み取ることができます"
   ]
  },
  {
   "cell_type": "code",
   "execution_count": 2,
   "metadata": {},
   "outputs": [],
   "source": [
    "embeds = np.load(\"train/train_embeddings.npy\")\n",
    "ids = np.load(\"train/train_ids.npy\")\n",
    "embeds_list = []\n",
    "for l in range(embeds.shape[0]):\n",
    "    embeds_list.append(embeds[l,:])\n",
    "anime = pd.DataFrame(data={\"anime_id\": ids, \"embed\" : embeds_list})\n"
   ]
  },
  {
   "cell_type": "markdown",
   "metadata": {},
   "source": [
    "しかし、embeddingは全く同じようです\n",
    "\n",
    "ファインチューニングが必要です"
   ]
  },
  {
   "cell_type": "code",
   "execution_count": 6,
   "metadata": {},
   "outputs": [
    {
     "data": {
      "text/plain": [
       "768"
      ]
     },
     "execution_count": 6,
     "metadata": {},
     "output_type": "execute_result"
    }
   ],
   "source": [
    "sum(anime.embed[0] == anime.embed[1])"
   ]
  }
 ],
 "metadata": {
  "kernelspec": {
   "display_name": "kaggle1",
   "language": "python",
   "name": "python3"
  },
  "language_info": {
   "codemirror_mode": {
    "name": "ipython",
    "version": 3
   },
   "file_extension": ".py",
   "mimetype": "text/x-python",
   "name": "python",
   "nbconvert_exporter": "python",
   "pygments_lexer": "ipython3",
   "version": "3.8.0"
  },
  "orig_nbformat": 4
 },
 "nbformat": 4,
 "nbformat_minor": 2
}
