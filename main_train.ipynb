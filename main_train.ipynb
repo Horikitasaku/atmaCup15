{
 "cells": [
  {
   "cell_type": "markdown",
   "metadata": {},
   "source": [
    "# setup"
   ]
  },
  {
   "cell_type": "code",
   "execution_count": 28,
   "metadata": {},
   "outputs": [],
   "source": [
    "# import os\n",
    "# os.environ[\"http_proxy\"] = \"http://127.0.0.1:7891\"\n",
    "# os.environ[\"https_proxy\"] = \"http://127.0.0.1:7891\""
   ]
  },
  {
   "cell_type": "code",
   "execution_count": 29,
   "metadata": {},
   "outputs": [],
   "source": [
    "import pandas as pd\n",
    "import torch\n",
    "import os\n",
    "from tqdm.notebook import tqdm\n",
    "import numpy as np\n",
    "import re\n",
    "\n",
    "from time import time\n",
    "import matplotlib.pyplot as plt\n",
    "import seaborn as sns\n",
    "import re\n",
    "\n",
    "from sklearn.preprocessing import StandardScaler, LabelEncoder\n",
    "from scipy.spatial.distance import cdist\n",
    "from sklearn.metrics.pairwise import cosine_similarity, pairwise_distances\n",
    "from scipy.stats import pearsonr\n",
    "import random\n",
    "\n",
    "from scipy.stats import kurtosis\n",
    "\n",
    "from preprocessing_utils.recommend import *\n",
    " \n",
    "random.seed = 42\n",
    "np.random.seed(42)\n",
    "\n",
    "struct = 'lgbm'\n",
    "\n",
    "search_para = False # パラメータを検索する\n"
   ]
  },
  {
   "cell_type": "code",
   "execution_count": 30,
   "metadata": {},
   "outputs": [
    {
     "name": "stdout",
     "output_type": "stream",
     "text": [
      "recommend to: 1780\n",
      "need to predict: 1780\n"
     ]
    },
    {
     "data": {
      "text/html": [
       "<div>\n",
       "<style scoped>\n",
       "    .dataframe tbody tr th:only-of-type {\n",
       "        vertical-align: middle;\n",
       "    }\n",
       "\n",
       "    .dataframe tbody tr th {\n",
       "        vertical-align: top;\n",
       "    }\n",
       "\n",
       "    .dataframe thead th {\n",
       "        text-align: right;\n",
       "    }\n",
       "</style>\n",
       "<table border=\"1\" class=\"dataframe\">\n",
       "  <thead>\n",
       "    <tr style=\"text-align: right;\">\n",
       "      <th></th>\n",
       "      <th>user_id</th>\n",
       "      <th>anime_id</th>\n",
       "      <th>score</th>\n",
       "    </tr>\n",
       "  </thead>\n",
       "  <tbody>\n",
       "    <tr>\n",
       "      <th>0</th>\n",
       "      <td>0008e10fb39e55447333</td>\n",
       "      <td>0669cc0219d468761195</td>\n",
       "      <td>2</td>\n",
       "    </tr>\n",
       "    <tr>\n",
       "      <th>1</th>\n",
       "      <td>0008e10fb39e55447333</td>\n",
       "      <td>111adb8835b8a1a2cf54</td>\n",
       "      <td>10</td>\n",
       "    </tr>\n",
       "    <tr>\n",
       "      <th>2</th>\n",
       "      <td>0008e10fb39e55447333</td>\n",
       "      <td>1fc8683c393432a2f9c7</td>\n",
       "      <td>1</td>\n",
       "    </tr>\n",
       "    <tr>\n",
       "      <th>3</th>\n",
       "      <td>0008e10fb39e55447333</td>\n",
       "      <td>2290175205d55e81b197</td>\n",
       "      <td>8</td>\n",
       "    </tr>\n",
       "    <tr>\n",
       "      <th>4</th>\n",
       "      <td>0008e10fb39e55447333</td>\n",
       "      <td>28f173b60331d5cabb0d</td>\n",
       "      <td>9</td>\n",
       "    </tr>\n",
       "  </tbody>\n",
       "</table>\n",
       "</div>"
      ],
      "text/plain": [
       "                user_id              anime_id  score\n",
       "0  0008e10fb39e55447333  0669cc0219d468761195      2\n",
       "1  0008e10fb39e55447333  111adb8835b8a1a2cf54     10\n",
       "2  0008e10fb39e55447333  1fc8683c393432a2f9c7      1\n",
       "3  0008e10fb39e55447333  2290175205d55e81b197      8\n",
       "4  0008e10fb39e55447333  28f173b60331d5cabb0d      9"
      ]
     },
     "execution_count": 30,
     "metadata": {},
     "output_type": "execute_result"
    }
   ],
   "source": [
    "anime_df = pd.read_csv('train/anime.csv')\n",
    "train_df = pd.read_csv('train/train.csv')\n",
    "\n",
    "test_df = pd.read_csv('test/test.csv')\n",
    "\n",
    "\n",
    "inter = list(set(train_df.user_id.unique())&set(test_df.user_id.unique()))\n",
    "print('recommend to:',len(inter))\n",
    "test_outer = list(set(test_df.user_id.unique())-set(train_df.user_id.unique()))\n",
    "print('need to predict:',len(inter))\n",
    "# train_df = anime_info.merge(train_df,on='anime_id')\n",
    "# test_df = anime_info.merge(test_df,on='anime_id')\n",
    "\n",
    "train_df.head(5)"
   ]
  },
  {
   "cell_type": "markdown",
   "metadata": {},
   "source": [
    "# Preprocessing"
   ]
  },
  {
   "cell_type": "code",
   "execution_count": 36,
   "metadata": {},
   "outputs": [],
   "source": [
    "def weighted_mean(x):\n",
    "    counts = x.value_counts()\n",
    "    total = counts.sum()\n",
    "    weighted_sum = sum(score * count for score, count in counts.items())\n",
    "    return weighted_sum / total\n",
    "\n",
    "# 前処理コード\n",
    "def scaling(data):\n",
    "    sc = StandardScaler()\n",
    "    data_sc = np.log1p(data)\n",
    "    data_sc = sc.fit_transform(data_sc)\n",
    "    return data_sc\n",
    "\n",
    "def all_similarity(input_vect):\n",
    "    # Calculate cosine similarity\n",
    "    cos_sim = cosine_similarity(input_vect)\n",
    "\n",
    "    # Calculate Euclidean distance\n",
    "    euclidean_dist = cdist(input_vect, input_vect, metric='euclidean')\n",
    "\n",
    "    # Calculate Manhattan distance\n",
    "    manhattan_dist = cdist(input_vect, input_vect, metric='cityblock')\n",
    "\n",
    "    # Calculate Jaccard similarity\n",
    "    jaccard_sim = 1 - pairwise_distances(input_vect, metric='jaccard')\n",
    "\n",
    "    # Calculate Pearson correlation coefficient\n",
    "    pearson_corr = np.corrcoef(input_vect, rowvar=True)\n",
    "\n",
    "    all_dis = np.concatenate([cos_sim,euclidean_dist,manhattan_dist,jaccard_sim,pearson_corr],axis=1)\n",
    "\n",
    "    return all_dis\n",
    "\n",
    "def to_minutes(s):\n",
    "\n",
    "    match = re.search(r'(\\d+) hr.*? (\\d+) min.', s)\n",
    "    if match:\n",
    "        return int(match.group(1)) * 60 + int(match.group(2))\n",
    "    match = re.search(r'(\\d+) min', s)\n",
    "    if match:\n",
    "        return int(match.group(1))\n",
    "    return 1 # for Unknown\n",
    "\n",
    "def merge_by_anime_id(left_df, right_df):\n",
    "    return pd.merge(left_df, right_df, on=\"anime_id\", how=\"left\").drop(columns=[\"anime_id\",\"user_id\"])\n",
    "\n",
    "def merge_by_anime_id_with(left_df, right_df):\n",
    "    return pd.merge(left_df, right_df, on=\"anime_id\", how=\"left\")\n",
    "\n",
    "\n",
    "def merge_by_user_id_with(left_df, right_df):\n",
    "    return pd.merge(left_df, right_df, on=\"user_id\", how=\"left\")\n",
    "\n",
    "# train_scores = train_df.groupby('anime_id')['score'].apply(weighted_mean)\n",
    "def create_anime_numeric_feature(input_df: pd.DataFrame):\n",
    "    \"\"\"input_dfは train or test.csv のデータが入ってくることを想定しています.\"\"\"\n",
    "    \n",
    "    use_columns = [\n",
    "        \"members\", \n",
    "        \"watching\",\"completed\",\"on_hold\",\"dropped\",\"plan_to_watch\"\n",
    "    ]\n",
    "    return merge_by_anime_id(input_df, anime_df)[use_columns]\n",
    "    # return pd.merge(input_df, anime_df, on=\"anime_id\", how=\"left\").drop(columns=[\"anime_id\",\"user_id\"])\n",
    "\n",
    "\n",
    "def create_anime_type_one_hot_encoding(input_df):\n",
    "    \n",
    "    target_colname = \"type\"\n",
    "    target_series = anime_df[target_colname]\n",
    "    unique_values = target_series.unique()\n",
    "\n",
    "    out_df = pd.DataFrame()\n",
    "    for value in unique_values:\n",
    "        is_value = target_series == value\n",
    "        out_df[value] = is_value.astype(int)\n",
    "        \n",
    "    out_df[\"anime_id\"] = anime_df[\"anime_id\"]\n",
    "    \n",
    "    return merge_by_anime_id(input_df, out_df)\n",
    "def type(input_df):\n",
    "    # 単純にラベルエンコーディング\n",
    "    encoder = LabelEncoder()\n",
    "    type_encoder = anime_df[['anime_id']].copy()\n",
    "    type_encoder[\"type_label\"] = encoder.fit_transform(anime_df[\"type\"])\n",
    "    return merge_by_anime_id(input_df, type_encoder)\n",
    "\n",
    "def create_anime_type_one_hot_encoding(input_df):\n",
    "    \n",
    "    target_colname = \"type\"\n",
    "    target_series = anime_df[target_colname]\n",
    "    unique_values = target_series.unique()\n",
    "\n",
    "    out_df = pd.DataFrame()\n",
    "    for value in unique_values:\n",
    "        is_value = target_series == value\n",
    "        out_df[value] = is_value.astype(int)\n",
    "        \n",
    "    out_df[\"anime_id\"] = anime_df[\"anime_id\"]\n",
    "    \n",
    "    return merge_by_anime_id(input_df, out_df)\n",
    "\n",
    "def create_anime_type_count_encoding(input_df):\n",
    "    count = anime_df[\"type\"].map(anime_df[\"type\"].value_counts())\n",
    "    encoded_df = pd.DataFrame({\n",
    "        \"anime_id\": anime_df[\"anime_id\"],\n",
    "        \"tyoe_count\": count\n",
    "    })\n",
    "    \n",
    "    return merge_by_anime_id(input_df, encoded_df)\n",
    "\n",
    "def create_licensors_count_encoding(input_df):\n",
    "    count = anime_df[\"licensors\"].map(anime_df[\"licensors\"].value_counts())\n",
    "    encoded_df = pd.DataFrame({\n",
    "        \"anime_id\": anime_df[\"anime_id\"],\n",
    "        \"licensors_count\": count\n",
    "    })\n",
    "    \n",
    "    return merge_by_anime_id(input_df, encoded_df)\n",
    "\n",
    "def studios(input_df):\n",
    "    # 単純にラベルエンコーディング\n",
    "    encoder = LabelEncoder()\n",
    "    studios_encode = anime_df[['anime_id']].copy()\n",
    "    studios_encode[\"studios\"] = encoder.fit_transform(anime_df[\"studios\"])\n",
    "    return merge_by_anime_id(input_df, studios_encode)\n",
    "\n",
    "def create_studio_count_encoding(input_df):\n",
    "    count = anime_df[\"studios\"].map(anime_df[\"studios\"].value_counts())\n",
    "    encoded_df = pd.DataFrame({\n",
    "        \"anime_id\": anime_df[\"anime_id\"],\n",
    "        \"studios_count\": count\n",
    "    })\n",
    "    \n",
    "    return merge_by_anime_id(input_df, encoded_df)\n",
    "\n",
    "def create_source_count_encoding(input_df):\n",
    "    count = anime_df[\"source\"].map(anime_df[\"source\"].value_counts())\n",
    "    encoded_df = pd.DataFrame({\n",
    "        \"anime_id\": anime_df[\"anime_id\"],\n",
    "        \"source_count\": count\n",
    "    })\n",
    "    \n",
    "    return merge_by_anime_id(input_df, encoded_df)\n",
    "\n",
    "def source(input_df):\n",
    "    # 単純にラベルエンコーディング\n",
    "    encoder = LabelEncoder()\n",
    "    source_encode = anime_df[['anime_id']].copy()\n",
    "    source_encode[\"source\"] = encoder.fit_transform(anime_df[\"source\"])\n",
    "    return merge_by_anime_id(input_df, source_encode)\n",
    "\n",
    "def create_rating_count_encoding(input_df):\n",
    "    count = anime_df[\"rating\"].map(anime_df[\"rating\"].value_counts())\n",
    "    encoded_df = pd.DataFrame({\n",
    "        \"anime_id\": anime_df[\"anime_id\"],\n",
    "        \"rating_count\": count\n",
    "    })\n",
    "    \n",
    "    return merge_by_anime_id(input_df, encoded_df)\n",
    "\n",
    "def create_genres_onehot_encoding(input_df):\n",
    "    \"\"\"Create 26-dim embedding\"\"\"\n",
    "    chars = ['Comedy', 'Sci-Fi', 'Seinen', 'Slice of Life', 'Space',\n",
    "       'Adventure', 'Mystery', 'Historical', 'Supernatural', 'Fantasy',\n",
    "       'Ecchi', 'School', 'Harem', 'Romance', 'Shounen', 'Action',\n",
    "       'Magic', 'Sports', 'Super Power', 'Drama', 'Thriller', 'Music',\n",
    "       'Shoujo', 'Demons', 'Mecha', 'Game', 'Josei', 'Cars',\n",
    "       'Psychological', 'Parody', 'Samurai', 'Military', 'Shoujo Ai',\n",
    "       'Kids', 'Martial Arts', 'Horror', 'Dementia', 'Vampire',\n",
    "       'Shounen Ai', 'Hentai', 'Yaoi', 'Police']\n",
    "    genres = anime_df[['anime_id','genres']]\n",
    "    genres.loc[:,chars] = 0\n",
    "    genres['genres'] = genres['genres'].str.split(',')\n",
    "    # genres[chars] = 0\n",
    "    for i, row in genres.iterrows():\n",
    "        for index in (s.strip() for s in row['genres']):\n",
    "                genres.loc[i,index] = 1\n",
    "    genres = genres.drop('genres',axis=1)\n",
    "    return merge_by_anime_id(input_df, genres)\n",
    "\n",
    "\n",
    "def create_producer_onehot_encoding(input_df):\n",
    "    \"\"\"Create 26-dim embedding\"\"\"\n",
    "    producer = anime_df['producers'].str.split(',')\n",
    "    all_producer = list(map(str.strip,producer.explode().unique()))\n",
    "    producer = anime_df[['anime_id']]\n",
    "    producer.loc[:,all_producer] = 0\n",
    "    producer['producers'] = anime_df['producers'].str.split(',')\n",
    "    # genres[chars] = 0\n",
    "    for i, row in producer.iterrows():\n",
    "        for index in (s.strip() for s in row['producers']):\n",
    "                producer.loc[i,index] = 1\n",
    "    \n",
    "    return merge_by_anime_id(input_df, producer).drop('producers',axis=1)\n",
    "\n",
    "\n",
    "def create_anime_type_one_hot_encoding(input_df):\n",
    "    \n",
    "    target_colname = \"type\"\n",
    "    target_series = anime_df[target_colname]\n",
    "    unique_values = target_series.unique()\n",
    "\n",
    "    out_df = pd.DataFrame()\n",
    "    for value in unique_values:\n",
    "        is_value = target_series == value\n",
    "        out_df[value] = is_value.astype(int)\n",
    "        \n",
    "    out_df[\"anime_id\"] = anime_df[\"anime_id\"]\n",
    "    \n",
    "    return merge_by_anime_id(input_df, out_df)\n",
    "\n",
    "def create_duration2min(input_df):\n",
    "    time_min = anime_df[['anime_id']]\n",
    "    time_min['minutes'] = anime_df['duration'].apply(to_minutes)\n",
    "    return merge_by_anime_id(input_df, time_min)\n",
    "from datetime import datetime\n",
    "def to_year(s):\n",
    "    match = re.search(r'\\d{4}', s)\n",
    "    if match:\n",
    "       return int(match.group())\n",
    "    else:\n",
    "        return 1000\n",
    "    \n",
    "def year_pre(input_df):\n",
    "    year = anime_df[['anime_id']]\n",
    "    encoder = LabelEncoder()\n",
    "    year['year'] = encoder.fit_transform(anime_df['aired'].apply(to_year))\n",
    "    \n",
    "    return merge_by_anime_id(input_df, year)\n",
    "\n",
    "def merge_embedding(input_df):\n",
    "    embeds = np.load(\"train/anime_jpbert_embeddings.npy\")\n",
    "    ids = np.load(\"train/anime_jpbert_ids.npy\")\n",
    "    embeds_list = []\n",
    "    for l in range(embeds.shape[0]):\n",
    "        embeds_list.append(embeds[l,:])\n",
    "    anime_embed = pd.DataFrame(data={\"anime_id\": ids, \"embed\" : embeds_list})\n",
    "    embed_array = np.array(anime_embed[\"embed\"].tolist())\n",
    "\n",
    "    for i in range(768):\n",
    "        anime_embed[f\"embed_{i}\"] = embed_array[:,i]\n",
    "\n",
    "    anime_embed.drop(\"embed\", axis=1, inplace=True)\n",
    "    return merge_by_anime_id(input_df, anime_embed)\n",
    "\n",
    "from sklearn.feature_extraction.text import TfidfVectorizer\n",
    "from sklearn.metrics.pairwise import cosine_similarity\n",
    "from sklearn.decomposition import TruncatedSVD\n",
    "from scipy.spatial.distance import pdist, squareform\n",
    "import pickle\n",
    "from gensim.models import word2vec,Word2Vec\n",
    "\n",
    "\n",
    "def create_tfidf_matrix(input_df,mode='anime'):\n",
    "    text_columns = ['genres', 'japanese_name', 'type', 'episodes', 'aired', 'producers', 'licensors', 'studios', 'source', 'duration', 'rating']\n",
    "\n",
    "    tf = TfidfVectorizer()\n",
    "    try:\n",
    "        tf = pickle.load(open(\"vectorizer.pickle\", \"rb\"))\n",
    "        print('loaded tf')\n",
    "    except:\n",
    "        tf.fit(anime_df[text_columns].astype(str).apply(lambda x: ';'.join(x), axis=1).tolist()) \n",
    "        pickle.dump(tf, open(\"vectorizer.pickle\", \"wb\"))\n",
    "    tfidf_matrix = tf.fit_transform(anime_df[text_columns].astype(str).apply(lambda x: ';'.join(x), axis=1).tolist())\n",
    "    cosine_sim = all_similarity(tfidf_matrix.toarray()) \n",
    "    svd = TruncatedSVD(n_components=30,random_state=42)\n",
    "\n",
    "    svd_arr = svd.fit_transform(cosine_sim)\n",
    "    print('tfdf:',svd.explained_variance_ratio_.sum())\n",
    "    \n",
    "    col_df = pd.DataFrame(\n",
    "    svd_arr,\n",
    "    index=anime_df['anime_id'],\n",
    "    columns=[f\"svd_{mode}_{ix}\" for ix in range(30)],\n",
    "    ).reindex()\n",
    "    return merge_by_anime_id_with(input_df, col_df)\n",
    "\n",
    "def create_tf_user_anime_vector(input_df):\n",
    "    df = pd.concat([train_df,test_df])\n",
    "    matrix = create_tfidf_matrix(df,mode='user_mean').drop(['anime_id','score'],axis=1)\n",
    "    user_matrix_mean = matrix.groupby('user_id').mean()\n",
    "    user_matrix_std = matrix.groupby('user_id').std()\n",
    "    user_matrix_skew = matrix.groupby('user_id').skew()\n",
    "    user_matrix_var = matrix.groupby('user_id').var()\n",
    "    \n",
    "    \n",
    "    svd = TruncatedSVD(n_components=20,random_state=42)\n",
    "    mean_cos = svd.fit_transform(all_similarity(user_matrix_mean.values))\n",
    "    print('mean_user:',svd.explained_variance_ratio_.sum())\n",
    "    \n",
    "    \n",
    "    user_mean_cos_matrix = pd.DataFrame(mean_cos,\n",
    "                          index=user_matrix_mean.index.values.tolist(),\n",
    "                          columns=[f\"w2v_mean_user_cos_{i}\" for i in range(mean_cos.shape[1])]\n",
    "                          )\n",
    "    \n",
    "    \n",
    "    user_matrix = pd.concat([user_matrix_mean,user_matrix_std,user_matrix_skew,user_matrix_var,user_mean_cos_matrix],axis=1).reindex()\n",
    "    user_matrix.index.name='user_id'\n",
    "    return merge_by_user_id_with(input_df, user_matrix).drop('user_id',axis=1)\n",
    "\n",
    "def create_llma_anime_vector(input_df,embed_source,mode='anime'):\n",
    "    embeddings = np.load(f\"./train/{embed_source}.npy\")\n",
    "    df_anime_preprocessd = anime_df[['anime_id']].copy()\n",
    "    svd = TruncatedSVD(n_components=20,random_state=42)\n",
    "    svd_arr = svd.fit_transform(all_similarity(embeddings))\n",
    "    \n",
    "    embeddings_columns = [f\"{embed_source}_{mode}_{i}\" for i in range(svd_arr.shape[1])]\n",
    "    embeddings_df = pd.DataFrame(data=svd_arr, columns=embeddings_columns)\n",
    "    df_anime_preprocessd = df_anime_preprocessd.join(embeddings_df)\n",
    "    \n",
    "    return merge_by_anime_id_with(input_df, df_anime_preprocessd)\n",
    "\n",
    "def create_llma_anime_embed(input_df,embed_source,mode='anime'):\n",
    "    embeddings = np.load(f\"./train/{embed_source}.npy\")\n",
    "    df_anime_preprocessd = anime_df[['anime_id']].copy()\n",
    "    svd = TruncatedSVD(n_components=20,random_state=42)\n",
    "    svd_arr = svd.fit_transform(embeddings)\n",
    "    \n",
    "    embeddings_columns = [f\"{embed_source}_{mode}_embed_{i}\" for i in range(svd_arr.shape[1])]\n",
    "    embeddings_df = pd.DataFrame(data=svd_arr, columns=embeddings_columns)\n",
    "    df_anime_preprocessd = df_anime_preprocessd.join(embeddings_df)\n",
    "    \n",
    "    return merge_by_anime_id_with(input_df, df_anime_preprocessd)\n",
    "\n",
    "\n",
    "def create_01EDA_user_vector(input_df):\n",
    "    df = pd.concat([train_df,test_df])\n",
    "    matrix = create_llma_anime_vector(df,embed_source='mBERT_embedding_01EDA',mode='user_mean').drop(['anime_id','score'],axis=1)\n",
    "    user_matrix_mean = matrix.groupby('user_id').mean()\n",
    "    user_matrix_std = matrix.groupby('user_id').std()\n",
    "    user_matrix_skew = matrix.groupby('user_id').skew()\n",
    "    user_matrix_var = matrix.groupby('user_id').var()    \n",
    "    \n",
    "    svd = TruncatedSVD(n_components=20,random_state=42)\n",
    "    mean_cos = svd.fit_transform(all_similarity(user_matrix_mean.values))\n",
    "    print('mean_user:',svd.explained_variance_ratio_.sum())\n",
    "    \n",
    "    \n",
    "    user_mean_cos_matrix = pd.DataFrame(mean_cos,\n",
    "                          index=user_matrix_mean.index.values.tolist(),\n",
    "                          columns=[f\"w2v_mean_user_cos_{i}\" for i in range(mean_cos.shape[1])]\n",
    "                          )\n",
    "     \n",
    "    user_matrix = pd.concat([user_matrix_mean,user_matrix_std,user_matrix_skew,user_matrix_var,user_mean_cos_matrix],axis=1).reindex()\n",
    "    user_matrix.index.name='user_id'\n",
    "    \n",
    "    return merge_by_user_id_with(input_df, user_matrix).drop('user_id',axis=1)\n",
    "\n",
    "def create_large_user_vector(input_df):\n",
    "    df = pd.concat([train_df,test_df])\n",
    "    matrix = create_llma_anime_vector(df,embed_source='mBERT_embedding_large',mode='user_mean').drop(['anime_id','score'],axis=1)\n",
    "    user_matrix_mean = matrix.groupby('user_id').mean()\n",
    "    user_matrix_std = matrix.groupby('user_id').std()\n",
    "    user_matrix_skew = matrix.groupby('user_id').skew()\n",
    "    user_matrix_var = matrix.groupby('user_id').var()\n",
    "    # user_matrix_sum = matrix.groupby('user_id').sum()\n",
    "    \n",
    "    \n",
    "    svd = TruncatedSVD(n_components=20,random_state=42)\n",
    "    mean_cos = svd.fit_transform(all_similarity(user_matrix_mean.values))\n",
    "    print('mean_user:',svd.explained_variance_ratio_.sum())\n",
    "    \n",
    "    # svd = TruncatedSVD(n_components=20,random_state=42)\n",
    "    # sum_cos = svd.fit_transform(cosine_similarity(user_matrix_sum))\n",
    "    # print('sum_user:',svd.explained_variance_ratio_.sum())\n",
    "    \n",
    "    user_mean_cos_matrix = pd.DataFrame(mean_cos,\n",
    "                          index=user_matrix_mean.index.values.tolist(),\n",
    "                          columns=[f\"w2v_mean_user_cos_{i}\" for i in range(mean_cos.shape[1])]\n",
    "                          )\n",
    "    \n",
    "    # user_sum_cos_matrix = pd.DataFrame(sum_cos,\n",
    "    #                       index=user_matrix_sum.index.values.tolist(),\n",
    "    #                       columns=[f\"w2v_sum_user_cos_{i}\" for i in range(sum_cos.shape[1])]\n",
    "    #                       )\n",
    "    # user_embed_mean = create_llma_anime_embed(df,mode='user_mean',embed_source='mBERT_embedding_large').drop(['anime_id','score'],axis=1).groupby('user_id').mean()\n",
    "    # user_embed_std = create_llma_anime_embed(df,mode='user_std',embed_source='mBERT_embedding_large').drop(['anime_id','score'],axis=1).groupby('user_id').std()\n",
    "    # user_embed_skew = create_llma_anime_embed(df,mode='user_skew',embed_source='mBERT_embedding_large').drop(['anime_id','score'],axis=1).groupby('user_id').skew()\n",
    "    # user_embed_var = create_llma_anime_embed(df,mode='user_var',embed_source='mBERT_embedding_large').drop(['anime_id','score'],axis=1).groupby('user_id').var()\n",
    "    \n",
    "    user_matrix = pd.concat([user_matrix_mean,user_matrix_std,user_matrix_skew,user_matrix_var,user_mean_cos_matrix],axis=1).reindex()\n",
    "    user_matrix.index.name='user_id'\n",
    "    \n",
    "    return merge_by_user_id_with(input_df, user_matrix).drop('user_id',axis=1)\n",
    "\n",
    "def create_small_user_vector(input_df):\n",
    "    df = pd.concat([train_df,test_df])\n",
    "    matrix = create_llma_anime_vector(df,embed_source='mBERT_embedding_small',mode='user_mean').drop(['anime_id','score'],axis=1)\n",
    "    user_matrix_mean = matrix.groupby('user_id').mean()\n",
    "    user_matrix_std = matrix.groupby('user_id').std()\n",
    "    user_matrix_skew = matrix.groupby('user_id').skew()\n",
    "    user_matrix_var = matrix.groupby('user_id').var()\n",
    "    # user_matrix_sum = matrix.groupby('user_id').sum()\n",
    "    \n",
    "    \n",
    "    svd = TruncatedSVD(n_components=20,random_state=42)\n",
    "    mean_cos = svd.fit_transform(all_similarity(user_matrix_mean.values))\n",
    "    print('mean_user:',svd.explained_variance_ratio_.sum())\n",
    "    \n",
    "    # svd = TruncatedSVD(n_components=20,random_state=42)\n",
    "    # sum_cos = svd.fit_transform(cosine_similarity(user_matrix_sum))\n",
    "    # print('sum_user:',svd.explained_variance_ratio_.sum())\n",
    "    \n",
    "    user_mean_cos_matrix = pd.DataFrame(mean_cos,\n",
    "                          index=user_matrix_mean.index.values.tolist(),\n",
    "                          columns=[f\"w2v_mean_user_cos_{i}\" for i in range(mean_cos.shape[1])]\n",
    "                          )\n",
    "    \n",
    "    # user_sum_cos_matrix = pd.DataFrame(sum_cos,\n",
    "    #                       index=user_matrix_sum.index.values.tolist(),\n",
    "    #                       columns=[f\"w2v_sum_user_cos_{i}\" for i in range(sum_cos.shape[1])]\n",
    "    #                       )\n",
    "    # user_embed_mean = create_llma_anime_embed(df,mode='user_mean',embed_source='mBERT_embedding_small').drop(['anime_id','score'],axis=1).groupby('user_id').mean()\n",
    "    # user_embed_std = create_llma_anime_embed(df,mode='user_std',embed_source='mBERT_embedding_small').drop(['anime_id','score'],axis=1).groupby('user_id').std()\n",
    "    # user_embed_skew = create_llma_anime_embed(df,mode='user_skew',embed_source='mBERT_embedding_small').drop(['anime_id','score'],axis=1).groupby('user_id').skew()\n",
    "    # user_embed_var = create_llma_anime_embed(df,mode='user_var',embed_source='mBERT_embedding_small').drop(['anime_id','score'],axis=1).groupby('user_id').var()\n",
    "    \n",
    "    user_matrix = pd.concat([user_matrix_mean,user_matrix_std,user_matrix_skew,user_matrix_var,user_mean_cos_matrix],axis=1).reindex()\n",
    "    user_matrix.index.name='user_id'\n",
    "   \n",
    "    return merge_by_user_id_with(input_df, user_matrix).drop('user_id',axis=1)\n",
    "\n",
    "\n",
    "def create_01EDA_anime_vector(input_df):\n",
    "    return create_llma_anime_vector(input_df,embed_source='mBERT_embedding_01EDA').drop(columns=[\"anime_id\",\"user_id\"])\n",
    "def create_large_anime_vector(input_df):\n",
    "    return create_llma_anime_vector(input_df,embed_source='mBERT_embedding_large').drop(columns=[\"anime_id\",\"user_id\"])\n",
    "def create_small_anime_vector(input_df):\n",
    "    return create_llma_anime_vector(input_df,embed_source='mBERT_embedding_small').drop(columns=[\"anime_id\",\"user_id\"])\n",
    "\n",
    "def create_01EDA_anime_embed(input_df):\n",
    "    return create_llma_anime_embed(input_df,embed_source='mBERT_embedding_01EDA').drop(columns=[\"anime_id\",\"user_id\"])\n",
    "def create_large_anime_embed(input_df):\n",
    "    return create_llma_anime_embed(input_df,embed_source='mBERT_embedding_large').drop(columns=[\"anime_id\",\"user_id\"])\n",
    "def create_small_anime_embed(input_df):\n",
    "    return create_llma_anime_embed(input_df,embed_source='mBERT_embedding_small').drop(columns=[\"anime_id\",\"user_id\"])\n",
    "\n",
    "def create_w2v_anime_vector(input_df,mode='anime'):\n",
    "    text_columns = ['genres', 'japanese_name', 'type', 'episodes', 'aired', 'producers', 'licensors', 'studios', 'source']\n",
    "    text_data = anime_df[text_columns].astype(str).apply(lambda x: ';;'.join(x), axis=1).tolist()\n",
    "\n",
    "    text1 = [x.strip() for _ in text_data for x in re.split(';;',_) ] # テキストデータをコンマやセミコロンで分割して、空白を除去する\n",
    "    text_data.append(text1)\n",
    "    shuffled_sentence_list = [random.sample(sentence, len(sentence)) for sentence in text_data] \n",
    "    train_sentence_list = text_data + shuffled_sentence_list\n",
    "    vector_size = 128\n",
    "    w2v_params = {\n",
    "        \"vector_size\": vector_size,  ## <= 変更点\n",
    "        \"seed\": 42,\n",
    "        \"min_count\": 1,\n",
    "        \"workers\": 1\n",
    "    }\n",
    "\n",
    "    # word2vecのモデル学習\n",
    "    try:\n",
    "        model = Word2Vec.load('model/w2v.model')\n",
    "    except:\n",
    "        model = word2vec.Word2Vec(train_sentence_list, **w2v_params)\n",
    "        model.save('model/w2v.model')\n",
    "    vects = {}\n",
    "    for i, row in anime_df.iterrows():\n",
    "        vect = []\n",
    "        for col in text_columns:\n",
    "            vect.append(model.wv[row[col]])\n",
    "        vects[row.anime_id] = np.concatenate(vect,axis=0)\n",
    "    wv_matirx = pd.DataFrame(vects).T\n",
    "    svd = TruncatedSVD(n_components=30,random_state=42)\n",
    "\n",
    "    svd_cos = svd.fit_transform(all_similarity(wv_matirx.values))\n",
    "    print('Word2Vec:',svd.explained_variance_ratio_.sum())\n",
    "    \n",
    "    wv_cos = pd.DataFrame(svd_cos,\n",
    "                          index=wv_matirx.index.values.tolist(),\n",
    "                          columns=[f\"wv_{mode}_cos_vec_{i}\" for i in range(svd_cos.shape[1])]\n",
    "                          )\n",
    "    wv_cos.index.name = 'anime_id'\n",
    "    return merge_by_anime_id_with(input_df,wv_cos.reindex())\n",
    "\n",
    "def create_w2v_anime_embed(input_df,mode='anime'):\n",
    "    text_columns = ['genres', 'japanese_name', 'type', 'episodes', 'aired', 'producers', 'licensors', 'studios', 'source']\n",
    "    text_data = anime_df[text_columns].astype(str).apply(lambda x: ';;'.join(x), axis=1).tolist()\n",
    "\n",
    "    text1 = [x.strip() for _ in text_data for x in re.split(';;',_) ] # テキストデータをコンマやセミコロンで分割して、空白を除去する\n",
    "    text_data.append(text1)\n",
    "    shuffled_sentence_list = [random.sample(sentence, len(sentence)) for sentence in text_data] \n",
    "    train_sentence_list = text_data + shuffled_sentence_list\n",
    "    vector_size = 128\n",
    "    w2v_params = {\n",
    "        \"vector_size\": vector_size,  ## <= 変更点\n",
    "        \"seed\": 42,\n",
    "        \"min_count\": 1,\n",
    "        \"workers\": 1\n",
    "    }\n",
    "\n",
    "    # word2vecのモデル学習\n",
    "    try:\n",
    "        model = Word2Vec.load('model/w2v.model')\n",
    "    except:\n",
    "        model = word2vec.Word2Vec(train_sentence_list, **w2v_params)\n",
    "        model.save('model/w2v.model')\n",
    "    vects = {}\n",
    "    for i, row in anime_df.iterrows():\n",
    "        vect = []\n",
    "        for col in text_columns:\n",
    "            vect.append(model.wv[row[col]])\n",
    "        vects[row.anime_id] = np.concatenate(vect,axis=0)\n",
    "    wv_matirx = pd.DataFrame(vects).T\n",
    "    svd = TruncatedSVD(n_components=20,random_state=42)\n",
    "\n",
    "    svd_cos = svd.fit_transform(all_similarity(wv_matirx.values))\n",
    "    print(svd.explained_variance_ratio_.sum())\n",
    "    \n",
    "    wv_cos = pd.DataFrame(svd_cos,\n",
    "                          index=wv_matirx.index.values.tolist(),\n",
    "                          columns=[f\"wv_{mode}_embed_{i}\" for i in range(svd_cos.shape[1])]\n",
    "                          )\n",
    "    wv_cos.index.name = 'anime_id'\n",
    "    return merge_by_anime_id_with(input_df,wv_cos.reindex())\n",
    "\n",
    "def create_w2v_user_vector(input_df):\n",
    "    df = pd.concat([train_df,test_df])\n",
    "    matrix = create_w2v_anime_vector(df,mode='user_mean').drop(['anime_id','score'],axis=1)\n",
    "    user_matrix_mean = matrix.groupby('user_id').mean()\n",
    "    user_matrix_std = matrix.groupby('user_id').std()\n",
    "    user_matrix_skew = matrix.groupby('user_id').skew()\n",
    "    user_matrix_var = matrix.groupby('user_id').var()\n",
    "    # user_matrix_sum = matrix.groupby('user_id').sum()\n",
    "    \n",
    "    \n",
    "    svd = TruncatedSVD(n_components=20,random_state=42)\n",
    "    mean_cos = svd.fit_transform(all_similarity(user_matrix_mean.values))\n",
    "    print('mean_user:',svd.explained_variance_ratio_.sum())\n",
    "    \n",
    "    # svd = TruncatedSVD(n_components=20,random_state=42)\n",
    "    # sum_cos = svd.fit_transform(cosine_similarity(user_matrix_sum))\n",
    "    # print('sum_user:',svd.explained_variance_ratio_.sum())\n",
    "    \n",
    "    user_mean_cos_matrix = pd.DataFrame(mean_cos,\n",
    "                          index=user_matrix_mean.index.values.tolist(),\n",
    "                          columns=[f\"w2v_mean_user_cos_{i}\" for i in range(mean_cos.shape[1])]\n",
    "                          )\n",
    "    \n",
    "    # user_sum_cos_matrix = pd.DataFrame(sum_cos,\n",
    "    #                       index=user_matrix_sum.index.values.tolist(),\n",
    "    #                       columns=[f\"w2v_sum_user_cos_{i}\" for i in range(sum_cos.shape[1])]\n",
    "    #                       )\n",
    "    # user_embed_mean = create_w2v_anime_embed(df,mode='user_mean').drop(['anime_id','score'],axis=1).groupby('user_id').mean()\n",
    "    # user_embed_std = create_w2v_anime_embed(df,mode='user_std').drop(['anime_id','score'],axis=1).groupby('user_id').std()\n",
    "    # user_embed_skew = create_w2v_anime_embed(df,mode='user_skew').drop(['anime_id','score'],axis=1).groupby('user_id').skew()\n",
    "    # user_embed_var = create_w2v_anime_embed(df,mode='user_var').drop(['anime_id','score'],axis=1).groupby('user_id').var()\n",
    "    \n",
    "    user_matrix = pd.concat([user_matrix_mean,user_matrix_std,user_matrix_skew,user_matrix_var,user_mean_cos_matrix],axis=1).reindex()\n",
    "    user_matrix.index.name='user_id'\n",
    "    return merge_by_user_id_with(input_df, user_matrix).drop('user_id',axis=1)"
   ]
  },
  {
   "cell_type": "code",
   "execution_count": 37,
   "metadata": {},
   "outputs": [],
   "source": [
    "def create_feature(input_df):\n",
    "    \n",
    "    # functions に特徴量作成関数を配列で定義しました.\n",
    "    # どの関数も同じ input / output のインターフェイスなので for で回せて嬉しいですね ;)\n",
    "    functions = [\n",
    "        create_tf_user_anime_vector,\n",
    "        create_tfidf_matrix,\n",
    "        create_w2v_anime_vector,\n",
    "        # create_w2v_anime_embed,\n",
    "        # num_user_vector,\n",
    "\n",
    "        create_w2v_user_vector,\n",
    "        create_01EDA_user_vector,\n",
    "        create_large_user_vector,\n",
    "        create_small_user_vector,\n",
    "\n",
    "        create_anime_numeric_feature,\n",
    "        create_anime_type_count_encoding,\n",
    "        \n",
    "        # create_anime_type_one_hot_encoding,\n",
    "        create_genres_onehot_encoding,\n",
    "        # create_producer_onehot_encoding,\n",
    "        # create_licensors_count_encoding,\n",
    "    \n",
    "        create_studio_count_encoding,\n",
    "        create_source_count_encoding,\n",
    "        create_rating_count_encoding,\n",
    "        create_duration2min,\n",
    "\n",
    "        create_01EDA_anime_vector,\n",
    "        create_large_anime_vector,\n",
    "        create_small_anime_vector,\n",
    "        # create_01EDA_anime_embed,\n",
    "        # create_large_anime_embed,\n",
    "        # create_small_anime_embed,\n",
    "        year_pre,\n",
    "    ]\n",
    "    \n",
    "    out_df = pd.DataFrame()\n",
    "    for func in tqdm(functions):\n",
    "        func_name = str(func.__name__)\n",
    "\n",
    "        _df = func(input_df)\n",
    "        out_df = pd.concat([out_df, _df], axis=1)\n",
    "        \n",
    "    return out_df"
   ]
  },
  {
   "cell_type": "code",
   "execution_count": 38,
   "metadata": {},
   "outputs": [
    {
     "data": {
      "application/vnd.jupyter.widget-view+json": {
       "model_id": "5bbad7b321ff470bbb498ac247d92324",
       "version_major": 2,
       "version_minor": 0
      },
      "text/plain": [
       "  0%|          | 0/18 [00:00<?, ?it/s]"
      ]
     },
     "metadata": {},
     "output_type": "display_data"
    },
    {
     "name": "stdout",
     "output_type": "stream",
     "text": [
      "loaded tf\n"
     ]
    },
    {
     "name": "stderr",
     "output_type": "stream",
     "text": [
      "e:\\Envs\\kaggle1\\lib\\site-packages\\sklearn\\metrics\\pairwise.py:2008: DataConversionWarning: Data was converted to boolean for metric jaccard\n",
      "  warnings.warn(msg, DataConversionWarning)\n"
     ]
    },
    {
     "name": "stdout",
     "output_type": "stream",
     "text": [
      "tfdf: 0.8592416710917945\n"
     ]
    },
    {
     "name": "stderr",
     "output_type": "stream",
     "text": [
      "e:\\Envs\\kaggle1\\lib\\site-packages\\sklearn\\metrics\\pairwise.py:2008: DataConversionWarning: Data was converted to boolean for metric jaccard\n",
      "  warnings.warn(msg, DataConversionWarning)\n"
     ]
    },
    {
     "name": "stdout",
     "output_type": "stream",
     "text": [
      "mean_user: 0.985729634044872\n",
      "sum_user: 0.9998006758732222\n",
      "loaded tf\n"
     ]
    },
    {
     "name": "stderr",
     "output_type": "stream",
     "text": [
      "e:\\Envs\\kaggle1\\lib\\site-packages\\sklearn\\metrics\\pairwise.py:2008: DataConversionWarning: Data was converted to boolean for metric jaccard\n",
      "  warnings.warn(msg, DataConversionWarning)\n"
     ]
    },
    {
     "name": "stdout",
     "output_type": "stream",
     "text": [
      "tfdf: 0.8592416710917945\n"
     ]
    },
    {
     "name": "stderr",
     "output_type": "stream",
     "text": [
      "e:\\Envs\\kaggle1\\lib\\site-packages\\sklearn\\metrics\\pairwise.py:2008: DataConversionWarning: Data was converted to boolean for metric jaccard\n",
      "  warnings.warn(msg, DataConversionWarning)\n"
     ]
    },
    {
     "name": "stdout",
     "output_type": "stream",
     "text": [
      "Word2Vec: 0.9998083711847855\n"
     ]
    },
    {
     "name": "stderr",
     "output_type": "stream",
     "text": [
      "e:\\Envs\\kaggle1\\lib\\site-packages\\sklearn\\metrics\\pairwise.py:2008: DataConversionWarning: Data was converted to boolean for metric jaccard\n",
      "  warnings.warn(msg, DataConversionWarning)\n"
     ]
    },
    {
     "name": "stdout",
     "output_type": "stream",
     "text": [
      "Word2Vec: 0.9998083711847855\n"
     ]
    },
    {
     "name": "stderr",
     "output_type": "stream",
     "text": [
      "e:\\Envs\\kaggle1\\lib\\site-packages\\sklearn\\metrics\\pairwise.py:2008: DataConversionWarning: Data was converted to boolean for metric jaccard\n",
      "  warnings.warn(msg, DataConversionWarning)\n"
     ]
    },
    {
     "name": "stdout",
     "output_type": "stream",
     "text": [
      "mean_user: 0.9964901206804535\n"
     ]
    },
    {
     "name": "stderr",
     "output_type": "stream",
     "text": [
      "e:\\Envs\\kaggle1\\lib\\site-packages\\sklearn\\metrics\\pairwise.py:2008: DataConversionWarning: Data was converted to boolean for metric jaccard\n",
      "  warnings.warn(msg, DataConversionWarning)\n"
     ]
    },
    {
     "name": "stdout",
     "output_type": "stream",
     "text": [
      "sum_user: 0.9996314362413349\n"
     ]
    },
    {
     "name": "stderr",
     "output_type": "stream",
     "text": [
      "e:\\Envs\\kaggle1\\lib\\site-packages\\sklearn\\metrics\\pairwise.py:2008: DataConversionWarning: Data was converted to boolean for metric jaccard\n",
      "  warnings.warn(msg, DataConversionWarning)\n",
      "e:\\Envs\\kaggle1\\lib\\site-packages\\sklearn\\metrics\\pairwise.py:2008: DataConversionWarning: Data was converted to boolean for metric jaccard\n",
      "  warnings.warn(msg, DataConversionWarning)\n"
     ]
    },
    {
     "name": "stdout",
     "output_type": "stream",
     "text": [
      "mean_user: 0.9946424370278694\n",
      "sum_user: 0.9999999999999988\n"
     ]
    },
    {
     "name": "stderr",
     "output_type": "stream",
     "text": [
      "e:\\Envs\\kaggle1\\lib\\site-packages\\sklearn\\metrics\\pairwise.py:2008: DataConversionWarning: Data was converted to boolean for metric jaccard\n",
      "  warnings.warn(msg, DataConversionWarning)\n",
      "e:\\Envs\\kaggle1\\lib\\site-packages\\sklearn\\metrics\\pairwise.py:2008: DataConversionWarning: Data was converted to boolean for metric jaccard\n",
      "  warnings.warn(msg, DataConversionWarning)\n"
     ]
    },
    {
     "name": "stdout",
     "output_type": "stream",
     "text": [
      "mean_user: 0.9889244038027633\n",
      "sum_user: 0.9999999999999969\n"
     ]
    },
    {
     "name": "stderr",
     "output_type": "stream",
     "text": [
      "e:\\Envs\\kaggle1\\lib\\site-packages\\sklearn\\metrics\\pairwise.py:2008: DataConversionWarning: Data was converted to boolean for metric jaccard\n",
      "  warnings.warn(msg, DataConversionWarning)\n",
      "e:\\Envs\\kaggle1\\lib\\site-packages\\sklearn\\metrics\\pairwise.py:2008: DataConversionWarning: Data was converted to boolean for metric jaccard\n",
      "  warnings.warn(msg, DataConversionWarning)\n"
     ]
    },
    {
     "name": "stdout",
     "output_type": "stream",
     "text": [
      "mean_user: 0.99145061703735\n"
     ]
    },
    {
     "name": "stderr",
     "output_type": "stream",
     "text": [
      "e:\\Envs\\kaggle1\\lib\\site-packages\\sklearn\\metrics\\pairwise.py:2008: DataConversionWarning: Data was converted to boolean for metric jaccard\n",
      "  warnings.warn(msg, DataConversionWarning)\n"
     ]
    },
    {
     "name": "stdout",
     "output_type": "stream",
     "text": [
      "sum_user: 0.9999199455649009\n"
     ]
    },
    {
     "name": "stderr",
     "output_type": "stream",
     "text": [
      "C:\\Users\\Horikita_Saku\\AppData\\Local\\Temp\\ipykernel_11328\\3241752027.py:172: SettingWithCopyWarning: \n",
      "A value is trying to be set on a copy of a slice from a DataFrame.\n",
      "Try using .loc[row_indexer,col_indexer] = value instead\n",
      "\n",
      "See the caveats in the documentation: https://pandas.pydata.org/pandas-docs/stable/user_guide/indexing.html#returning-a-view-versus-a-copy\n",
      "  genres.loc[:,chars] = 0\n",
      "C:\\Users\\Horikita_Saku\\AppData\\Local\\Temp\\ipykernel_11328\\3241752027.py:172: DeprecationWarning: In a future version, `df.iloc[:, i] = newvals` will attempt to set the values inplace instead of always setting a new array. To retain the old behavior, use either `df[df.columns[i]] = newvals` or, if columns are non-unique, `df.isetitem(i, newvals)`\n",
      "  genres.loc[:,chars] = 0\n",
      "C:\\Users\\Horikita_Saku\\AppData\\Local\\Temp\\ipykernel_11328\\3241752027.py:173: SettingWithCopyWarning: \n",
      "A value is trying to be set on a copy of a slice from a DataFrame.\n",
      "Try using .loc[row_indexer,col_indexer] = value instead\n",
      "\n",
      "See the caveats in the documentation: https://pandas.pydata.org/pandas-docs/stable/user_guide/indexing.html#returning-a-view-versus-a-copy\n",
      "  genres['genres'] = genres['genres'].str.split(',')\n",
      "C:\\Users\\Horikita_Saku\\AppData\\Local\\Temp\\ipykernel_11328\\3241752027.py:214: SettingWithCopyWarning: \n",
      "A value is trying to be set on a copy of a slice from a DataFrame.\n",
      "Try using .loc[row_indexer,col_indexer] = value instead\n",
      "\n",
      "See the caveats in the documentation: https://pandas.pydata.org/pandas-docs/stable/user_guide/indexing.html#returning-a-view-versus-a-copy\n",
      "  time_min['minutes'] = anime_df['duration'].apply(to_minutes)\n",
      "e:\\Envs\\kaggle1\\lib\\site-packages\\sklearn\\metrics\\pairwise.py:2008: DataConversionWarning: Data was converted to boolean for metric jaccard\n",
      "  warnings.warn(msg, DataConversionWarning)\n",
      "e:\\Envs\\kaggle1\\lib\\site-packages\\sklearn\\metrics\\pairwise.py:2008: DataConversionWarning: Data was converted to boolean for metric jaccard\n",
      "  warnings.warn(msg, DataConversionWarning)\n",
      "e:\\Envs\\kaggle1\\lib\\site-packages\\sklearn\\metrics\\pairwise.py:2008: DataConversionWarning: Data was converted to boolean for metric jaccard\n",
      "  warnings.warn(msg, DataConversionWarning)\n",
      "C:\\Users\\Horikita_Saku\\AppData\\Local\\Temp\\ipykernel_11328\\3241752027.py:227: SettingWithCopyWarning: \n",
      "A value is trying to be set on a copy of a slice from a DataFrame.\n",
      "Try using .loc[row_indexer,col_indexer] = value instead\n",
      "\n",
      "See the caveats in the documentation: https://pandas.pydata.org/pandas-docs/stable/user_guide/indexing.html#returning-a-view-versus-a-copy\n",
      "  year['year'] = encoder.fit_transform(anime_df['aired'].apply(to_year))\n"
     ]
    },
    {
     "data": {
      "application/vnd.jupyter.widget-view+json": {
       "model_id": "de4b0f3bdb2647ffb1a41a769ba62cc1",
       "version_major": 2,
       "version_minor": 0
      },
      "text/plain": [
       "  0%|          | 0/18 [00:00<?, ?it/s]"
      ]
     },
     "metadata": {},
     "output_type": "display_data"
    },
    {
     "name": "stdout",
     "output_type": "stream",
     "text": [
      "loaded tf\n"
     ]
    },
    {
     "name": "stderr",
     "output_type": "stream",
     "text": [
      "e:\\Envs\\kaggle1\\lib\\site-packages\\sklearn\\metrics\\pairwise.py:2008: DataConversionWarning: Data was converted to boolean for metric jaccard\n",
      "  warnings.warn(msg, DataConversionWarning)\n"
     ]
    },
    {
     "name": "stdout",
     "output_type": "stream",
     "text": [
      "tfdf: 0.8592416710917945\n"
     ]
    },
    {
     "name": "stderr",
     "output_type": "stream",
     "text": [
      "e:\\Envs\\kaggle1\\lib\\site-packages\\sklearn\\metrics\\pairwise.py:2008: DataConversionWarning: Data was converted to boolean for metric jaccard\n",
      "  warnings.warn(msg, DataConversionWarning)\n"
     ]
    },
    {
     "name": "stdout",
     "output_type": "stream",
     "text": [
      "mean_user: 0.985729634044872\n",
      "sum_user: 0.9998006758732222\n",
      "loaded tf\n"
     ]
    },
    {
     "name": "stderr",
     "output_type": "stream",
     "text": [
      "e:\\Envs\\kaggle1\\lib\\site-packages\\sklearn\\metrics\\pairwise.py:2008: DataConversionWarning: Data was converted to boolean for metric jaccard\n",
      "  warnings.warn(msg, DataConversionWarning)\n"
     ]
    },
    {
     "name": "stdout",
     "output_type": "stream",
     "text": [
      "tfdf: 0.8592416710917945\n"
     ]
    },
    {
     "name": "stderr",
     "output_type": "stream",
     "text": [
      "e:\\Envs\\kaggle1\\lib\\site-packages\\sklearn\\metrics\\pairwise.py:2008: DataConversionWarning: Data was converted to boolean for metric jaccard\n",
      "  warnings.warn(msg, DataConversionWarning)\n"
     ]
    },
    {
     "name": "stdout",
     "output_type": "stream",
     "text": [
      "Word2Vec: 0.9998083711847855\n"
     ]
    },
    {
     "name": "stderr",
     "output_type": "stream",
     "text": [
      "e:\\Envs\\kaggle1\\lib\\site-packages\\sklearn\\metrics\\pairwise.py:2008: DataConversionWarning: Data was converted to boolean for metric jaccard\n",
      "  warnings.warn(msg, DataConversionWarning)\n"
     ]
    },
    {
     "name": "stdout",
     "output_type": "stream",
     "text": [
      "Word2Vec: 0.9998083711847855\n"
     ]
    },
    {
     "name": "stderr",
     "output_type": "stream",
     "text": [
      "e:\\Envs\\kaggle1\\lib\\site-packages\\sklearn\\metrics\\pairwise.py:2008: DataConversionWarning: Data was converted to boolean for metric jaccard\n",
      "  warnings.warn(msg, DataConversionWarning)\n"
     ]
    },
    {
     "name": "stdout",
     "output_type": "stream",
     "text": [
      "mean_user: 0.9964901206804535\n"
     ]
    },
    {
     "name": "stderr",
     "output_type": "stream",
     "text": [
      "e:\\Envs\\kaggle1\\lib\\site-packages\\sklearn\\metrics\\pairwise.py:2008: DataConversionWarning: Data was converted to boolean for metric jaccard\n",
      "  warnings.warn(msg, DataConversionWarning)\n"
     ]
    },
    {
     "name": "stdout",
     "output_type": "stream",
     "text": [
      "sum_user: 0.9996314362413349\n"
     ]
    },
    {
     "name": "stderr",
     "output_type": "stream",
     "text": [
      "e:\\Envs\\kaggle1\\lib\\site-packages\\sklearn\\metrics\\pairwise.py:2008: DataConversionWarning: Data was converted to boolean for metric jaccard\n",
      "  warnings.warn(msg, DataConversionWarning)\n",
      "e:\\Envs\\kaggle1\\lib\\site-packages\\sklearn\\metrics\\pairwise.py:2008: DataConversionWarning: Data was converted to boolean for metric jaccard\n",
      "  warnings.warn(msg, DataConversionWarning)\n"
     ]
    },
    {
     "name": "stdout",
     "output_type": "stream",
     "text": [
      "mean_user: 0.9946424370278694\n",
      "sum_user: 0.9999999999999988\n"
     ]
    },
    {
     "name": "stderr",
     "output_type": "stream",
     "text": [
      "e:\\Envs\\kaggle1\\lib\\site-packages\\sklearn\\metrics\\pairwise.py:2008: DataConversionWarning: Data was converted to boolean for metric jaccard\n",
      "  warnings.warn(msg, DataConversionWarning)\n",
      "e:\\Envs\\kaggle1\\lib\\site-packages\\sklearn\\metrics\\pairwise.py:2008: DataConversionWarning: Data was converted to boolean for metric jaccard\n",
      "  warnings.warn(msg, DataConversionWarning)\n"
     ]
    },
    {
     "name": "stdout",
     "output_type": "stream",
     "text": [
      "mean_user: 0.9889244038027633\n",
      "sum_user: 0.9999999999999969\n"
     ]
    },
    {
     "name": "stderr",
     "output_type": "stream",
     "text": [
      "e:\\Envs\\kaggle1\\lib\\site-packages\\sklearn\\metrics\\pairwise.py:2008: DataConversionWarning: Data was converted to boolean for metric jaccard\n",
      "  warnings.warn(msg, DataConversionWarning)\n",
      "e:\\Envs\\kaggle1\\lib\\site-packages\\sklearn\\metrics\\pairwise.py:2008: DataConversionWarning: Data was converted to boolean for metric jaccard\n",
      "  warnings.warn(msg, DataConversionWarning)\n"
     ]
    },
    {
     "name": "stdout",
     "output_type": "stream",
     "text": [
      "mean_user: 0.99145061703735\n"
     ]
    },
    {
     "name": "stderr",
     "output_type": "stream",
     "text": [
      "e:\\Envs\\kaggle1\\lib\\site-packages\\sklearn\\metrics\\pairwise.py:2008: DataConversionWarning: Data was converted to boolean for metric jaccard\n",
      "  warnings.warn(msg, DataConversionWarning)\n"
     ]
    },
    {
     "name": "stdout",
     "output_type": "stream",
     "text": [
      "sum_user: 0.9999199455649009\n"
     ]
    },
    {
     "name": "stderr",
     "output_type": "stream",
     "text": [
      "C:\\Users\\Horikita_Saku\\AppData\\Local\\Temp\\ipykernel_11328\\3241752027.py:172: SettingWithCopyWarning: \n",
      "A value is trying to be set on a copy of a slice from a DataFrame.\n",
      "Try using .loc[row_indexer,col_indexer] = value instead\n",
      "\n",
      "See the caveats in the documentation: https://pandas.pydata.org/pandas-docs/stable/user_guide/indexing.html#returning-a-view-versus-a-copy\n",
      "  genres.loc[:,chars] = 0\n",
      "C:\\Users\\Horikita_Saku\\AppData\\Local\\Temp\\ipykernel_11328\\3241752027.py:172: DeprecationWarning: In a future version, `df.iloc[:, i] = newvals` will attempt to set the values inplace instead of always setting a new array. To retain the old behavior, use either `df[df.columns[i]] = newvals` or, if columns are non-unique, `df.isetitem(i, newvals)`\n",
      "  genres.loc[:,chars] = 0\n",
      "C:\\Users\\Horikita_Saku\\AppData\\Local\\Temp\\ipykernel_11328\\3241752027.py:173: SettingWithCopyWarning: \n",
      "A value is trying to be set on a copy of a slice from a DataFrame.\n",
      "Try using .loc[row_indexer,col_indexer] = value instead\n",
      "\n",
      "See the caveats in the documentation: https://pandas.pydata.org/pandas-docs/stable/user_guide/indexing.html#returning-a-view-versus-a-copy\n",
      "  genres['genres'] = genres['genres'].str.split(',')\n",
      "C:\\Users\\Horikita_Saku\\AppData\\Local\\Temp\\ipykernel_11328\\3241752027.py:214: SettingWithCopyWarning: \n",
      "A value is trying to be set on a copy of a slice from a DataFrame.\n",
      "Try using .loc[row_indexer,col_indexer] = value instead\n",
      "\n",
      "See the caveats in the documentation: https://pandas.pydata.org/pandas-docs/stable/user_guide/indexing.html#returning-a-view-versus-a-copy\n",
      "  time_min['minutes'] = anime_df['duration'].apply(to_minutes)\n",
      "e:\\Envs\\kaggle1\\lib\\site-packages\\sklearn\\metrics\\pairwise.py:2008: DataConversionWarning: Data was converted to boolean for metric jaccard\n",
      "  warnings.warn(msg, DataConversionWarning)\n",
      "e:\\Envs\\kaggle1\\lib\\site-packages\\sklearn\\metrics\\pairwise.py:2008: DataConversionWarning: Data was converted to boolean for metric jaccard\n",
      "  warnings.warn(msg, DataConversionWarning)\n",
      "e:\\Envs\\kaggle1\\lib\\site-packages\\sklearn\\metrics\\pairwise.py:2008: DataConversionWarning: Data was converted to boolean for metric jaccard\n",
      "  warnings.warn(msg, DataConversionWarning)\n",
      "C:\\Users\\Horikita_Saku\\AppData\\Local\\Temp\\ipykernel_11328\\3241752027.py:227: SettingWithCopyWarning: \n",
      "A value is trying to be set on a copy of a slice from a DataFrame.\n",
      "Try using .loc[row_indexer,col_indexer] = value instead\n",
      "\n",
      "See the caveats in the documentation: https://pandas.pydata.org/pandas-docs/stable/user_guide/indexing.html#returning-a-view-versus-a-copy\n",
      "  year['year'] = encoder.fit_transform(anime_df['aired'].apply(to_year))\n"
     ]
    }
   ],
   "source": [
    "# train_df, test_df = add_w2v_features(train_df, test_df)\n",
    "if struct == 'lgbm':\n",
    "    train_feat_df = create_feature(train_df)\n",
    "    test_feat_df = create_feature(test_df)\n",
    "    for text_col in ['anime_id','score','user_id']:\n",
    "        if text_col in train_feat_df.columns:\n",
    "            train_feat_df = train_feat_df.drop(columns=text_col)\n",
    "        if text_col in test_feat_df.columns:\n",
    "            test_feat_df = test_feat_df.drop(columns=text_col)\n",
    "    X = train_feat_df.values\n",
    "    y = train_df[\"score\"].values"
   ]
  },
  {
   "cell_type": "code",
   "execution_count": 39,
   "metadata": {},
   "outputs": [
    {
     "data": {
      "text/plain": [
       "((136401, 834), (117676, 834))"
      ]
     },
     "execution_count": 39,
     "metadata": {},
     "output_type": "execute_result"
    }
   ],
   "source": [
    "train_feat_df.shape, test_feat_df.shape\n",
    "# set(train_feat_df.columns)-set(test_feat_df.columns)"
   ]
  },
  {
   "cell_type": "markdown",
   "metadata": {},
   "source": [
    "# Train"
   ]
  },
  {
   "cell_type": "code",
   "execution_count": 11,
   "metadata": {},
   "outputs": [
    {
     "name": "stdout",
     "output_type": "stream",
     "text": [
      "  0%|          | 0/100 [00:00<?, ?trial/s, best loss=?]"
     ]
    },
    {
     "data": {
      "application/vnd.jupyter.widget-view+json": {
       "model_id": "676885272e2d4a75b03ccf10e461746f",
       "version_major": 2,
       "version_minor": 0
      },
      "text/plain": [
       "  0%|          | 0/2 [00:00<?, ?it/s]"
      ]
     },
     "metadata": {},
     "output_type": "display_data"
    },
    {
     "name": "stdout",
     "output_type": "stream",
     "text": [
      "[LightGBM] [Warning] feature_fraction is set=0.7682606463661225, colsample_bytree=1.0 will be ignored. Current value: feature_fraction=0.7682606463661225\n",
      "[LightGBM] [Warning] min_data_in_leaf is set=70, min_child_samples=20 will be ignored. Current value: min_data_in_leaf=70\n",
      "[LightGBM] [Warning] min_gain_to_split is set=0.026158221511112304, min_split_gain=0.0 will be ignored. Current value: min_gain_to_split=0.026158221511112304\n",
      "[LightGBM] [Warning] bagging_fraction is set=0.6453295538899273, subsample=1.0 will be ignored. Current value: bagging_fraction=0.6453295538899273\n",
      "[LightGBM] [Warning] bagging_freq is set=9, subsample_freq=0 will be ignored. Current value: bagging_freq=9\n",
      "  0%|          | 0/100 [00:00<?, ?trial/s, best loss=?]"
     ]
    },
    {
     "name": "stderr",
     "output_type": "stream",
     "text": [
      "e:\\Envs\\kaggle1\\lib\\site-packages\\lightgbm\\sklearn.py:726: UserWarning: 'early_stopping_rounds' argument is deprecated and will be removed in a future release of LightGBM. Pass 'early_stopping()' callback via 'callbacks' argument instead.\n",
      "  _log_warning(\"'early_stopping_rounds' argument is deprecated and will be removed in a future release of LightGBM. \"\n",
      "\n",
      "e:\\Envs\\kaggle1\\lib\\site-packages\\lightgbm\\sklearn.py:736: UserWarning: 'verbose' argument is deprecated and will be removed in a future release of LightGBM. Pass 'log_evaluation()' callback via 'callbacks' argument instead.\n",
      "  _log_warning(\"'verbose' argument is deprecated and will be removed in a future release of LightGBM. \"\n",
      "\n"
     ]
    },
    {
     "name": "stdout",
     "output_type": "stream",
     "text": [
      "[100]\tvalid_0's rmse: 1.1956                           \n",
      "[200]\tvalid_0's rmse: 1.18617                          \n",
      "[300]\tvalid_0's rmse: 1.18228                          \n",
      "[400]\tvalid_0's rmse: 1.1808                           \n",
      "[500]\tvalid_0's rmse: 1.18053                          \n",
      "[600]\tvalid_0's rmse: 1.17999                          \n",
      "[700]\tvalid_0's rmse: 1.17961                          \n",
      "[800]\tvalid_0's rmse: 1.17899                          \n",
      "[900]\tvalid_0's rmse: 1.17874                          \n",
      "[1000]\tvalid_0's rmse: 1.17871                         \n",
      "[1100]\tvalid_0's rmse: 1.17948                         \n",
      "[1200]\tvalid_0's rmse: 1.17946                         \n",
      " - fold1 - 1.1786                                      \n",
      "[LightGBM] [Warning] feature_fraction is set=0.7682606463661225, colsample_bytree=1.0 will be ignored. Current value: feature_fraction=0.7682606463661225\n",
      "[LightGBM] [Warning] min_data_in_leaf is set=70, min_child_samples=20 will be ignored. Current value: min_data_in_leaf=70\n",
      "[LightGBM] [Warning] min_gain_to_split is set=0.026158221511112304, min_split_gain=0.0 will be ignored. Current value: min_gain_to_split=0.026158221511112304\n",
      "[LightGBM] [Warning] bagging_fraction is set=0.6453295538899273, subsample=1.0 will be ignored. Current value: bagging_fraction=0.6453295538899273\n",
      "[LightGBM] [Warning] bagging_freq is set=9, subsample_freq=0 will be ignored. Current value: bagging_freq=9\n",
      "  0%|          | 0/100 [01:42<?, ?trial/s, best loss=?]"
     ]
    },
    {
     "name": "stderr",
     "output_type": "stream",
     "text": [
      "e:\\Envs\\kaggle1\\lib\\site-packages\\lightgbm\\sklearn.py:726: UserWarning: 'early_stopping_rounds' argument is deprecated and will be removed in a future release of LightGBM. Pass 'early_stopping()' callback via 'callbacks' argument instead.\n",
      "  _log_warning(\"'early_stopping_rounds' argument is deprecated and will be removed in a future release of LightGBM. \"\n",
      "\n",
      "e:\\Envs\\kaggle1\\lib\\site-packages\\lightgbm\\sklearn.py:736: UserWarning: 'verbose' argument is deprecated and will be removed in a future release of LightGBM. Pass 'log_evaluation()' callback via 'callbacks' argument instead.\n",
      "  _log_warning(\"'verbose' argument is deprecated and will be removed in a future release of LightGBM. \"\n",
      "\n"
     ]
    },
    {
     "name": "stdout",
     "output_type": "stream",
     "text": [
      "[100]\tvalid_0's rmse: 1.19374                          \n",
      "[200]\tvalid_0's rmse: 1.18317                          \n",
      "[300]\tvalid_0's rmse: 1.18009                          \n",
      "[400]\tvalid_0's rmse: 1.17891                          \n",
      "[500]\tvalid_0's rmse: 1.1787                           \n",
      "[600]\tvalid_0's rmse: 1.17833                          \n",
      "[700]\tvalid_0's rmse: 1.17851                          \n",
      " - fold2 - 1.1781                                      \n",
      "==================================================     \n",
      "FINISHI: Whole Score: 1.1784                           \n",
      "  1%|          | 1/100 [02:45<4:33:37, 165.83s/trial, best loss: 1.1783529555634389]"
     ]
    },
    {
     "data": {
      "application/vnd.jupyter.widget-view+json": {
       "model_id": "a65b9bed25ce4ad3bd859e3e0533af54",
       "version_major": 2,
       "version_minor": 0
      },
      "text/plain": [
       "  0%|          | 0/2 [00:00<?, ?it/s]"
      ]
     },
     "metadata": {},
     "output_type": "display_data"
    },
    {
     "name": "stdout",
     "output_type": "stream",
     "text": [
      "[LightGBM] [Warning] feature_fraction is set=0.9067712052552812, colsample_bytree=1.0 will be ignored. Current value: feature_fraction=0.9067712052552812\n",
      "[LightGBM] [Warning] min_data_in_leaf is set=20, min_child_samples=20 will be ignored. Current value: min_data_in_leaf=20\n",
      "[LightGBM] [Warning] min_gain_to_split is set=0.030347408046082953, min_split_gain=0.0 will be ignored. Current value: min_gain_to_split=0.030347408046082953\n",
      "[LightGBM] [Warning] bagging_fraction is set=0.5560448122731437, subsample=1.0 will be ignored. Current value: bagging_fraction=0.5560448122731437\n",
      "[LightGBM] [Warning] bagging_freq is set=1, subsample_freq=0 will be ignored. Current value: bagging_freq=1\n",
      "  1%|          | 1/100 [02:46<4:33:37, 165.83s/trial, best loss: 1.1783529555634389]"
     ]
    },
    {
     "name": "stderr",
     "output_type": "stream",
     "text": [
      "e:\\Envs\\kaggle1\\lib\\site-packages\\lightgbm\\sklearn.py:726: UserWarning: 'early_stopping_rounds' argument is deprecated and will be removed in a future release of LightGBM. Pass 'early_stopping()' callback via 'callbacks' argument instead.\n",
      "  _log_warning(\"'early_stopping_rounds' argument is deprecated and will be removed in a future release of LightGBM. \"\n",
      "\n",
      "e:\\Envs\\kaggle1\\lib\\site-packages\\lightgbm\\sklearn.py:736: UserWarning: 'verbose' argument is deprecated and will be removed in a future release of LightGBM. Pass 'log_evaluation()' callback via 'callbacks' argument instead.\n",
      "  _log_warning(\"'verbose' argument is deprecated and will be removed in a future release of LightGBM. \"\n",
      "\n"
     ]
    },
    {
     "name": "stdout",
     "output_type": "stream",
     "text": [
      "[100]\tvalid_0's rmse: 1.19416                                                       \n",
      "[200]\tvalid_0's rmse: 1.18812                                                       \n",
      "[300]\tvalid_0's rmse: 1.18549                                                       \n",
      "[400]\tvalid_0's rmse: 1.18457                                                       \n",
      "[500]\tvalid_0's rmse: 1.18447                                                       \n",
      "[600]\tvalid_0's rmse: 1.18526                                                       \n",
      "[700]\tvalid_0's rmse: 1.18575                                                       \n",
      " - fold1 - 1.1843                                                                   \n",
      "[LightGBM] [Warning] feature_fraction is set=0.9067712052552812, colsample_bytree=1.0 will be ignored. Current value: feature_fraction=0.9067712052552812\n",
      "[LightGBM] [Warning] min_data_in_leaf is set=20, min_child_samples=20 will be ignored. Current value: min_data_in_leaf=20\n",
      "[LightGBM] [Warning] min_gain_to_split is set=0.030347408046082953, min_split_gain=0.0 will be ignored. Current value: min_gain_to_split=0.030347408046082953\n",
      "[LightGBM] [Warning] bagging_fraction is set=0.5560448122731437, subsample=1.0 will be ignored. Current value: bagging_fraction=0.5560448122731437\n",
      "[LightGBM] [Warning] bagging_freq is set=1, subsample_freq=0 will be ignored. Current value: bagging_freq=1\n",
      "  1%|          | 1/100 [04:41<4:33:37, 165.83s/trial, best loss: 1.1783529555634389]"
     ]
    },
    {
     "name": "stderr",
     "output_type": "stream",
     "text": [
      "e:\\Envs\\kaggle1\\lib\\site-packages\\lightgbm\\sklearn.py:726: UserWarning: 'early_stopping_rounds' argument is deprecated and will be removed in a future release of LightGBM. Pass 'early_stopping()' callback via 'callbacks' argument instead.\n",
      "  _log_warning(\"'early_stopping_rounds' argument is deprecated and will be removed in a future release of LightGBM. \"\n",
      "\n",
      "e:\\Envs\\kaggle1\\lib\\site-packages\\lightgbm\\sklearn.py:736: UserWarning: 'verbose' argument is deprecated and will be removed in a future release of LightGBM. Pass 'log_evaluation()' callback via 'callbacks' argument instead.\n",
      "  _log_warning(\"'verbose' argument is deprecated and will be removed in a future release of LightGBM. \"\n",
      "\n"
     ]
    },
    {
     "name": "stdout",
     "output_type": "stream",
     "text": [
      "[100]\tvalid_0's rmse: 1.19347                                                       \n",
      "[200]\tvalid_0's rmse: 1.18676                                                       \n",
      "[300]\tvalid_0's rmse: 1.18479                                                       \n",
      "[400]\tvalid_0's rmse: 1.18383                                                       \n",
      "[500]\tvalid_0's rmse: 1.18364                                                       \n",
      "[600]\tvalid_0's rmse: 1.18465                                                       \n",
      "[700]\tvalid_0's rmse: 1.18552                                                       \n",
      " - fold2 - 1.1836                                                                   \n",
      "==================================================                                  \n",
      "FINISHI: Whole Score: 1.1839                                                        \n",
      "  2%|▏         | 2/100 [06:25<5:22:32, 197.48s/trial, best loss: 1.1783529555634389]"
     ]
    },
    {
     "data": {
      "application/vnd.jupyter.widget-view+json": {
       "model_id": "3e139f3b1cb6439f866af467633a8ad9",
       "version_major": 2,
       "version_minor": 0
      },
      "text/plain": [
       "  0%|          | 0/2 [00:00<?, ?it/s]"
      ]
     },
     "metadata": {},
     "output_type": "display_data"
    },
    {
     "name": "stdout",
     "output_type": "stream",
     "text": [
      "[LightGBM] [Warning] feature_fraction is set=0.5102725981112339, colsample_bytree=1.0 will be ignored. Current value: feature_fraction=0.5102725981112339\n",
      "[LightGBM] [Warning] min_data_in_leaf is set=59, min_child_samples=20 will be ignored. Current value: min_data_in_leaf=59\n",
      "[LightGBM] [Warning] min_gain_to_split is set=0.010952925533159588, min_split_gain=0.0 will be ignored. Current value: min_gain_to_split=0.010952925533159588\n",
      "[LightGBM] [Warning] bagging_fraction is set=0.8635736825405296, subsample=1.0 will be ignored. Current value: bagging_fraction=0.8635736825405296\n",
      "[LightGBM] [Warning] bagging_freq is set=8, subsample_freq=0 will be ignored. Current value: bagging_freq=8\n",
      "  2%|▏         | 2/100 [06:26<5:22:32, 197.48s/trial, best loss: 1.1783529555634389]"
     ]
    },
    {
     "name": "stderr",
     "output_type": "stream",
     "text": [
      "e:\\Envs\\kaggle1\\lib\\site-packages\\lightgbm\\sklearn.py:726: UserWarning: 'early_stopping_rounds' argument is deprecated and will be removed in a future release of LightGBM. Pass 'early_stopping()' callback via 'callbacks' argument instead.\n",
      "  _log_warning(\"'early_stopping_rounds' argument is deprecated and will be removed in a future release of LightGBM. \"\n",
      "\n",
      "e:\\Envs\\kaggle1\\lib\\site-packages\\lightgbm\\sklearn.py:736: UserWarning: 'verbose' argument is deprecated and will be removed in a future release of LightGBM. Pass 'log_evaluation()' callback via 'callbacks' argument instead.\n",
      "  _log_warning(\"'verbose' argument is deprecated and will be removed in a future release of LightGBM. \"\n",
      "\n"
     ]
    },
    {
     "name": "stdout",
     "output_type": "stream",
     "text": [
      "[100]\tvalid_0's rmse: 1.1886                                                        \n",
      "[200]\tvalid_0's rmse: 1.18058                                                       \n",
      "[300]\tvalid_0's rmse: 1.17856                                                       \n",
      "[400]\tvalid_0's rmse: 1.17763                                                       \n",
      "[500]\tvalid_0's rmse: 1.17745                                                       \n",
      "[600]\tvalid_0's rmse: 1.17713                                                       \n",
      "[700]\tvalid_0's rmse: 1.17653                                                       \n",
      "[800]\tvalid_0's rmse: 1.17612                                                       \n",
      "[900]\tvalid_0's rmse: 1.17588                                                       \n",
      "[1000]\tvalid_0's rmse: 1.17584                                                      \n",
      "[1100]\tvalid_0's rmse: 1.176                                                        \n",
      "[1200]\tvalid_0's rmse: 1.17594                                                      \n",
      " - fold1 - 1.1758                                                                   \n",
      "[LightGBM] [Warning] feature_fraction is set=0.5102725981112339, colsample_bytree=1.0 will be ignored. Current value: feature_fraction=0.5102725981112339\n",
      "[LightGBM] [Warning] min_data_in_leaf is set=59, min_child_samples=20 will be ignored. Current value: min_data_in_leaf=59\n",
      "[LightGBM] [Warning] min_gain_to_split is set=0.010952925533159588, min_split_gain=0.0 will be ignored. Current value: min_gain_to_split=0.010952925533159588\n",
      "[LightGBM] [Warning] bagging_fraction is set=0.8635736825405296, subsample=1.0 will be ignored. Current value: bagging_fraction=0.8635736825405296\n",
      "[LightGBM] [Warning] bagging_freq is set=8, subsample_freq=0 will be ignored. Current value: bagging_freq=8\n",
      "  2%|▏         | 2/100 [08:31<5:22:32, 197.48s/trial, best loss: 1.1783529555634389]"
     ]
    },
    {
     "name": "stderr",
     "output_type": "stream",
     "text": [
      "e:\\Envs\\kaggle1\\lib\\site-packages\\lightgbm\\sklearn.py:726: UserWarning: 'early_stopping_rounds' argument is deprecated and will be removed in a future release of LightGBM. Pass 'early_stopping()' callback via 'callbacks' argument instead.\n",
      "  _log_warning(\"'early_stopping_rounds' argument is deprecated and will be removed in a future release of LightGBM. \"\n",
      "\n",
      "e:\\Envs\\kaggle1\\lib\\site-packages\\lightgbm\\sklearn.py:736: UserWarning: 'verbose' argument is deprecated and will be removed in a future release of LightGBM. Pass 'log_evaluation()' callback via 'callbacks' argument instead.\n",
      "  _log_warning(\"'verbose' argument is deprecated and will be removed in a future release of LightGBM. \"\n",
      "\n"
     ]
    },
    {
     "name": "stdout",
     "output_type": "stream",
     "text": [
      "[100]\tvalid_0's rmse: 1.18732                                                       \n",
      "[200]\tvalid_0's rmse: 1.17988                                                       \n",
      "[300]\tvalid_0's rmse: 1.17775                                                       \n",
      "[400]\tvalid_0's rmse: 1.17661                                                       \n",
      "[500]\tvalid_0's rmse: 1.17647                                                       \n",
      "[600]\tvalid_0's rmse: 1.17591                                                       \n",
      "[700]\tvalid_0's rmse: 1.17545                                                       \n",
      "[800]\tvalid_0's rmse: 1.17493                                                       \n",
      "[900]\tvalid_0's rmse: 1.17469                                                       \n",
      "[1000]\tvalid_0's rmse: 1.17465                                                      \n",
      "[1100]\tvalid_0's rmse: 1.17495                                                      \n",
      "[1200]\tvalid_0's rmse: 1.17503                                                      \n",
      " - fold2 - 1.1746                                                                   \n",
      "==================================================                                  \n",
      "FINISHI: Whole Score: 1.1752                                                        \n",
      "  3%|▎         | 3/100 [10:21<5:47:58, 215.24s/trial, best loss: 1.1751981299872878]"
     ]
    },
    {
     "data": {
      "application/vnd.jupyter.widget-view+json": {
       "model_id": "ea1f65dd2df24c52bd28ed52d90f49a5",
       "version_major": 2,
       "version_minor": 0
      },
      "text/plain": [
       "  0%|          | 0/2 [00:00<?, ?it/s]"
      ]
     },
     "metadata": {},
     "output_type": "display_data"
    },
    {
     "name": "stdout",
     "output_type": "stream",
     "text": [
      "[LightGBM] [Warning] feature_fraction is set=0.8530818575273291, colsample_bytree=1.0 will be ignored. Current value: feature_fraction=0.8530818575273291\n",
      "[LightGBM] [Warning] min_data_in_leaf is set=34, min_child_samples=20 will be ignored. Current value: min_data_in_leaf=34\n",
      "[LightGBM] [Warning] min_gain_to_split is set=0.09986652377878634, min_split_gain=0.0 will be ignored. Current value: min_gain_to_split=0.09986652377878634\n",
      "[LightGBM] [Warning] bagging_fraction is set=0.5884289783685727, subsample=1.0 will be ignored. Current value: bagging_fraction=0.5884289783685727\n",
      "[LightGBM] [Warning] bagging_freq is set=7, subsample_freq=0 will be ignored. Current value: bagging_freq=7\n",
      "  3%|▎         | 3/100 [10:22<5:47:58, 215.24s/trial, best loss: 1.1751981299872878]"
     ]
    },
    {
     "name": "stderr",
     "output_type": "stream",
     "text": [
      "e:\\Envs\\kaggle1\\lib\\site-packages\\lightgbm\\sklearn.py:726: UserWarning: 'early_stopping_rounds' argument is deprecated and will be removed in a future release of LightGBM. Pass 'early_stopping()' callback via 'callbacks' argument instead.\n",
      "  _log_warning(\"'early_stopping_rounds' argument is deprecated and will be removed in a future release of LightGBM. \"\n",
      "\n",
      "e:\\Envs\\kaggle1\\lib\\site-packages\\lightgbm\\sklearn.py:736: UserWarning: 'verbose' argument is deprecated and will be removed in a future release of LightGBM. Pass 'log_evaluation()' callback via 'callbacks' argument instead.\n",
      "  _log_warning(\"'verbose' argument is deprecated and will be removed in a future release of LightGBM. \"\n",
      "\n"
     ]
    },
    {
     "name": "stdout",
     "output_type": "stream",
     "text": [
      "[100]\tvalid_0's rmse: 1.21641                                                       \n",
      "[200]\tvalid_0's rmse: 1.19995                                                       \n",
      "[300]\tvalid_0's rmse: 1.19446                                                       \n",
      "[400]\tvalid_0's rmse: 1.19253                                                       \n",
      "[500]\tvalid_0's rmse: 1.19225                                                       \n",
      "[600]\tvalid_0's rmse: 1.18825                                                       \n",
      "[700]\tvalid_0's rmse: 1.18561                                                       \n",
      "[800]\tvalid_0's rmse: 1.18417                                                       \n",
      "[900]\tvalid_0's rmse: 1.18354                                                       \n",
      "[1000]\tvalid_0's rmse: 1.18341                                                      \n",
      "[1100]\tvalid_0's rmse: 1.18185                                                      \n",
      "[1200]\tvalid_0's rmse: 1.18098                                                      \n",
      "[1300]\tvalid_0's rmse: 1.18004                                                      \n",
      "[1400]\tvalid_0's rmse: 1.17973                                                      \n",
      "[1500]\tvalid_0's rmse: 1.1797                                                       \n",
      "[1600]\tvalid_0's rmse: 1.17955                                                      \n",
      "[1700]\tvalid_0's rmse: 1.17915                                                      \n",
      "[1800]\tvalid_0's rmse: 1.17892                                                      \n",
      "[1900]\tvalid_0's rmse: 1.17877                                                      \n",
      "[2000]\tvalid_0's rmse: 1.17873                                                      \n",
      "[2100]\tvalid_0's rmse: 1.17896                                                      \n",
      "[2200]\tvalid_0's rmse: 1.17912                                                      \n",
      " - fold1 - 1.1787                                                                   \n",
      "[LightGBM] [Warning] feature_fraction is set=0.8530818575273291, colsample_bytree=1.0 will be ignored. Current value: feature_fraction=0.8530818575273291\n",
      "[LightGBM] [Warning] min_data_in_leaf is set=34, min_child_samples=20 will be ignored. Current value: min_data_in_leaf=34\n",
      "[LightGBM] [Warning] min_gain_to_split is set=0.09986652377878634, min_split_gain=0.0 will be ignored. Current value: min_gain_to_split=0.09986652377878634\n",
      "[LightGBM] [Warning] bagging_fraction is set=0.5884289783685727, subsample=1.0 will be ignored. Current value: bagging_fraction=0.5884289783685727\n",
      "[LightGBM] [Warning] bagging_freq is set=7, subsample_freq=0 will be ignored. Current value: bagging_freq=7\n",
      "  3%|▎         | 3/100 [12:12<5:47:58, 215.24s/trial, best loss: 1.1751981299872878]"
     ]
    },
    {
     "name": "stderr",
     "output_type": "stream",
     "text": [
      "e:\\Envs\\kaggle1\\lib\\site-packages\\lightgbm\\sklearn.py:726: UserWarning: 'early_stopping_rounds' argument is deprecated and will be removed in a future release of LightGBM. Pass 'early_stopping()' callback via 'callbacks' argument instead.\n",
      "  _log_warning(\"'early_stopping_rounds' argument is deprecated and will be removed in a future release of LightGBM. \"\n",
      "\n",
      "e:\\Envs\\kaggle1\\lib\\site-packages\\lightgbm\\sklearn.py:736: UserWarning: 'verbose' argument is deprecated and will be removed in a future release of LightGBM. Pass 'log_evaluation()' callback via 'callbacks' argument instead.\n",
      "  _log_warning(\"'verbose' argument is deprecated and will be removed in a future release of LightGBM. \"\n",
      "\n"
     ]
    },
    {
     "name": "stdout",
     "output_type": "stream",
     "text": [
      "[100]\tvalid_0's rmse: 1.21219                                                       \n",
      "[200]\tvalid_0's rmse: 1.19477                                                       \n",
      "[300]\tvalid_0's rmse: 1.1892                                                        \n",
      "[400]\tvalid_0's rmse: 1.18733                                                       \n",
      "[500]\tvalid_0's rmse: 1.18703                                                       \n",
      "[600]\tvalid_0's rmse: 1.18353                                                       \n",
      "[700]\tvalid_0's rmse: 1.18142                                                       \n",
      "[800]\tvalid_0's rmse: 1.18007                                                       \n",
      "[900]\tvalid_0's rmse: 1.17939                                                       \n",
      "[1000]\tvalid_0's rmse: 1.17923                                                      \n",
      "[1100]\tvalid_0's rmse: 1.17828                                                      \n",
      "[1200]\tvalid_0's rmse: 1.17781                                                      \n",
      "[1300]\tvalid_0's rmse: 1.17749                                                      \n",
      "[1400]\tvalid_0's rmse: 1.17723                                                      \n",
      "[1500]\tvalid_0's rmse: 1.17716                                                      \n",
      "[1600]\tvalid_0's rmse: 1.17696                                                      \n",
      "[1700]\tvalid_0's rmse: 1.1767                                                       \n",
      "[1800]\tvalid_0's rmse: 1.17651                                                      \n",
      "[1900]\tvalid_0's rmse: 1.17638                                                      \n",
      "[2000]\tvalid_0's rmse: 1.17633                                                      \n",
      "[2100]\tvalid_0's rmse: 1.17665                                                      \n",
      "[2200]\tvalid_0's rmse: 1.17668                                                      \n",
      " - fold2 - 1.1762                                                                   \n",
      "==================================================                                  \n",
      "FINISHI: Whole Score: 1.1775                                                        \n",
      "  4%|▍         | 4/100 [13:40<5:33:48, 208.63s/trial, best loss: 1.1751981299872878]"
     ]
    },
    {
     "data": {
      "application/vnd.jupyter.widget-view+json": {
       "model_id": "ec4d0fe4b2ff4ebca2b7599832020640",
       "version_major": 2,
       "version_minor": 0
      },
      "text/plain": [
       "  0%|          | 0/2 [00:00<?, ?it/s]"
      ]
     },
     "metadata": {},
     "output_type": "display_data"
    },
    {
     "name": "stdout",
     "output_type": "stream",
     "text": [
      "[LightGBM] [Warning] feature_fraction is set=0.7273885328820737, colsample_bytree=1.0 will be ignored. Current value: feature_fraction=0.7273885328820737\n",
      "[LightGBM] [Warning] min_data_in_leaf is set=30, min_child_samples=20 will be ignored. Current value: min_data_in_leaf=30\n",
      "[LightGBM] [Warning] min_gain_to_split is set=0.049069451196639004, min_split_gain=0.0 will be ignored. Current value: min_gain_to_split=0.049069451196639004\n",
      "[LightGBM] [Warning] bagging_fraction is set=0.6639180364928827, subsample=1.0 will be ignored. Current value: bagging_fraction=0.6639180364928827\n",
      "[LightGBM] [Warning] bagging_freq is set=3, subsample_freq=0 will be ignored. Current value: bagging_freq=3\n",
      "  4%|▍         | 4/100 [13:40<5:33:48, 208.63s/trial, best loss: 1.1751981299872878]"
     ]
    },
    {
     "name": "stderr",
     "output_type": "stream",
     "text": [
      "e:\\Envs\\kaggle1\\lib\\site-packages\\lightgbm\\sklearn.py:726: UserWarning: 'early_stopping_rounds' argument is deprecated and will be removed in a future release of LightGBM. Pass 'early_stopping()' callback via 'callbacks' argument instead.\n",
      "  _log_warning(\"'early_stopping_rounds' argument is deprecated and will be removed in a future release of LightGBM. \"\n",
      "\n",
      "e:\\Envs\\kaggle1\\lib\\site-packages\\lightgbm\\sklearn.py:736: UserWarning: 'verbose' argument is deprecated and will be removed in a future release of LightGBM. Pass 'log_evaluation()' callback via 'callbacks' argument instead.\n",
      "  _log_warning(\"'verbose' argument is deprecated and will be removed in a future release of LightGBM. \"\n",
      "\n"
     ]
    },
    {
     "name": "stdout",
     "output_type": "stream",
     "text": [
      "[100]\tvalid_0's rmse: 1.19793                                                       \n",
      "[200]\tvalid_0's rmse: 1.18509                                                       \n",
      "[300]\tvalid_0's rmse: 1.18091                                                       \n",
      "[400]\tvalid_0's rmse: 1.17938                                                       \n",
      "[500]\tvalid_0's rmse: 1.1791                                                        \n",
      "[600]\tvalid_0's rmse: 1.17746                                                       \n",
      "[700]\tvalid_0's rmse: 1.17702                                                       \n",
      "[800]\tvalid_0's rmse: 1.17622                                                       \n",
      "[900]\tvalid_0's rmse: 1.17598                                                       \n",
      "[1000]\tvalid_0's rmse: 1.17592                                                      \n",
      "[1100]\tvalid_0's rmse: 1.17669                                                      \n",
      "[1200]\tvalid_0's rmse: 1.17714                                                      \n",
      " - fold1 - 1.1758                                                                   \n",
      "[LightGBM] [Warning] feature_fraction is set=0.7273885328820737, colsample_bytree=1.0 will be ignored. Current value: feature_fraction=0.7273885328820737\n",
      "[LightGBM] [Warning] min_data_in_leaf is set=30, min_child_samples=20 will be ignored. Current value: min_data_in_leaf=30\n",
      "[LightGBM] [Warning] min_gain_to_split is set=0.049069451196639004, min_split_gain=0.0 will be ignored. Current value: min_gain_to_split=0.049069451196639004\n",
      "[LightGBM] [Warning] bagging_fraction is set=0.6639180364928827, subsample=1.0 will be ignored. Current value: bagging_fraction=0.6639180364928827\n",
      "[LightGBM] [Warning] bagging_freq is set=3, subsample_freq=0 will be ignored. Current value: bagging_freq=3\n",
      "  4%|▍         | 4/100 [15:28<5:33:48, 208.63s/trial, best loss: 1.1751981299872878]"
     ]
    },
    {
     "name": "stderr",
     "output_type": "stream",
     "text": [
      "e:\\Envs\\kaggle1\\lib\\site-packages\\lightgbm\\sklearn.py:726: UserWarning: 'early_stopping_rounds' argument is deprecated and will be removed in a future release of LightGBM. Pass 'early_stopping()' callback via 'callbacks' argument instead.\n",
      "  _log_warning(\"'early_stopping_rounds' argument is deprecated and will be removed in a future release of LightGBM. \"\n",
      "\n",
      "e:\\Envs\\kaggle1\\lib\\site-packages\\lightgbm\\sklearn.py:736: UserWarning: 'verbose' argument is deprecated and will be removed in a future release of LightGBM. Pass 'log_evaluation()' callback via 'callbacks' argument instead.\n",
      "  _log_warning(\"'verbose' argument is deprecated and will be removed in a future release of LightGBM. \"\n",
      "\n"
     ]
    },
    {
     "name": "stdout",
     "output_type": "stream",
     "text": [
      "[100]\tvalid_0's rmse: 1.19745                                                       \n",
      "[200]\tvalid_0's rmse: 1.1836                                                        \n",
      "[300]\tvalid_0's rmse: 1.17873                                                       \n",
      "[400]\tvalid_0's rmse: 1.17697                                                       \n",
      "[500]\tvalid_0's rmse: 1.17662                                                       \n",
      "[600]\tvalid_0's rmse: 1.17577                                                       \n",
      "[700]\tvalid_0's rmse: 1.17516                                                       \n",
      "[800]\tvalid_0's rmse: 1.17444                                                       \n",
      "[900]\tvalid_0's rmse: 1.17426                                                       \n",
      "[1000]\tvalid_0's rmse: 1.17421                                                      \n",
      "[1100]\tvalid_0's rmse: 1.17441                                                      \n",
      "[1200]\tvalid_0's rmse: 1.17472                                                      \n",
      " - fold2 - 1.1740                                                                   \n",
      "==================================================                                  \n",
      "FINISHI: Whole Score: 1.1749                                                        \n",
      "  5%|▌         | 5/100 [17:10<5:31:11, 209.18s/trial, best loss: 1.1749253532469102]"
     ]
    },
    {
     "data": {
      "application/vnd.jupyter.widget-view+json": {
       "model_id": "f2f00f9e5c5244af98c748a727fd8a8c",
       "version_major": 2,
       "version_minor": 0
      },
      "text/plain": [
       "  0%|          | 0/2 [00:00<?, ?it/s]"
      ]
     },
     "metadata": {},
     "output_type": "display_data"
    },
    {
     "name": "stdout",
     "output_type": "stream",
     "text": [
      "[LightGBM] [Warning] feature_fraction is set=0.9071277527105667, colsample_bytree=1.0 will be ignored. Current value: feature_fraction=0.9071277527105667\n",
      "[LightGBM] [Warning] min_data_in_leaf is set=24, min_child_samples=20 will be ignored. Current value: min_data_in_leaf=24\n",
      "[LightGBM] [Warning] min_gain_to_split is set=0.0147137815744109, min_split_gain=0.0 will be ignored. Current value: min_gain_to_split=0.0147137815744109\n",
      "[LightGBM] [Warning] bagging_fraction is set=0.7713432584800868, subsample=1.0 will be ignored. Current value: bagging_fraction=0.7713432584800868\n",
      "[LightGBM] [Warning] bagging_freq is set=6, subsample_freq=0 will be ignored. Current value: bagging_freq=6\n",
      "  5%|▌         | 5/100 [17:11<5:31:11, 209.18s/trial, best loss: 1.1749253532469102]"
     ]
    },
    {
     "name": "stderr",
     "output_type": "stream",
     "text": [
      "e:\\Envs\\kaggle1\\lib\\site-packages\\lightgbm\\sklearn.py:726: UserWarning: 'early_stopping_rounds' argument is deprecated and will be removed in a future release of LightGBM. Pass 'early_stopping()' callback via 'callbacks' argument instead.\n",
      "  _log_warning(\"'early_stopping_rounds' argument is deprecated and will be removed in a future release of LightGBM. \"\n",
      "\n",
      "e:\\Envs\\kaggle1\\lib\\site-packages\\lightgbm\\sklearn.py:736: UserWarning: 'verbose' argument is deprecated and will be removed in a future release of LightGBM. Pass 'log_evaluation()' callback via 'callbacks' argument instead.\n",
      "  _log_warning(\"'verbose' argument is deprecated and will be removed in a future release of LightGBM. \"\n",
      "\n"
     ]
    },
    {
     "name": "stdout",
     "output_type": "stream",
     "text": [
      "[100]\tvalid_0's rmse: 1.20167                                                       \n",
      "[200]\tvalid_0's rmse: 1.18899                                                       \n",
      "[300]\tvalid_0's rmse: 1.18499                                                       \n",
      "[400]\tvalid_0's rmse: 1.18349                                                       \n",
      "[500]\tvalid_0's rmse: 1.1833                                                        \n",
      "[600]\tvalid_0's rmse: 1.18061                                                       \n",
      "[700]\tvalid_0's rmse: 1.18056                                                       \n",
      "[800]\tvalid_0's rmse: 1.18015                                                       \n",
      "[900]\tvalid_0's rmse: 1.17989                                                       \n",
      "[1000]\tvalid_0's rmse: 1.17982                                                      \n",
      "[1100]\tvalid_0's rmse: 1.17944                                                      \n",
      "[1200]\tvalid_0's rmse: 1.17946                                                      \n",
      "[1300]\tvalid_0's rmse: 1.17936                                                      \n",
      "[1400]\tvalid_0's rmse: 1.17916                                                      \n",
      "[1500]\tvalid_0's rmse: 1.17913                                                      \n",
      "[1600]\tvalid_0's rmse: 1.17946                                                      \n",
      "[1700]\tvalid_0's rmse: 1.17958                                                      \n",
      " - fold1 - 1.1791                                                                   \n",
      "[LightGBM] [Warning] feature_fraction is set=0.9071277527105667, colsample_bytree=1.0 will be ignored. Current value: feature_fraction=0.9071277527105667\n",
      "[LightGBM] [Warning] min_data_in_leaf is set=24, min_child_samples=20 will be ignored. Current value: min_data_in_leaf=24\n",
      "[LightGBM] [Warning] min_gain_to_split is set=0.0147137815744109, min_split_gain=0.0 will be ignored. Current value: min_gain_to_split=0.0147137815744109\n",
      "[LightGBM] [Warning] bagging_fraction is set=0.7713432584800868, subsample=1.0 will be ignored. Current value: bagging_fraction=0.7713432584800868\n",
      "[LightGBM] [Warning] bagging_freq is set=6, subsample_freq=0 will be ignored. Current value: bagging_freq=6\n",
      "  5%|▌         | 5/100 [20:00<5:31:11, 209.18s/trial, best loss: 1.1749253532469102]"
     ]
    },
    {
     "name": "stderr",
     "output_type": "stream",
     "text": [
      "e:\\Envs\\kaggle1\\lib\\site-packages\\lightgbm\\sklearn.py:726: UserWarning: 'early_stopping_rounds' argument is deprecated and will be removed in a future release of LightGBM. Pass 'early_stopping()' callback via 'callbacks' argument instead.\n",
      "  _log_warning(\"'early_stopping_rounds' argument is deprecated and will be removed in a future release of LightGBM. \"\n",
      "\n",
      "e:\\Envs\\kaggle1\\lib\\site-packages\\lightgbm\\sklearn.py:736: UserWarning: 'verbose' argument is deprecated and will be removed in a future release of LightGBM. Pass 'log_evaluation()' callback via 'callbacks' argument instead.\n",
      "  _log_warning(\"'verbose' argument is deprecated and will be removed in a future release of LightGBM. \"\n",
      "\n"
     ]
    },
    {
     "name": "stdout",
     "output_type": "stream",
     "text": [
      "[100]\tvalid_0's rmse: 1.19784                                                       \n",
      "[200]\tvalid_0's rmse: 1.1862                                                        \n",
      "[300]\tvalid_0's rmse: 1.18174                                                       \n",
      "[400]\tvalid_0's rmse: 1.18008                                                       \n",
      "[500]\tvalid_0's rmse: 1.17983                                                       \n",
      "[600]\tvalid_0's rmse: 1.1789                                                        \n",
      "[700]\tvalid_0's rmse: 1.17812                                                       \n",
      "[800]\tvalid_0's rmse: 1.17774                                                       \n",
      "[900]\tvalid_0's rmse: 1.17748                                                       \n",
      "[1000]\tvalid_0's rmse: 1.17743                                                      \n",
      "[1100]\tvalid_0's rmse: 1.17788                                                      \n",
      "[1200]\tvalid_0's rmse: 1.17745                                                      \n",
      " - fold2 - 1.1773                                                                   \n",
      "==================================================                                  \n",
      "FINISHI: Whole Score: 1.1782                                                        \n",
      "  6%|▌         | 6/100 [21:33<5:56:39, 227.65s/trial, best loss: 1.1749253532469102]"
     ]
    },
    {
     "data": {
      "application/vnd.jupyter.widget-view+json": {
       "model_id": "285759b3e08249b28fef08c97cc97e55",
       "version_major": 2,
       "version_minor": 0
      },
      "text/plain": [
       "  0%|          | 0/2 [00:00<?, ?it/s]"
      ]
     },
     "metadata": {},
     "output_type": "display_data"
    },
    {
     "name": "stdout",
     "output_type": "stream",
     "text": [
      "[LightGBM] [Warning] feature_fraction is set=0.5532687779132813, colsample_bytree=1.0 will be ignored. Current value: feature_fraction=0.5532687779132813\n",
      "[LightGBM] [Warning] min_data_in_leaf is set=76, min_child_samples=20 will be ignored. Current value: min_data_in_leaf=76\n",
      "[LightGBM] [Warning] min_gain_to_split is set=0.012183544339420448, min_split_gain=0.0 will be ignored. Current value: min_gain_to_split=0.012183544339420448\n",
      "[LightGBM] [Warning] bagging_fraction is set=0.7071055560403575, subsample=1.0 will be ignored. Current value: bagging_fraction=0.7071055560403575\n",
      "[LightGBM] [Warning] bagging_freq is set=7, subsample_freq=0 will be ignored. Current value: bagging_freq=7\n",
      "  6%|▌         | 6/100 [21:34<5:56:39, 227.65s/trial, best loss: 1.1749253532469102]"
     ]
    },
    {
     "name": "stderr",
     "output_type": "stream",
     "text": [
      "e:\\Envs\\kaggle1\\lib\\site-packages\\lightgbm\\sklearn.py:726: UserWarning: 'early_stopping_rounds' argument is deprecated and will be removed in a future release of LightGBM. Pass 'early_stopping()' callback via 'callbacks' argument instead.\n",
      "  _log_warning(\"'early_stopping_rounds' argument is deprecated and will be removed in a future release of LightGBM. \"\n",
      "\n",
      "e:\\Envs\\kaggle1\\lib\\site-packages\\lightgbm\\sklearn.py:736: UserWarning: 'verbose' argument is deprecated and will be removed in a future release of LightGBM. Pass 'log_evaluation()' callback via 'callbacks' argument instead.\n",
      "  _log_warning(\"'verbose' argument is deprecated and will be removed in a future release of LightGBM. \"\n",
      "\n"
     ]
    },
    {
     "name": "stdout",
     "output_type": "stream",
     "text": [
      "[100]\tvalid_0's rmse: 1.20111                                                       \n",
      "[200]\tvalid_0's rmse: 1.18723                                                       \n",
      "[300]\tvalid_0's rmse: 1.18207                                                       \n",
      "[400]\tvalid_0's rmse: 1.18024                                                       \n",
      "[500]\tvalid_0's rmse: 1.17995                                                       \n",
      "[600]\tvalid_0's rmse: 1.1779                                                        \n",
      "[700]\tvalid_0's rmse: 1.1763                                                        \n",
      "[800]\tvalid_0's rmse: 1.17567                                                       \n",
      "[900]\tvalid_0's rmse: 1.17535                                                       \n",
      "[1000]\tvalid_0's rmse: 1.17527                                                      \n",
      "[1100]\tvalid_0's rmse: 1.17523                                                      \n",
      "[1200]\tvalid_0's rmse: 1.17496                                                      \n",
      "[1300]\tvalid_0's rmse: 1.17488                                                      \n",
      "[1400]\tvalid_0's rmse: 1.17482                                                      \n",
      "[1500]\tvalid_0's rmse: 1.17478                                                      \n",
      "[1600]\tvalid_0's rmse: 1.17503                                                      \n",
      "[1700]\tvalid_0's rmse: 1.17535                                                      \n",
      " - fold1 - 1.1747                                                                   \n",
      "[LightGBM] [Warning] feature_fraction is set=0.5532687779132813, colsample_bytree=1.0 will be ignored. Current value: feature_fraction=0.5532687779132813\n",
      "[LightGBM] [Warning] min_data_in_leaf is set=76, min_child_samples=20 will be ignored. Current value: min_data_in_leaf=76\n",
      "[LightGBM] [Warning] min_gain_to_split is set=0.012183544339420448, min_split_gain=0.0 will be ignored. Current value: min_gain_to_split=0.012183544339420448\n",
      "[LightGBM] [Warning] bagging_fraction is set=0.7071055560403575, subsample=1.0 will be ignored. Current value: bagging_fraction=0.7071055560403575\n",
      "[LightGBM] [Warning] bagging_freq is set=7, subsample_freq=0 will be ignored. Current value: bagging_freq=7\n",
      "  6%|▌         | 6/100 [23:13<5:56:39, 227.65s/trial, best loss: 1.1749253532469102]"
     ]
    },
    {
     "name": "stderr",
     "output_type": "stream",
     "text": [
      "e:\\Envs\\kaggle1\\lib\\site-packages\\lightgbm\\sklearn.py:726: UserWarning: 'early_stopping_rounds' argument is deprecated and will be removed in a future release of LightGBM. Pass 'early_stopping()' callback via 'callbacks' argument instead.\n",
      "  _log_warning(\"'early_stopping_rounds' argument is deprecated and will be removed in a future release of LightGBM. \"\n",
      "\n",
      "e:\\Envs\\kaggle1\\lib\\site-packages\\lightgbm\\sklearn.py:736: UserWarning: 'verbose' argument is deprecated and will be removed in a future release of LightGBM. Pass 'log_evaluation()' callback via 'callbacks' argument instead.\n",
      "  _log_warning(\"'verbose' argument is deprecated and will be removed in a future release of LightGBM. \"\n",
      "\n"
     ]
    },
    {
     "name": "stdout",
     "output_type": "stream",
     "text": [
      "[100]\tvalid_0's rmse: 1.19871                                                       \n",
      "[200]\tvalid_0's rmse: 1.18352                                                       \n",
      "[300]\tvalid_0's rmse: 1.17888                                                       \n",
      "[400]\tvalid_0's rmse: 1.17689                                                       \n",
      "[500]\tvalid_0's rmse: 1.17663                                                       \n",
      "[600]\tvalid_0's rmse: 1.17423                                                       \n",
      "[700]\tvalid_0's rmse: 1.17302                                                       \n",
      "[800]\tvalid_0's rmse: 1.17222                                                       \n",
      "[900]\tvalid_0's rmse: 1.17188                                                       \n",
      "[1000]\tvalid_0's rmse: 1.1718                                                       \n",
      "[1100]\tvalid_0's rmse: 1.17236                                                      \n",
      "[1200]\tvalid_0's rmse: 1.17241                                                      \n",
      " - fold2 - 1.1715                                                                   \n",
      "==================================================                                  \n",
      "FINISHI: Whole Score: 1.1731                                                        \n",
      "  7%|▋         | 7/100 [24:15<5:19:33, 206.17s/trial, best loss: 1.1731325755208595]"
     ]
    },
    {
     "data": {
      "application/vnd.jupyter.widget-view+json": {
       "model_id": "c73f97794f97416da4e8ea110921ed9e",
       "version_major": 2,
       "version_minor": 0
      },
      "text/plain": [
       "  0%|          | 0/2 [00:00<?, ?it/s]"
      ]
     },
     "metadata": {},
     "output_type": "display_data"
    },
    {
     "name": "stdout",
     "output_type": "stream",
     "text": [
      "[LightGBM] [Warning] feature_fraction is set=0.5218726290924662, colsample_bytree=1.0 will be ignored. Current value: feature_fraction=0.5218726290924662\n",
      "[LightGBM] [Warning] min_data_in_leaf is set=44, min_child_samples=20 will be ignored. Current value: min_data_in_leaf=44\n",
      "[LightGBM] [Warning] min_gain_to_split is set=0.09915677113304829, min_split_gain=0.0 will be ignored. Current value: min_gain_to_split=0.09915677113304829\n",
      "[LightGBM] [Warning] bagging_fraction is set=0.923730365024705, subsample=1.0 will be ignored. Current value: bagging_fraction=0.923730365024705\n",
      "[LightGBM] [Warning] bagging_freq is set=8, subsample_freq=0 will be ignored. Current value: bagging_freq=8\n",
      "  7%|▋         | 7/100 [24:16<5:19:33, 206.17s/trial, best loss: 1.1731325755208595]"
     ]
    },
    {
     "name": "stderr",
     "output_type": "stream",
     "text": [
      "e:\\Envs\\kaggle1\\lib\\site-packages\\lightgbm\\sklearn.py:726: UserWarning: 'early_stopping_rounds' argument is deprecated and will be removed in a future release of LightGBM. Pass 'early_stopping()' callback via 'callbacks' argument instead.\n",
      "  _log_warning(\"'early_stopping_rounds' argument is deprecated and will be removed in a future release of LightGBM. \"\n",
      "\n",
      "e:\\Envs\\kaggle1\\lib\\site-packages\\lightgbm\\sklearn.py:736: UserWarning: 'verbose' argument is deprecated and will be removed in a future release of LightGBM. Pass 'log_evaluation()' callback via 'callbacks' argument instead.\n",
      "  _log_warning(\"'verbose' argument is deprecated and will be removed in a future release of LightGBM. \"\n",
      "\n"
     ]
    },
    {
     "name": "stdout",
     "output_type": "stream",
     "text": [
      "[100]\tvalid_0's rmse: 1.2033                                                        \n",
      "[200]\tvalid_0's rmse: 1.18923                                                       \n",
      "[300]\tvalid_0's rmse: 1.18421                                                       \n",
      "[400]\tvalid_0's rmse: 1.18248                                                       \n",
      "[500]\tvalid_0's rmse: 1.18224                                                       \n",
      "[600]\tvalid_0's rmse: 1.17857                                                       \n",
      "[700]\tvalid_0's rmse: 1.17609                                                       \n",
      "[800]\tvalid_0's rmse: 1.17468                                                       \n",
      "[900]\tvalid_0's rmse: 1.17397                                                       \n",
      "[1000]\tvalid_0's rmse: 1.17387                                                      \n",
      "[1100]\tvalid_0's rmse: 1.17244                                                      \n",
      "[1200]\tvalid_0's rmse: 1.17145                                                      \n",
      "[1300]\tvalid_0's rmse: 1.17078                                                      \n",
      "[1400]\tvalid_0's rmse: 1.17053                                                      \n",
      "[1500]\tvalid_0's rmse: 1.17048                                                      \n",
      "[1600]\tvalid_0's rmse: 1.17014                                                      \n",
      "[1700]\tvalid_0's rmse: 1.16965                                                      \n",
      "[1800]\tvalid_0's rmse: 1.16929                                                      \n",
      "[1900]\tvalid_0's rmse: 1.1692                                                       \n",
      "[2000]\tvalid_0's rmse: 1.16917                                                      \n",
      "[2100]\tvalid_0's rmse: 1.16881                                                      \n",
      "[2200]\tvalid_0's rmse: 1.16843                                                      \n",
      "[2300]\tvalid_0's rmse: 1.16825                                                      \n",
      "[2400]\tvalid_0's rmse: 1.16813                                                      \n",
      "[2500]\tvalid_0's rmse: 1.16811                                                      \n",
      "[2600]\tvalid_0's rmse: 1.16811                                                      \n",
      "[2700]\tvalid_0's rmse: 1.16774                                                      \n",
      "[2800]\tvalid_0's rmse: 1.16764                                                      \n",
      "[2900]\tvalid_0's rmse: 1.16766                                                      \n",
      " - fold1 - 1.1676                                                                   \n",
      "[LightGBM] [Warning] feature_fraction is set=0.5218726290924662, colsample_bytree=1.0 will be ignored. Current value: feature_fraction=0.5218726290924662\n",
      "[LightGBM] [Warning] min_data_in_leaf is set=44, min_child_samples=20 will be ignored. Current value: min_data_in_leaf=44\n",
      "[LightGBM] [Warning] min_gain_to_split is set=0.09915677113304829, min_split_gain=0.0 will be ignored. Current value: min_gain_to_split=0.09915677113304829\n",
      "[LightGBM] [Warning] bagging_fraction is set=0.923730365024705, subsample=1.0 will be ignored. Current value: bagging_fraction=0.923730365024705\n",
      "[LightGBM] [Warning] bagging_freq is set=8, subsample_freq=0 will be ignored. Current value: bagging_freq=8\n",
      "  7%|▋         | 7/100 [26:17<5:19:33, 206.17s/trial, best loss: 1.1731325755208595]"
     ]
    },
    {
     "name": "stderr",
     "output_type": "stream",
     "text": [
      "e:\\Envs\\kaggle1\\lib\\site-packages\\lightgbm\\sklearn.py:726: UserWarning: 'early_stopping_rounds' argument is deprecated and will be removed in a future release of LightGBM. Pass 'early_stopping()' callback via 'callbacks' argument instead.\n",
      "  _log_warning(\"'early_stopping_rounds' argument is deprecated and will be removed in a future release of LightGBM. \"\n",
      "\n",
      "e:\\Envs\\kaggle1\\lib\\site-packages\\lightgbm\\sklearn.py:736: UserWarning: 'verbose' argument is deprecated and will be removed in a future release of LightGBM. Pass 'log_evaluation()' callback via 'callbacks' argument instead.\n",
      "  _log_warning(\"'verbose' argument is deprecated and will be removed in a future release of LightGBM. \"\n",
      "\n"
     ]
    },
    {
     "name": "stdout",
     "output_type": "stream",
     "text": [
      "[100]\tvalid_0's rmse: 1.20053                                                       \n",
      "[200]\tvalid_0's rmse: 1.18676                                                       \n",
      "[300]\tvalid_0's rmse: 1.18245                                                       \n",
      "[400]\tvalid_0's rmse: 1.18055                                                       \n",
      "[500]\tvalid_0's rmse: 1.18028                                                       \n",
      "[600]\tvalid_0's rmse: 1.17664                                                       \n",
      "[700]\tvalid_0's rmse: 1.17508                                                       \n",
      "[800]\tvalid_0's rmse: 1.1738                                                        \n",
      "[900]\tvalid_0's rmse: 1.17327                                                       \n",
      "[1000]\tvalid_0's rmse: 1.17317                                                      \n",
      "[1100]\tvalid_0's rmse: 1.1719                                                       \n",
      "[1200]\tvalid_0's rmse: 1.17152                                                      \n",
      "[1300]\tvalid_0's rmse: 1.17092                                                      \n",
      "[1400]\tvalid_0's rmse: 1.17062                                                      \n",
      "[1500]\tvalid_0's rmse: 1.17057                                                      \n",
      "[1600]\tvalid_0's rmse: 1.17003                                                      \n",
      "[1700]\tvalid_0's rmse: 1.16975                                                      \n",
      "[1800]\tvalid_0's rmse: 1.16948                                                      \n",
      "[1900]\tvalid_0's rmse: 1.16932                                                      \n",
      "[2000]\tvalid_0's rmse: 1.1693                                                       \n",
      "[2100]\tvalid_0's rmse: 1.16907                                                      \n",
      "[2200]\tvalid_0's rmse: 1.16858                                                      \n",
      "[2300]\tvalid_0's rmse: 1.16852                                                      \n",
      "[2400]\tvalid_0's rmse: 1.16847                                                      \n",
      "[2500]\tvalid_0's rmse: 1.16845                                                      \n",
      "[2600]\tvalid_0's rmse: 1.16841                                                      \n",
      "[2700]\tvalid_0's rmse: 1.16842                                                      \n",
      "[2800]\tvalid_0's rmse: 1.16829                                                      \n",
      "[2900]\tvalid_0's rmse: 1.1683                                                       \n",
      " - fold2 - 1.1683                                                                   \n",
      "==================================================                                  \n",
      "FINISHI: Whole Score: 1.1679                                                        \n",
      "  8%|▊         | 8/100 [28:16<5:32:56, 217.13s/trial, best loss: 1.1679422217373197]"
     ]
    },
    {
     "data": {
      "application/vnd.jupyter.widget-view+json": {
       "model_id": "71259e49e75145f98b14985c55bb8404",
       "version_major": 2,
       "version_minor": 0
      },
      "text/plain": [
       "  0%|          | 0/2 [00:00<?, ?it/s]"
      ]
     },
     "metadata": {},
     "output_type": "display_data"
    },
    {
     "name": "stdout",
     "output_type": "stream",
     "text": [
      "[LightGBM] [Warning] feature_fraction is set=0.8261479152996511, colsample_bytree=1.0 will be ignored. Current value: feature_fraction=0.8261479152996511\n",
      "[LightGBM] [Warning] min_data_in_leaf is set=27, min_child_samples=20 will be ignored. Current value: min_data_in_leaf=27\n",
      "[LightGBM] [Warning] min_gain_to_split is set=0.08994715338595867, min_split_gain=0.0 will be ignored. Current value: min_gain_to_split=0.08994715338595867\n",
      "[LightGBM] [Warning] bagging_fraction is set=0.7445478450172113, subsample=1.0 will be ignored. Current value: bagging_fraction=0.7445478450172113\n",
      "[LightGBM] [Warning] bagging_freq is set=5, subsample_freq=0 will be ignored. Current value: bagging_freq=5\n",
      "  8%|▊         | 8/100 [28:17<5:32:56, 217.13s/trial, best loss: 1.1679422217373197]"
     ]
    },
    {
     "name": "stderr",
     "output_type": "stream",
     "text": [
      "e:\\Envs\\kaggle1\\lib\\site-packages\\lightgbm\\sklearn.py:726: UserWarning: 'early_stopping_rounds' argument is deprecated and will be removed in a future release of LightGBM. Pass 'early_stopping()' callback via 'callbacks' argument instead.\n",
      "  _log_warning(\"'early_stopping_rounds' argument is deprecated and will be removed in a future release of LightGBM. \"\n",
      "\n",
      "e:\\Envs\\kaggle1\\lib\\site-packages\\lightgbm\\sklearn.py:736: UserWarning: 'verbose' argument is deprecated and will be removed in a future release of LightGBM. Pass 'log_evaluation()' callback via 'callbacks' argument instead.\n",
      "  _log_warning(\"'verbose' argument is deprecated and will be removed in a future release of LightGBM. \"\n",
      "\n"
     ]
    },
    {
     "name": "stdout",
     "output_type": "stream",
     "text": [
      "[100]\tvalid_0's rmse: 1.1923                                                        \n",
      "[200]\tvalid_0's rmse: 1.18581                                                       \n",
      "[300]\tvalid_0's rmse: 1.18309                                                       \n",
      "[400]\tvalid_0's rmse: 1.18189                                                       \n",
      "[500]\tvalid_0's rmse: 1.18173                                                       \n",
      "[600]\tvalid_0's rmse: 1.18169                                                       \n",
      "[700]\tvalid_0's rmse: 1.18167                                                       \n",
      "[800]\tvalid_0's rmse: 1.18109                                                       \n",
      "[900]\tvalid_0's rmse: 1.18082                                                       \n",
      "[1000]\tvalid_0's rmse: 1.18077                                                      \n",
      "[1100]\tvalid_0's rmse: 1.1808                                                       \n",
      "[1200]\tvalid_0's rmse: 1.18078                                                      \n",
      "[1300]\tvalid_0's rmse: 1.18067                                                      \n",
      "[1400]\tvalid_0's rmse: 1.18058                                                      \n",
      "[1500]\tvalid_0's rmse: 1.18058                                                      \n",
      "[1600]\tvalid_0's rmse: 1.18073                                                      \n",
      "[1700]\tvalid_0's rmse: 1.18079                                                      \n",
      " - fold1 - 1.1805                                                                   \n",
      "[LightGBM] [Warning] feature_fraction is set=0.8261479152996511, colsample_bytree=1.0 will be ignored. Current value: feature_fraction=0.8261479152996511\n",
      "[LightGBM] [Warning] min_data_in_leaf is set=27, min_child_samples=20 will be ignored. Current value: min_data_in_leaf=27\n",
      "[LightGBM] [Warning] min_gain_to_split is set=0.08994715338595867, min_split_gain=0.0 will be ignored. Current value: min_gain_to_split=0.08994715338595867\n",
      "[LightGBM] [Warning] bagging_fraction is set=0.7445478450172113, subsample=1.0 will be ignored. Current value: bagging_fraction=0.7445478450172113\n",
      "[LightGBM] [Warning] bagging_freq is set=5, subsample_freq=0 will be ignored. Current value: bagging_freq=5\n",
      "  8%|▊         | 8/100 [32:02<5:32:56, 217.13s/trial, best loss: 1.1679422217373197]"
     ]
    },
    {
     "name": "stderr",
     "output_type": "stream",
     "text": [
      "e:\\Envs\\kaggle1\\lib\\site-packages\\lightgbm\\sklearn.py:726: UserWarning: 'early_stopping_rounds' argument is deprecated and will be removed in a future release of LightGBM. Pass 'early_stopping()' callback via 'callbacks' argument instead.\n",
      "  _log_warning(\"'early_stopping_rounds' argument is deprecated and will be removed in a future release of LightGBM. \"\n",
      "\n",
      "e:\\Envs\\kaggle1\\lib\\site-packages\\lightgbm\\sklearn.py:736: UserWarning: 'verbose' argument is deprecated and will be removed in a future release of LightGBM. Pass 'log_evaluation()' callback via 'callbacks' argument instead.\n",
      "  _log_warning(\"'verbose' argument is deprecated and will be removed in a future release of LightGBM. \"\n",
      "\n"
     ]
    },
    {
     "name": "stdout",
     "output_type": "stream",
     "text": [
      "[100]\tvalid_0's rmse: 1.18958                                                       \n",
      "[200]\tvalid_0's rmse: 1.18341                                                       \n",
      "[300]\tvalid_0's rmse: 1.18034                                                       \n",
      "[400]\tvalid_0's rmse: 1.17961                                                       \n",
      "[500]\tvalid_0's rmse: 1.17941                                                       \n",
      "[600]\tvalid_0's rmse: 1.1793                                                        \n",
      "[700]\tvalid_0's rmse: 1.17919                                                       \n",
      "[800]\tvalid_0's rmse: 1.17899                                                       \n",
      "[900]\tvalid_0's rmse: 1.17882                                                       \n",
      "[1000]\tvalid_0's rmse: 1.17878                                                      \n",
      "[1100]\tvalid_0's rmse: 1.17983                                                      \n",
      "[1200]\tvalid_0's rmse: 1.18001                                                      \n",
      " - fold2 - 1.1788                                                                   \n",
      "==================================================                                  \n",
      "FINISHI: Whole Score: 1.1797                                                        \n",
      "  9%|▉         | 9/100 [34:54<6:54:50, 273.52s/trial, best loss: 1.1679422217373197]"
     ]
    },
    {
     "data": {
      "application/vnd.jupyter.widget-view+json": {
       "model_id": "735a8992831e48a48a849cd97d8eb8a4",
       "version_major": 2,
       "version_minor": 0
      },
      "text/plain": [
       "  0%|          | 0/2 [00:00<?, ?it/s]"
      ]
     },
     "metadata": {},
     "output_type": "display_data"
    },
    {
     "name": "stdout",
     "output_type": "stream",
     "text": [
      "[LightGBM] [Warning] feature_fraction is set=0.9085039076835031, colsample_bytree=1.0 will be ignored. Current value: feature_fraction=0.9085039076835031\n",
      "[LightGBM] [Warning] min_data_in_leaf is set=70, min_child_samples=20 will be ignored. Current value: min_data_in_leaf=70\n",
      "[LightGBM] [Warning] min_gain_to_split is set=0.013782121074856693, min_split_gain=0.0 will be ignored. Current value: min_gain_to_split=0.013782121074856693\n",
      "[LightGBM] [Warning] bagging_fraction is set=0.8147679252144718, subsample=1.0 will be ignored. Current value: bagging_fraction=0.8147679252144718\n",
      "[LightGBM] [Warning] bagging_freq is set=2, subsample_freq=0 will be ignored. Current value: bagging_freq=2\n",
      "  9%|▉         | 9/100 [34:54<6:54:50, 273.52s/trial, best loss: 1.1679422217373197]"
     ]
    },
    {
     "name": "stderr",
     "output_type": "stream",
     "text": [
      "e:\\Envs\\kaggle1\\lib\\site-packages\\lightgbm\\sklearn.py:726: UserWarning: 'early_stopping_rounds' argument is deprecated and will be removed in a future release of LightGBM. Pass 'early_stopping()' callback via 'callbacks' argument instead.\n",
      "  _log_warning(\"'early_stopping_rounds' argument is deprecated and will be removed in a future release of LightGBM. \"\n",
      "\n",
      "e:\\Envs\\kaggle1\\lib\\site-packages\\lightgbm\\sklearn.py:736: UserWarning: 'verbose' argument is deprecated and will be removed in a future release of LightGBM. Pass 'log_evaluation()' callback via 'callbacks' argument instead.\n",
      "  _log_warning(\"'verbose' argument is deprecated and will be removed in a future release of LightGBM. \"\n",
      "\n"
     ]
    },
    {
     "name": "stdout",
     "output_type": "stream",
     "text": [
      "[100]\tvalid_0's rmse: 1.19955                                                       \n",
      "[200]\tvalid_0's rmse: 1.1877                                                        \n",
      "[300]\tvalid_0's rmse: 1.18307                                                       \n",
      "[400]\tvalid_0's rmse: 1.1815                                                        \n",
      "[500]\tvalid_0's rmse: 1.18119                                                       \n",
      "[600]\tvalid_0's rmse: 1.17923                                                       \n",
      "[700]\tvalid_0's rmse: 1.178                                                         \n",
      "[800]\tvalid_0's rmse: 1.17727                                                       \n",
      "[900]\tvalid_0's rmse: 1.17707                                                       \n",
      "[1000]\tvalid_0's rmse: 1.17702                                                      \n",
      "[1100]\tvalid_0's rmse: 1.17721                                                      \n",
      "[1200]\tvalid_0's rmse: 1.17754                                                      \n",
      " - fold1 - 1.1767                                                                   \n",
      "[LightGBM] [Warning] feature_fraction is set=0.9085039076835031, colsample_bytree=1.0 will be ignored. Current value: feature_fraction=0.9085039076835031\n",
      "[LightGBM] [Warning] min_data_in_leaf is set=70, min_child_samples=20 will be ignored. Current value: min_data_in_leaf=70\n",
      "[LightGBM] [Warning] min_gain_to_split is set=0.013782121074856693, min_split_gain=0.0 will be ignored. Current value: min_gain_to_split=0.013782121074856693\n",
      "[LightGBM] [Warning] bagging_fraction is set=0.8147679252144718, subsample=1.0 will be ignored. Current value: bagging_fraction=0.8147679252144718\n",
      "[LightGBM] [Warning] bagging_freq is set=2, subsample_freq=0 will be ignored. Current value: bagging_freq=2\n",
      "  9%|▉         | 9/100 [37:03<6:54:50, 273.52s/trial, best loss: 1.1679422217373197]"
     ]
    },
    {
     "name": "stderr",
     "output_type": "stream",
     "text": [
      "e:\\Envs\\kaggle1\\lib\\site-packages\\lightgbm\\sklearn.py:726: UserWarning: 'early_stopping_rounds' argument is deprecated and will be removed in a future release of LightGBM. Pass 'early_stopping()' callback via 'callbacks' argument instead.\n",
      "  _log_warning(\"'early_stopping_rounds' argument is deprecated and will be removed in a future release of LightGBM. \"\n",
      "\n",
      "e:\\Envs\\kaggle1\\lib\\site-packages\\lightgbm\\sklearn.py:736: UserWarning: 'verbose' argument is deprecated and will be removed in a future release of LightGBM. Pass 'log_evaluation()' callback via 'callbacks' argument instead.\n",
      "  _log_warning(\"'verbose' argument is deprecated and will be removed in a future release of LightGBM. \"\n",
      "\n"
     ]
    },
    {
     "name": "stdout",
     "output_type": "stream",
     "text": [
      "[100]\tvalid_0's rmse: 1.19579                                                       \n",
      "[200]\tvalid_0's rmse: 1.1824                                                        \n",
      "[300]\tvalid_0's rmse: 1.17805                                                       \n",
      "[400]\tvalid_0's rmse: 1.17657                                                       \n",
      "[500]\tvalid_0's rmse: 1.17629                                                       \n",
      "[600]\tvalid_0's rmse: 1.17382                                                       \n",
      "[700]\tvalid_0's rmse: 1.17317                                                       \n",
      "[800]\tvalid_0's rmse: 1.17266                                                       \n",
      "[900]\tvalid_0's rmse: 1.17238                                                       \n",
      "[1000]\tvalid_0's rmse: 1.17233                                                      \n",
      "[1100]\tvalid_0's rmse: 1.17255                                                      \n",
      "[1200]\tvalid_0's rmse: 1.17348                                                      \n",
      " - fold2 - 1.1722                                                                   \n",
      "==================================================                                  \n",
      "FINISHI: Whole Score: 1.1745                                                        \n",
      " 10%|█         | 10/100 [38:39<6:28:06, 258.74s/trial, best loss: 1.1679422217373197]"
     ]
    },
    {
     "data": {
      "application/vnd.jupyter.widget-view+json": {
       "model_id": "b49968c937664b6f8306bee430ebff06",
       "version_major": 2,
       "version_minor": 0
      },
      "text/plain": [
       "  0%|          | 0/2 [00:00<?, ?it/s]"
      ]
     },
     "metadata": {},
     "output_type": "display_data"
    },
    {
     "name": "stdout",
     "output_type": "stream",
     "text": [
      "[LightGBM] [Warning] feature_fraction is set=0.6532993793894917, colsample_bytree=1.0 will be ignored. Current value: feature_fraction=0.6532993793894917\n",
      "[LightGBM] [Warning] min_data_in_leaf is set=35, min_child_samples=20 will be ignored. Current value: min_data_in_leaf=35\n",
      "[LightGBM] [Warning] min_gain_to_split is set=0.03949311397516259, min_split_gain=0.0 will be ignored. Current value: min_gain_to_split=0.03949311397516259\n",
      "[LightGBM] [Warning] bagging_fraction is set=0.6614062522277693, subsample=1.0 will be ignored. Current value: bagging_fraction=0.6614062522277693\n",
      "[LightGBM] [Warning] bagging_freq is set=5, subsample_freq=0 will be ignored. Current value: bagging_freq=5\n",
      " 10%|█         | 10/100 [38:41<6:28:06, 258.74s/trial, best loss: 1.1679422217373197]"
     ]
    },
    {
     "name": "stderr",
     "output_type": "stream",
     "text": [
      "e:\\Envs\\kaggle1\\lib\\site-packages\\lightgbm\\sklearn.py:726: UserWarning: 'early_stopping_rounds' argument is deprecated and will be removed in a future release of LightGBM. Pass 'early_stopping()' callback via 'callbacks' argument instead.\n",
      "  _log_warning(\"'early_stopping_rounds' argument is deprecated and will be removed in a future release of LightGBM. \"\n",
      "\n",
      "e:\\Envs\\kaggle1\\lib\\site-packages\\lightgbm\\sklearn.py:736: UserWarning: 'verbose' argument is deprecated and will be removed in a future release of LightGBM. Pass 'log_evaluation()' callback via 'callbacks' argument instead.\n",
      "  _log_warning(\"'verbose' argument is deprecated and will be removed in a future release of LightGBM. \"\n",
      "\n"
     ]
    },
    {
     "name": "stdout",
     "output_type": "stream",
     "text": [
      "[100]\tvalid_0's rmse: 1.19463                                                        \n",
      "[200]\tvalid_0's rmse: 1.18464                                                        \n",
      "[300]\tvalid_0's rmse: 1.18257                                                        \n",
      "[400]\tvalid_0's rmse: 1.18158                                                        \n",
      "[500]\tvalid_0's rmse: 1.18132                                                        \n",
      "[600]\tvalid_0's rmse: 1.18053                                                        \n",
      "[700]\tvalid_0's rmse: 1.17988                                                        \n",
      "[800]\tvalid_0's rmse: 1.17959                                                        \n",
      "[900]\tvalid_0's rmse: 1.17924                                                        \n",
      "[1000]\tvalid_0's rmse: 1.17919                                                       \n",
      "[1100]\tvalid_0's rmse: 1.17937                                                       \n",
      "[1200]\tvalid_0's rmse: 1.17954                                                       \n",
      " - fold1 - 1.1791                                                                    \n",
      "[LightGBM] [Warning] feature_fraction is set=0.6532993793894917, colsample_bytree=1.0 will be ignored. Current value: feature_fraction=0.6532993793894917\n",
      "[LightGBM] [Warning] min_data_in_leaf is set=35, min_child_samples=20 will be ignored. Current value: min_data_in_leaf=35\n",
      "[LightGBM] [Warning] min_gain_to_split is set=0.03949311397516259, min_split_gain=0.0 will be ignored. Current value: min_gain_to_split=0.03949311397516259\n",
      "[LightGBM] [Warning] bagging_fraction is set=0.6614062522277693, subsample=1.0 will be ignored. Current value: bagging_fraction=0.6614062522277693\n",
      "[LightGBM] [Warning] bagging_freq is set=5, subsample_freq=0 will be ignored. Current value: bagging_freq=5\n",
      " 10%|█         | 10/100 [41:37<6:28:06, 258.74s/trial, best loss: 1.1679422217373197]"
     ]
    },
    {
     "name": "stderr",
     "output_type": "stream",
     "text": [
      "e:\\Envs\\kaggle1\\lib\\site-packages\\lightgbm\\sklearn.py:726: UserWarning: 'early_stopping_rounds' argument is deprecated and will be removed in a future release of LightGBM. Pass 'early_stopping()' callback via 'callbacks' argument instead.\n",
      "  _log_warning(\"'early_stopping_rounds' argument is deprecated and will be removed in a future release of LightGBM. \"\n",
      "\n",
      "e:\\Envs\\kaggle1\\lib\\site-packages\\lightgbm\\sklearn.py:736: UserWarning: 'verbose' argument is deprecated and will be removed in a future release of LightGBM. Pass 'log_evaluation()' callback via 'callbacks' argument instead.\n",
      "  _log_warning(\"'verbose' argument is deprecated and will be removed in a future release of LightGBM. \"\n",
      "\n"
     ]
    },
    {
     "name": "stdout",
     "output_type": "stream",
     "text": [
      "[100]\tvalid_0's rmse: 1.19085                                                        \n",
      "[200]\tvalid_0's rmse: 1.18123                                                        \n",
      "[300]\tvalid_0's rmse: 1.17817                                                        \n",
      "[400]\tvalid_0's rmse: 1.17716                                                        \n",
      "[500]\tvalid_0's rmse: 1.17691                                                        \n",
      "[600]\tvalid_0's rmse: 1.17648                                                        \n",
      "[700]\tvalid_0's rmse: 1.17609                                                        \n",
      "[800]\tvalid_0's rmse: 1.176                                                          \n",
      "[900]\tvalid_0's rmse: 1.17574                                                        \n",
      "[1000]\tvalid_0's rmse: 1.17568                                                       \n",
      "[1100]\tvalid_0's rmse: 1.17628                                                       \n",
      " - fold2 - 1.1757                                                                    \n",
      "==================================================                                   \n",
      "FINISHI: Whole Score: 1.1774                                                         \n",
      " 11%|█         | 11/100 [44:07<6:55:17, 279.97s/trial, best loss: 1.1679422217373197]"
     ]
    },
    {
     "data": {
      "application/vnd.jupyter.widget-view+json": {
       "model_id": "e5ce4b3d4d57472abc571788cd6f015a",
       "version_major": 2,
       "version_minor": 0
      },
      "text/plain": [
       "  0%|          | 0/2 [00:00<?, ?it/s]"
      ]
     },
     "metadata": {},
     "output_type": "display_data"
    },
    {
     "name": "stdout",
     "output_type": "stream",
     "text": [
      "[LightGBM] [Warning] feature_fraction is set=0.6838710174432332, colsample_bytree=1.0 will be ignored. Current value: feature_fraction=0.6838710174432332\n",
      "[LightGBM] [Warning] min_data_in_leaf is set=62, min_child_samples=20 will be ignored. Current value: min_data_in_leaf=62\n",
      "[LightGBM] [Warning] min_gain_to_split is set=0.018703161610050926, min_split_gain=0.0 will be ignored. Current value: min_gain_to_split=0.018703161610050926\n",
      "[LightGBM] [Warning] bagging_fraction is set=0.5387310553634895, subsample=1.0 will be ignored. Current value: bagging_fraction=0.5387310553634895\n",
      "[LightGBM] [Warning] bagging_freq is set=9, subsample_freq=0 will be ignored. Current value: bagging_freq=9\n",
      " 11%|█         | 11/100 [44:08<6:55:17, 279.97s/trial, best loss: 1.1679422217373197]"
     ]
    },
    {
     "name": "stderr",
     "output_type": "stream",
     "text": [
      "e:\\Envs\\kaggle1\\lib\\site-packages\\lightgbm\\sklearn.py:726: UserWarning: 'early_stopping_rounds' argument is deprecated and will be removed in a future release of LightGBM. Pass 'early_stopping()' callback via 'callbacks' argument instead.\n",
      "  _log_warning(\"'early_stopping_rounds' argument is deprecated and will be removed in a future release of LightGBM. \"\n",
      "\n",
      "e:\\Envs\\kaggle1\\lib\\site-packages\\lightgbm\\sklearn.py:736: UserWarning: 'verbose' argument is deprecated and will be removed in a future release of LightGBM. Pass 'log_evaluation()' callback via 'callbacks' argument instead.\n",
      "  _log_warning(\"'verbose' argument is deprecated and will be removed in a future release of LightGBM. \"\n",
      "\n"
     ]
    },
    {
     "name": "stdout",
     "output_type": "stream",
     "text": [
      "[100]\tvalid_0's rmse: 1.2273                                                         \n",
      "[200]\tvalid_0's rmse: 1.2074                                                         \n",
      "[300]\tvalid_0's rmse: 1.20044                                                        \n",
      "[400]\tvalid_0's rmse: 1.1981                                                         \n",
      "[500]\tvalid_0's rmse: 1.19773                                                        \n",
      "[600]\tvalid_0's rmse: 1.1939                                                         \n",
      "[700]\tvalid_0's rmse: 1.19012                                                        \n",
      "[800]\tvalid_0's rmse: 1.18833                                                        \n",
      "[900]\tvalid_0's rmse: 1.18755                                                        \n",
      "[1000]\tvalid_0's rmse: 1.18742                                                       \n",
      "[1100]\tvalid_0's rmse: 1.18586                                                       \n",
      "[1200]\tvalid_0's rmse: 1.18479                                                       \n",
      "[1300]\tvalid_0's rmse: 1.18408                                                       \n",
      "[1400]\tvalid_0's rmse: 1.18369                                                       \n",
      "[1500]\tvalid_0's rmse: 1.18361                                                       \n",
      "[1600]\tvalid_0's rmse: 1.18324                                                       \n",
      "[1700]\tvalid_0's rmse: 1.18258                                                       \n",
      "[1800]\tvalid_0's rmse: 1.18217                                                       \n",
      "[1900]\tvalid_0's rmse: 1.18171                                                       \n",
      "[2000]\tvalid_0's rmse: 1.18165                                                       \n",
      "[2100]\tvalid_0's rmse: 1.18129                                                       \n",
      "[2200]\tvalid_0's rmse: 1.18086                                                       \n",
      "[2300]\tvalid_0's rmse: 1.18048                                                       \n",
      "[2400]\tvalid_0's rmse: 1.18039                                                       \n",
      "[2500]\tvalid_0's rmse: 1.18034                                                       \n",
      "[2600]\tvalid_0's rmse: 1.18044                                                       \n",
      "[2700]\tvalid_0's rmse: 1.18022                                                       \n",
      "[2800]\tvalid_0's rmse: 1.18024                                                       \n",
      "[2900]\tvalid_0's rmse: 1.18018                                                       \n",
      "[3000]\tvalid_0's rmse: 1.18013                                                       \n",
      "[3100]\tvalid_0's rmse: 1.18029                                                       \n",
      "[3200]\tvalid_0's rmse: 1.18017                                                       \n",
      " - fold1 - 1.1800                                                                    \n",
      "[LightGBM] [Warning] feature_fraction is set=0.6838710174432332, colsample_bytree=1.0 will be ignored. Current value: feature_fraction=0.6838710174432332\n",
      "[LightGBM] [Warning] min_data_in_leaf is set=62, min_child_samples=20 will be ignored. Current value: min_data_in_leaf=62\n",
      "[LightGBM] [Warning] min_gain_to_split is set=0.018703161610050926, min_split_gain=0.0 will be ignored. Current value: min_gain_to_split=0.018703161610050926\n",
      "[LightGBM] [Warning] bagging_fraction is set=0.5387310553634895, subsample=1.0 will be ignored. Current value: bagging_fraction=0.5387310553634895\n",
      "[LightGBM] [Warning] bagging_freq is set=9, subsample_freq=0 will be ignored. Current value: bagging_freq=9\n",
      " 11%|█         | 11/100 [46:30<6:55:17, 279.97s/trial, best loss: 1.1679422217373197]"
     ]
    },
    {
     "name": "stderr",
     "output_type": "stream",
     "text": [
      "e:\\Envs\\kaggle1\\lib\\site-packages\\lightgbm\\sklearn.py:726: UserWarning: 'early_stopping_rounds' argument is deprecated and will be removed in a future release of LightGBM. Pass 'early_stopping()' callback via 'callbacks' argument instead.\n",
      "  _log_warning(\"'early_stopping_rounds' argument is deprecated and will be removed in a future release of LightGBM. \"\n",
      "\n",
      "e:\\Envs\\kaggle1\\lib\\site-packages\\lightgbm\\sklearn.py:736: UserWarning: 'verbose' argument is deprecated and will be removed in a future release of LightGBM. Pass 'log_evaluation()' callback via 'callbacks' argument instead.\n",
      "  _log_warning(\"'verbose' argument is deprecated and will be removed in a future release of LightGBM. \"\n",
      "\n"
     ]
    },
    {
     "name": "stdout",
     "output_type": "stream",
     "text": [
      "[100]\tvalid_0's rmse: 1.22426                                                        \n",
      "[200]\tvalid_0's rmse: 1.20105                                                        \n",
      "[300]\tvalid_0's rmse: 1.19456                                                        \n",
      "[400]\tvalid_0's rmse: 1.19227                                                        \n",
      "[500]\tvalid_0's rmse: 1.19183                                                        \n",
      "[600]\tvalid_0's rmse: 1.18741                                                        \n",
      "[700]\tvalid_0's rmse: 1.18531                                                        \n",
      "[800]\tvalid_0's rmse: 1.18404                                                        \n",
      "[900]\tvalid_0's rmse: 1.18325                                                        \n",
      "[1000]\tvalid_0's rmse: 1.18312                                                       \n",
      "[1100]\tvalid_0's rmse: 1.1816                                                        \n",
      "[1200]\tvalid_0's rmse: 1.18107                                                       \n",
      "[1300]\tvalid_0's rmse: 1.18023                                                       \n",
      "[1400]\tvalid_0's rmse: 1.17974                                                       \n",
      "[1500]\tvalid_0's rmse: 1.17967                                                       \n",
      "[1600]\tvalid_0's rmse: 1.17927                                                       \n",
      "[1700]\tvalid_0's rmse: 1.17868                                                       \n",
      "[1800]\tvalid_0's rmse: 1.17829                                                       \n",
      "[1900]\tvalid_0's rmse: 1.17799                                                       \n",
      "[2000]\tvalid_0's rmse: 1.17793                                                       \n",
      "[2100]\tvalid_0's rmse: 1.17814                                                       \n",
      " - fold2 - 1.1779                                                                    \n",
      "==================================================                                   \n",
      "FINISHI: Whole Score: 1.1790                                                         \n",
      " 12%|█▏        | 12/100 [48:00<6:29:21, 265.47s/trial, best loss: 1.1679422217373197]"
     ]
    },
    {
     "data": {
      "application/vnd.jupyter.widget-view+json": {
       "model_id": "20e0ba4a24c540c9b0b64a262256e918",
       "version_major": 2,
       "version_minor": 0
      },
      "text/plain": [
       "  0%|          | 0/2 [00:00<?, ?it/s]"
      ]
     },
     "metadata": {},
     "output_type": "display_data"
    },
    {
     "name": "stdout",
     "output_type": "stream",
     "text": [
      "[LightGBM] [Warning] feature_fraction is set=0.6364449728984175, colsample_bytree=1.0 will be ignored. Current value: feature_fraction=0.6364449728984175\n",
      "[LightGBM] [Warning] min_data_in_leaf is set=73, min_child_samples=20 will be ignored. Current value: min_data_in_leaf=73\n",
      "[LightGBM] [Warning] min_gain_to_split is set=0.10212597526507472, min_split_gain=0.0 will be ignored. Current value: min_gain_to_split=0.10212597526507472\n",
      "[LightGBM] [Warning] bagging_fraction is set=0.5075288147196664, subsample=1.0 will be ignored. Current value: bagging_fraction=0.5075288147196664\n",
      "[LightGBM] [Warning] bagging_freq is set=5, subsample_freq=0 will be ignored. Current value: bagging_freq=5\n",
      " 12%|█▏        | 12/100 [48:00<6:29:21, 265.47s/trial, best loss: 1.1679422217373197]"
     ]
    },
    {
     "name": "stderr",
     "output_type": "stream",
     "text": [
      "e:\\Envs\\kaggle1\\lib\\site-packages\\lightgbm\\sklearn.py:726: UserWarning: 'early_stopping_rounds' argument is deprecated and will be removed in a future release of LightGBM. Pass 'early_stopping()' callback via 'callbacks' argument instead.\n",
      "  _log_warning(\"'early_stopping_rounds' argument is deprecated and will be removed in a future release of LightGBM. \"\n",
      "\n",
      "e:\\Envs\\kaggle1\\lib\\site-packages\\lightgbm\\sklearn.py:736: UserWarning: 'verbose' argument is deprecated and will be removed in a future release of LightGBM. Pass 'log_evaluation()' callback via 'callbacks' argument instead.\n",
      "  _log_warning(\"'verbose' argument is deprecated and will be removed in a future release of LightGBM. \"\n",
      "\n"
     ]
    },
    {
     "name": "stdout",
     "output_type": "stream",
     "text": [
      "[100]\tvalid_0's rmse: 1.20736                                                        \n",
      "[200]\tvalid_0's rmse: 1.19393                                                        \n",
      "[300]\tvalid_0's rmse: 1.18937                                                        \n",
      "[400]\tvalid_0's rmse: 1.18775                                                        \n",
      "[500]\tvalid_0's rmse: 1.18741                                                        \n",
      "[600]\tvalid_0's rmse: 1.18561                                                        \n",
      "[700]\tvalid_0's rmse: 1.18484                                                        \n",
      "[800]\tvalid_0's rmse: 1.18369                                                        \n",
      "[900]\tvalid_0's rmse: 1.1834                                                         \n",
      "[1000]\tvalid_0's rmse: 1.1833                                                        \n",
      "[1100]\tvalid_0's rmse: 1.18418                                                       \n",
      "[1200]\tvalid_0's rmse: 1.18428                                                       \n",
      " - fold1 - 1.1833                                                                    \n",
      "[LightGBM] [Warning] feature_fraction is set=0.6364449728984175, colsample_bytree=1.0 will be ignored. Current value: feature_fraction=0.6364449728984175\n",
      "[LightGBM] [Warning] min_data_in_leaf is set=73, min_child_samples=20 will be ignored. Current value: min_data_in_leaf=73\n",
      "[LightGBM] [Warning] min_gain_to_split is set=0.10212597526507472, min_split_gain=0.0 will be ignored. Current value: min_gain_to_split=0.10212597526507472\n",
      "[LightGBM] [Warning] bagging_fraction is set=0.5075288147196664, subsample=1.0 will be ignored. Current value: bagging_fraction=0.5075288147196664\n",
      "[LightGBM] [Warning] bagging_freq is set=5, subsample_freq=0 will be ignored. Current value: bagging_freq=5\n",
      " 12%|█▏        | 12/100 [49:21<6:29:21, 265.47s/trial, best loss: 1.1679422217373197]"
     ]
    },
    {
     "name": "stderr",
     "output_type": "stream",
     "text": [
      "e:\\Envs\\kaggle1\\lib\\site-packages\\lightgbm\\sklearn.py:726: UserWarning: 'early_stopping_rounds' argument is deprecated and will be removed in a future release of LightGBM. Pass 'early_stopping()' callback via 'callbacks' argument instead.\n",
      "  _log_warning(\"'early_stopping_rounds' argument is deprecated and will be removed in a future release of LightGBM. \"\n",
      "\n",
      "e:\\Envs\\kaggle1\\lib\\site-packages\\lightgbm\\sklearn.py:736: UserWarning: 'verbose' argument is deprecated and will be removed in a future release of LightGBM. Pass 'log_evaluation()' callback via 'callbacks' argument instead.\n",
      "  _log_warning(\"'verbose' argument is deprecated and will be removed in a future release of LightGBM. \"\n",
      "\n"
     ]
    },
    {
     "name": "stdout",
     "output_type": "stream",
     "text": [
      "[100]\tvalid_0's rmse: 1.20524                                                        \n",
      "[200]\tvalid_0's rmse: 1.19119                                                        \n",
      "[300]\tvalid_0's rmse: 1.18746                                                        \n",
      "[400]\tvalid_0's rmse: 1.18569                                                        \n",
      "[500]\tvalid_0's rmse: 1.18544                                                        \n",
      "[600]\tvalid_0's rmse: 1.18533                                                        \n",
      "[700]\tvalid_0's rmse: 1.18511                                                        \n",
      "[800]\tvalid_0's rmse: 1.18498                                                        \n",
      "[900]\tvalid_0's rmse: 1.18444                                                        \n",
      "[1000]\tvalid_0's rmse: 1.18435                                                       \n",
      "[1100]\tvalid_0's rmse: 1.18547                                                       \n",
      "[1200]\tvalid_0's rmse: 1.18654                                                       \n",
      " - fold2 - 1.1843                                                                    \n",
      "==================================================                                   \n",
      "FINISHI: Whole Score: 1.1838                                                         \n",
      " 13%|█▎        | 13/100 [50:29<5:33:45, 230.18s/trial, best loss: 1.1679422217373197]"
     ]
    },
    {
     "data": {
      "application/vnd.jupyter.widget-view+json": {
       "model_id": "0787c4c03999444795253b381a36d24e",
       "version_major": 2,
       "version_minor": 0
      },
      "text/plain": [
       "  0%|          | 0/2 [00:00<?, ?it/s]"
      ]
     },
     "metadata": {},
     "output_type": "display_data"
    },
    {
     "name": "stdout",
     "output_type": "stream",
     "text": [
      "[LightGBM] [Warning] feature_fraction is set=0.6091229867180527, colsample_bytree=1.0 will be ignored. Current value: feature_fraction=0.6091229867180527\n",
      "[LightGBM] [Warning] min_data_in_leaf is set=17, min_child_samples=20 will be ignored. Current value: min_data_in_leaf=17\n",
      "[LightGBM] [Warning] min_gain_to_split is set=0.03742821386200975, min_split_gain=0.0 will be ignored. Current value: min_gain_to_split=0.03742821386200975\n",
      "[LightGBM] [Warning] bagging_fraction is set=0.5673866528335354, subsample=1.0 will be ignored. Current value: bagging_fraction=0.5673866528335354\n",
      "[LightGBM] [Warning] bagging_freq is set=7, subsample_freq=0 will be ignored. Current value: bagging_freq=7\n",
      " 13%|█▎        | 13/100 [50:29<5:33:45, 230.18s/trial, best loss: 1.1679422217373197]"
     ]
    },
    {
     "name": "stderr",
     "output_type": "stream",
     "text": [
      "e:\\Envs\\kaggle1\\lib\\site-packages\\lightgbm\\sklearn.py:726: UserWarning: 'early_stopping_rounds' argument is deprecated and will be removed in a future release of LightGBM. Pass 'early_stopping()' callback via 'callbacks' argument instead.\n",
      "  _log_warning(\"'early_stopping_rounds' argument is deprecated and will be removed in a future release of LightGBM. \"\n",
      "\n",
      "e:\\Envs\\kaggle1\\lib\\site-packages\\lightgbm\\sklearn.py:736: UserWarning: 'verbose' argument is deprecated and will be removed in a future release of LightGBM. Pass 'log_evaluation()' callback via 'callbacks' argument instead.\n",
      "  _log_warning(\"'verbose' argument is deprecated and will be removed in a future release of LightGBM. \"\n",
      "\n"
     ]
    },
    {
     "name": "stdout",
     "output_type": "stream",
     "text": [
      "[100]\tvalid_0's rmse: 1.21073                                                        \n",
      "[200]\tvalid_0's rmse: 1.19487                                                        \n",
      "[300]\tvalid_0's rmse: 1.19003                                                        \n",
      "[400]\tvalid_0's rmse: 1.18812                                                        \n",
      "[500]\tvalid_0's rmse: 1.18779                                                        \n",
      "[600]\tvalid_0's rmse: 1.18617                                                        \n",
      "[700]\tvalid_0's rmse: 1.18421                                                        \n",
      "[800]\tvalid_0's rmse: 1.18342                                                        \n",
      "[900]\tvalid_0's rmse: 1.18281                                                        \n",
      "[1000]\tvalid_0's rmse: 1.18273                                                       \n",
      "[1100]\tvalid_0's rmse: 1.18311                                                       \n",
      "[1200]\tvalid_0's rmse: 1.1831                                                        \n",
      " - fold1 - 1.1827                                                                    \n",
      "[LightGBM] [Warning] feature_fraction is set=0.6091229867180527, colsample_bytree=1.0 will be ignored. Current value: feature_fraction=0.6091229867180527\n",
      "[LightGBM] [Warning] min_data_in_leaf is set=17, min_child_samples=20 will be ignored. Current value: min_data_in_leaf=17\n",
      "[LightGBM] [Warning] min_gain_to_split is set=0.03742821386200975, min_split_gain=0.0 will be ignored. Current value: min_gain_to_split=0.03742821386200975\n",
      "[LightGBM] [Warning] bagging_fraction is set=0.5673866528335354, subsample=1.0 will be ignored. Current value: bagging_fraction=0.5673866528335354\n",
      "[LightGBM] [Warning] bagging_freq is set=7, subsample_freq=0 will be ignored. Current value: bagging_freq=7\n",
      " 13%|█▎        | 13/100 [51:43<5:33:45, 230.18s/trial, best loss: 1.1679422217373197]"
     ]
    },
    {
     "name": "stderr",
     "output_type": "stream",
     "text": [
      "e:\\Envs\\kaggle1\\lib\\site-packages\\lightgbm\\sklearn.py:726: UserWarning: 'early_stopping_rounds' argument is deprecated and will be removed in a future release of LightGBM. Pass 'early_stopping()' callback via 'callbacks' argument instead.\n",
      "  _log_warning(\"'early_stopping_rounds' argument is deprecated and will be removed in a future release of LightGBM. \"\n",
      "\n",
      "e:\\Envs\\kaggle1\\lib\\site-packages\\lightgbm\\sklearn.py:736: UserWarning: 'verbose' argument is deprecated and will be removed in a future release of LightGBM. Pass 'log_evaluation()' callback via 'callbacks' argument instead.\n",
      "  _log_warning(\"'verbose' argument is deprecated and will be removed in a future release of LightGBM. \"\n",
      "\n"
     ]
    },
    {
     "name": "stdout",
     "output_type": "stream",
     "text": [
      "[100]\tvalid_0's rmse: 1.20879                                                        \n",
      "[200]\tvalid_0's rmse: 1.1923                                                         \n",
      "[300]\tvalid_0's rmse: 1.18784                                                        \n",
      "[400]\tvalid_0's rmse: 1.18614                                                        \n",
      "[500]\tvalid_0's rmse: 1.18587                                                        \n",
      "[600]\tvalid_0's rmse: 1.1839                                                         \n",
      "[700]\tvalid_0's rmse: 1.18335                                                        \n",
      "[800]\tvalid_0's rmse: 1.18212                                                        \n",
      "[900]\tvalid_0's rmse: 1.18147                                                        \n",
      "[1000]\tvalid_0's rmse: 1.18137                                                       \n",
      "[1100]\tvalid_0's rmse: 1.18198                                                       \n",
      "[1200]\tvalid_0's rmse: 1.18257                                                       \n",
      " - fold2 - 1.1813                                                                    \n",
      "==================================================                                   \n",
      "FINISHI: Whole Score: 1.1820                                                         \n",
      " 14%|█▍        | 14/100 [52:46<4:49:41, 202.12s/trial, best loss: 1.1679422217373197]"
     ]
    },
    {
     "data": {
      "application/vnd.jupyter.widget-view+json": {
       "model_id": "7f4230811e2543cea090b664f1315f70",
       "version_major": 2,
       "version_minor": 0
      },
      "text/plain": [
       "  0%|          | 0/2 [00:00<?, ?it/s]"
      ]
     },
     "metadata": {},
     "output_type": "display_data"
    },
    {
     "name": "stdout",
     "output_type": "stream",
     "text": [
      "[LightGBM] [Warning] feature_fraction is set=0.6564013682388419, colsample_bytree=1.0 will be ignored. Current value: feature_fraction=0.6564013682388419\n",
      "[LightGBM] [Warning] min_data_in_leaf is set=18, min_child_samples=20 will be ignored. Current value: min_data_in_leaf=18\n",
      "[LightGBM] [Warning] min_gain_to_split is set=0.07314486902319842, min_split_gain=0.0 will be ignored. Current value: min_gain_to_split=0.07314486902319842\n",
      "[LightGBM] [Warning] bagging_fraction is set=0.7816649199642013, subsample=1.0 will be ignored. Current value: bagging_fraction=0.7816649199642013\n",
      "[LightGBM] [Warning] bagging_freq is set=9, subsample_freq=0 will be ignored. Current value: bagging_freq=9\n",
      " 14%|█▍        | 14/100 [52:47<4:49:41, 202.12s/trial, best loss: 1.1679422217373197]"
     ]
    },
    {
     "name": "stderr",
     "output_type": "stream",
     "text": [
      "e:\\Envs\\kaggle1\\lib\\site-packages\\lightgbm\\sklearn.py:726: UserWarning: 'early_stopping_rounds' argument is deprecated and will be removed in a future release of LightGBM. Pass 'early_stopping()' callback via 'callbacks' argument instead.\n",
      "  _log_warning(\"'early_stopping_rounds' argument is deprecated and will be removed in a future release of LightGBM. \"\n",
      "\n",
      "e:\\Envs\\kaggle1\\lib\\site-packages\\lightgbm\\sklearn.py:736: UserWarning: 'verbose' argument is deprecated and will be removed in a future release of LightGBM. Pass 'log_evaluation()' callback via 'callbacks' argument instead.\n",
      "  _log_warning(\"'verbose' argument is deprecated and will be removed in a future release of LightGBM. \"\n",
      "\n"
     ]
    },
    {
     "name": "stdout",
     "output_type": "stream",
     "text": [
      "[100]\tvalid_0's rmse: 1.19048                                                        \n",
      "[200]\tvalid_0's rmse: 1.18361                                                        \n",
      "[300]\tvalid_0's rmse: 1.18116                                                        \n",
      "[400]\tvalid_0's rmse: 1.18003                                                        \n",
      "[500]\tvalid_0's rmse: 1.17982                                                        \n",
      "[600]\tvalid_0's rmse: 1.17908                                                        \n",
      "[700]\tvalid_0's rmse: 1.17919                                                        \n",
      "[800]\tvalid_0's rmse: 1.17868                                                        \n",
      "[900]\tvalid_0's rmse: 1.1785                                                         \n",
      "[1000]\tvalid_0's rmse: 1.17845                                                       \n",
      "[1100]\tvalid_0's rmse: 1.17873                                                       \n",
      "[1200]\tvalid_0's rmse: 1.1792                                                        \n",
      " - fold1 - 1.1784                                                                    \n",
      "[LightGBM] [Warning] feature_fraction is set=0.6564013682388419, colsample_bytree=1.0 will be ignored. Current value: feature_fraction=0.6564013682388419\n",
      "[LightGBM] [Warning] min_data_in_leaf is set=18, min_child_samples=20 will be ignored. Current value: min_data_in_leaf=18\n",
      "[LightGBM] [Warning] min_gain_to_split is set=0.07314486902319842, min_split_gain=0.0 will be ignored. Current value: min_gain_to_split=0.07314486902319842\n",
      "[LightGBM] [Warning] bagging_fraction is set=0.7816649199642013, subsample=1.0 will be ignored. Current value: bagging_fraction=0.7816649199642013\n",
      "[LightGBM] [Warning] bagging_freq is set=9, subsample_freq=0 will be ignored. Current value: bagging_freq=9\n",
      " 14%|█▍        | 14/100 [55:43<4:49:41, 202.12s/trial, best loss: 1.1679422217373197]"
     ]
    },
    {
     "name": "stderr",
     "output_type": "stream",
     "text": [
      "e:\\Envs\\kaggle1\\lib\\site-packages\\lightgbm\\sklearn.py:726: UserWarning: 'early_stopping_rounds' argument is deprecated and will be removed in a future release of LightGBM. Pass 'early_stopping()' callback via 'callbacks' argument instead.\n",
      "  _log_warning(\"'early_stopping_rounds' argument is deprecated and will be removed in a future release of LightGBM. \"\n",
      "\n",
      "e:\\Envs\\kaggle1\\lib\\site-packages\\lightgbm\\sklearn.py:736: UserWarning: 'verbose' argument is deprecated and will be removed in a future release of LightGBM. Pass 'log_evaluation()' callback via 'callbacks' argument instead.\n",
      "  _log_warning(\"'verbose' argument is deprecated and will be removed in a future release of LightGBM. \"\n",
      "\n"
     ]
    },
    {
     "name": "stdout",
     "output_type": "stream",
     "text": [
      "[100]\tvalid_0's rmse: 1.18888                                                        \n",
      "[200]\tvalid_0's rmse: 1.18134                                                        \n",
      "[300]\tvalid_0's rmse: 1.17868                                                        \n",
      "[400]\tvalid_0's rmse: 1.17781                                                        \n",
      "[500]\tvalid_0's rmse: 1.17769                                                        \n",
      "[600]\tvalid_0's rmse: 1.17708                                                        \n",
      "[700]\tvalid_0's rmse: 1.1764                                                         \n",
      "[800]\tvalid_0's rmse: 1.17647                                                        \n",
      "[900]\tvalid_0's rmse: 1.17627                                                        \n",
      "[1000]\tvalid_0's rmse: 1.17621                                                       \n",
      "[1100]\tvalid_0's rmse: 1.17639                                                       \n",
      " - fold2 - 1.1762                                                                    \n",
      "==================================================                                   \n",
      "FINISHI: Whole Score: 1.1773                                                         \n",
      " 15%|█▌        | 15/100 [58:35<5:49:02, 246.38s/trial, best loss: 1.1679422217373197]"
     ]
    },
    {
     "data": {
      "application/vnd.jupyter.widget-view+json": {
       "model_id": "d610bda5c248400b8762ffe44a4d590c",
       "version_major": 2,
       "version_minor": 0
      },
      "text/plain": [
       "  0%|          | 0/2 [00:00<?, ?it/s]"
      ]
     },
     "metadata": {},
     "output_type": "display_data"
    },
    {
     "name": "stdout",
     "output_type": "stream",
     "text": [
      "[LightGBM] [Warning] feature_fraction is set=0.7919396164467023, colsample_bytree=1.0 will be ignored. Current value: feature_fraction=0.7919396164467023\n",
      "[LightGBM] [Warning] min_data_in_leaf is set=85, min_child_samples=20 will be ignored. Current value: min_data_in_leaf=85\n",
      "[LightGBM] [Warning] min_gain_to_split is set=0.064286943053504, min_split_gain=0.0 will be ignored. Current value: min_gain_to_split=0.064286943053504\n",
      "[LightGBM] [Warning] bagging_fraction is set=0.942329377630061, subsample=1.0 will be ignored. Current value: bagging_fraction=0.942329377630061\n",
      "[LightGBM] [Warning] bagging_freq is set=3, subsample_freq=0 will be ignored. Current value: bagging_freq=3\n",
      " 15%|█▌        | 15/100 [58:36<5:49:02, 246.38s/trial, best loss: 1.1679422217373197]"
     ]
    },
    {
     "name": "stderr",
     "output_type": "stream",
     "text": [
      "e:\\Envs\\kaggle1\\lib\\site-packages\\lightgbm\\sklearn.py:726: UserWarning: 'early_stopping_rounds' argument is deprecated and will be removed in a future release of LightGBM. Pass 'early_stopping()' callback via 'callbacks' argument instead.\n",
      "  _log_warning(\"'early_stopping_rounds' argument is deprecated and will be removed in a future release of LightGBM. \"\n",
      "\n",
      "e:\\Envs\\kaggle1\\lib\\site-packages\\lightgbm\\sklearn.py:736: UserWarning: 'verbose' argument is deprecated and will be removed in a future release of LightGBM. Pass 'log_evaluation()' callback via 'callbacks' argument instead.\n",
      "  _log_warning(\"'verbose' argument is deprecated and will be removed in a future release of LightGBM. \"\n",
      "\n"
     ]
    },
    {
     "name": "stdout",
     "output_type": "stream",
     "text": [
      "[100]\tvalid_0's rmse: 1.2295                                                         \n",
      "[200]\tvalid_0's rmse: 1.20487                                                        \n",
      "[300]\tvalid_0's rmse: 1.19802                                                        \n",
      "[400]\tvalid_0's rmse: 1.19586                                                        \n",
      "[500]\tvalid_0's rmse: 1.19547                                                        \n",
      "[600]\tvalid_0's rmse: 1.18959                                                        \n",
      "[700]\tvalid_0's rmse: 1.18619                                                        \n",
      "[800]\tvalid_0's rmse: 1.1841                                                         \n",
      "[900]\tvalid_0's rmse: 1.18325                                                        \n",
      "[1000]\tvalid_0's rmse: 1.18312                                                       \n",
      "[1100]\tvalid_0's rmse: 1.18064                                                       \n",
      "[1200]\tvalid_0's rmse: 1.17906                                                       \n",
      "[1300]\tvalid_0's rmse: 1.17799                                                       \n",
      "[1400]\tvalid_0's rmse: 1.17748                                                       \n",
      "[1500]\tvalid_0's rmse: 1.17742                                                       \n",
      "[1600]\tvalid_0's rmse: 1.17606                                                       \n",
      "[1700]\tvalid_0's rmse: 1.17535                                                       \n",
      "[1800]\tvalid_0's rmse: 1.17494                                                       \n",
      " 15%|█▌        | 15/100 [59:43<5:38:25, 238.89s/trial, best loss: 1.1679422217373197]\n"
     ]
    },
    {
     "ename": "KeyboardInterrupt",
     "evalue": "",
     "output_type": "error",
     "traceback": [
      "\u001b[1;31m---------------------------------------------------------------------------\u001b[0m",
      "\u001b[1;31mKeyboardInterrupt\u001b[0m                         Traceback (most recent call last)",
      "\u001b[1;32md:\\Code\\kaggle\\atmacup\\#15\\preprocessing.ipynb Cell 14\u001b[0m in \u001b[0;36m1\n\u001b[0;32m    <a href='vscode-notebook-cell:/d%3A/Code/kaggle/atmacup/%2315/preprocessing.ipynb#X22sZmlsZQ%3D%3D?line=103'>104</a>\u001b[0m \u001b[39m# Run the optimization\u001b[39;00m\n\u001b[0;32m    <a href='vscode-notebook-cell:/d%3A/Code/kaggle/atmacup/%2315/preprocessing.ipynb#X22sZmlsZQ%3D%3D?line=104'>105</a>\u001b[0m trials \u001b[39m=\u001b[39m Trials()\n\u001b[1;32m--> <a href='vscode-notebook-cell:/d%3A/Code/kaggle/atmacup/%2315/preprocessing.ipynb#X22sZmlsZQ%3D%3D?line=105'>106</a>\u001b[0m best \u001b[39m=\u001b[39m fmin(fn\u001b[39m=\u001b[39;49mobjective,\n\u001b[0;32m    <a href='vscode-notebook-cell:/d%3A/Code/kaggle/atmacup/%2315/preprocessing.ipynb#X22sZmlsZQ%3D%3D?line=106'>107</a>\u001b[0m             space\u001b[39m=\u001b[39;49mspace,\n\u001b[0;32m    <a href='vscode-notebook-cell:/d%3A/Code/kaggle/atmacup/%2315/preprocessing.ipynb#X22sZmlsZQ%3D%3D?line=107'>108</a>\u001b[0m             algo\u001b[39m=\u001b[39;49mtpe\u001b[39m.\u001b[39;49msuggest,\n\u001b[0;32m    <a href='vscode-notebook-cell:/d%3A/Code/kaggle/atmacup/%2315/preprocessing.ipynb#X22sZmlsZQ%3D%3D?line=108'>109</a>\u001b[0m             max_evals\u001b[39m=\u001b[39;49m\u001b[39m100\u001b[39;49m,\n\u001b[0;32m    <a href='vscode-notebook-cell:/d%3A/Code/kaggle/atmacup/%2315/preprocessing.ipynb#X22sZmlsZQ%3D%3D?line=109'>110</a>\u001b[0m             trials\u001b[39m=\u001b[39;49mtrials)\n\u001b[0;32m    <a href='vscode-notebook-cell:/d%3A/Code/kaggle/atmacup/%2315/preprocessing.ipynb#X22sZmlsZQ%3D%3D?line=111'>112</a>\u001b[0m \u001b[39m# Print the best hyperparameters\u001b[39;00m\n\u001b[0;32m    <a href='vscode-notebook-cell:/d%3A/Code/kaggle/atmacup/%2315/preprocessing.ipynb#X22sZmlsZQ%3D%3D?line=112'>113</a>\u001b[0m \u001b[39mprint\u001b[39m(best)\n",
      "File \u001b[1;32me:\\Envs\\kaggle1\\lib\\site-packages\\hyperopt\\fmin.py:540\u001b[0m, in \u001b[0;36mfmin\u001b[1;34m(fn, space, algo, max_evals, timeout, loss_threshold, trials, rstate, allow_trials_fmin, pass_expr_memo_ctrl, catch_eval_exceptions, verbose, return_argmin, points_to_evaluate, max_queue_len, show_progressbar, early_stop_fn, trials_save_file)\u001b[0m\n\u001b[0;32m    537\u001b[0m     fn \u001b[39m=\u001b[39m __objective_fmin_wrapper(fn)\n\u001b[0;32m    539\u001b[0m \u001b[39mif\u001b[39;00m allow_trials_fmin \u001b[39mand\u001b[39;00m \u001b[39mhasattr\u001b[39m(trials, \u001b[39m\"\u001b[39m\u001b[39mfmin\u001b[39m\u001b[39m\"\u001b[39m):\n\u001b[1;32m--> 540\u001b[0m     \u001b[39mreturn\u001b[39;00m trials\u001b[39m.\u001b[39;49mfmin(\n\u001b[0;32m    541\u001b[0m         fn,\n\u001b[0;32m    542\u001b[0m         space,\n\u001b[0;32m    543\u001b[0m         algo\u001b[39m=\u001b[39;49malgo,\n\u001b[0;32m    544\u001b[0m         max_evals\u001b[39m=\u001b[39;49mmax_evals,\n\u001b[0;32m    545\u001b[0m         timeout\u001b[39m=\u001b[39;49mtimeout,\n\u001b[0;32m    546\u001b[0m         loss_threshold\u001b[39m=\u001b[39;49mloss_threshold,\n\u001b[0;32m    547\u001b[0m         max_queue_len\u001b[39m=\u001b[39;49mmax_queue_len,\n\u001b[0;32m    548\u001b[0m         rstate\u001b[39m=\u001b[39;49mrstate,\n\u001b[0;32m    549\u001b[0m         pass_expr_memo_ctrl\u001b[39m=\u001b[39;49mpass_expr_memo_ctrl,\n\u001b[0;32m    550\u001b[0m         verbose\u001b[39m=\u001b[39;49mverbose,\n\u001b[0;32m    551\u001b[0m         catch_eval_exceptions\u001b[39m=\u001b[39;49mcatch_eval_exceptions,\n\u001b[0;32m    552\u001b[0m         return_argmin\u001b[39m=\u001b[39;49mreturn_argmin,\n\u001b[0;32m    553\u001b[0m         show_progressbar\u001b[39m=\u001b[39;49mshow_progressbar,\n\u001b[0;32m    554\u001b[0m         early_stop_fn\u001b[39m=\u001b[39;49mearly_stop_fn,\n\u001b[0;32m    555\u001b[0m         trials_save_file\u001b[39m=\u001b[39;49mtrials_save_file,\n\u001b[0;32m    556\u001b[0m     )\n\u001b[0;32m    558\u001b[0m \u001b[39mif\u001b[39;00m trials \u001b[39mis\u001b[39;00m \u001b[39mNone\u001b[39;00m:\n\u001b[0;32m    559\u001b[0m     \u001b[39mif\u001b[39;00m os\u001b[39m.\u001b[39mpath\u001b[39m.\u001b[39mexists(trials_save_file):\n",
      "File \u001b[1;32me:\\Envs\\kaggle1\\lib\\site-packages\\hyperopt\\base.py:671\u001b[0m, in \u001b[0;36mTrials.fmin\u001b[1;34m(self, fn, space, algo, max_evals, timeout, loss_threshold, max_queue_len, rstate, verbose, pass_expr_memo_ctrl, catch_eval_exceptions, return_argmin, show_progressbar, early_stop_fn, trials_save_file)\u001b[0m\n\u001b[0;32m    666\u001b[0m \u001b[39m# -- Stop-gap implementation!\u001b[39;00m\n\u001b[0;32m    667\u001b[0m \u001b[39m#    fmin should have been a Trials method in the first place\u001b[39;00m\n\u001b[0;32m    668\u001b[0m \u001b[39m#    but for now it's still sitting in another file.\u001b[39;00m\n\u001b[0;32m    669\u001b[0m \u001b[39mfrom\u001b[39;00m \u001b[39m.\u001b[39;00m\u001b[39mfmin\u001b[39;00m \u001b[39mimport\u001b[39;00m fmin\n\u001b[1;32m--> 671\u001b[0m \u001b[39mreturn\u001b[39;00m fmin(\n\u001b[0;32m    672\u001b[0m     fn,\n\u001b[0;32m    673\u001b[0m     space,\n\u001b[0;32m    674\u001b[0m     algo\u001b[39m=\u001b[39;49malgo,\n\u001b[0;32m    675\u001b[0m     max_evals\u001b[39m=\u001b[39;49mmax_evals,\n\u001b[0;32m    676\u001b[0m     timeout\u001b[39m=\u001b[39;49mtimeout,\n\u001b[0;32m    677\u001b[0m     loss_threshold\u001b[39m=\u001b[39;49mloss_threshold,\n\u001b[0;32m    678\u001b[0m     trials\u001b[39m=\u001b[39;49m\u001b[39mself\u001b[39;49m,\n\u001b[0;32m    679\u001b[0m     rstate\u001b[39m=\u001b[39;49mrstate,\n\u001b[0;32m    680\u001b[0m     verbose\u001b[39m=\u001b[39;49mverbose,\n\u001b[0;32m    681\u001b[0m     max_queue_len\u001b[39m=\u001b[39;49mmax_queue_len,\n\u001b[0;32m    682\u001b[0m     allow_trials_fmin\u001b[39m=\u001b[39;49m\u001b[39mFalse\u001b[39;49;00m,  \u001b[39m# -- prevent recursion\u001b[39;49;00m\n\u001b[0;32m    683\u001b[0m     pass_expr_memo_ctrl\u001b[39m=\u001b[39;49mpass_expr_memo_ctrl,\n\u001b[0;32m    684\u001b[0m     catch_eval_exceptions\u001b[39m=\u001b[39;49mcatch_eval_exceptions,\n\u001b[0;32m    685\u001b[0m     return_argmin\u001b[39m=\u001b[39;49mreturn_argmin,\n\u001b[0;32m    686\u001b[0m     show_progressbar\u001b[39m=\u001b[39;49mshow_progressbar,\n\u001b[0;32m    687\u001b[0m     early_stop_fn\u001b[39m=\u001b[39;49mearly_stop_fn,\n\u001b[0;32m    688\u001b[0m     trials_save_file\u001b[39m=\u001b[39;49mtrials_save_file,\n\u001b[0;32m    689\u001b[0m )\n",
      "File \u001b[1;32me:\\Envs\\kaggle1\\lib\\site-packages\\hyperopt\\fmin.py:586\u001b[0m, in \u001b[0;36mfmin\u001b[1;34m(fn, space, algo, max_evals, timeout, loss_threshold, trials, rstate, allow_trials_fmin, pass_expr_memo_ctrl, catch_eval_exceptions, verbose, return_argmin, points_to_evaluate, max_queue_len, show_progressbar, early_stop_fn, trials_save_file)\u001b[0m\n\u001b[0;32m    583\u001b[0m rval\u001b[39m.\u001b[39mcatch_eval_exceptions \u001b[39m=\u001b[39m catch_eval_exceptions\n\u001b[0;32m    585\u001b[0m \u001b[39m# next line is where the fmin is actually executed\u001b[39;00m\n\u001b[1;32m--> 586\u001b[0m rval\u001b[39m.\u001b[39;49mexhaust()\n\u001b[0;32m    588\u001b[0m \u001b[39mif\u001b[39;00m return_argmin:\n\u001b[0;32m    589\u001b[0m     \u001b[39mif\u001b[39;00m \u001b[39mlen\u001b[39m(trials\u001b[39m.\u001b[39mtrials) \u001b[39m==\u001b[39m \u001b[39m0\u001b[39m:\n",
      "File \u001b[1;32me:\\Envs\\kaggle1\\lib\\site-packages\\hyperopt\\fmin.py:364\u001b[0m, in \u001b[0;36mFMinIter.exhaust\u001b[1;34m(self)\u001b[0m\n\u001b[0;32m    362\u001b[0m \u001b[39mdef\u001b[39;00m \u001b[39mexhaust\u001b[39m(\u001b[39mself\u001b[39m):\n\u001b[0;32m    363\u001b[0m     n_done \u001b[39m=\u001b[39m \u001b[39mlen\u001b[39m(\u001b[39mself\u001b[39m\u001b[39m.\u001b[39mtrials)\n\u001b[1;32m--> 364\u001b[0m     \u001b[39mself\u001b[39;49m\u001b[39m.\u001b[39;49mrun(\u001b[39mself\u001b[39;49m\u001b[39m.\u001b[39;49mmax_evals \u001b[39m-\u001b[39;49m n_done, block_until_done\u001b[39m=\u001b[39;49m\u001b[39mself\u001b[39;49m\u001b[39m.\u001b[39;49masynchronous)\n\u001b[0;32m    365\u001b[0m     \u001b[39mself\u001b[39m\u001b[39m.\u001b[39mtrials\u001b[39m.\u001b[39mrefresh()\n\u001b[0;32m    366\u001b[0m     \u001b[39mreturn\u001b[39;00m \u001b[39mself\u001b[39m\n",
      "File \u001b[1;32me:\\Envs\\kaggle1\\lib\\site-packages\\hyperopt\\fmin.py:300\u001b[0m, in \u001b[0;36mFMinIter.run\u001b[1;34m(self, N, block_until_done)\u001b[0m\n\u001b[0;32m    297\u001b[0m     time\u001b[39m.\u001b[39msleep(\u001b[39mself\u001b[39m\u001b[39m.\u001b[39mpoll_interval_secs)\n\u001b[0;32m    298\u001b[0m \u001b[39melse\u001b[39;00m:\n\u001b[0;32m    299\u001b[0m     \u001b[39m# -- loop over trials and do the jobs directly\u001b[39;00m\n\u001b[1;32m--> 300\u001b[0m     \u001b[39mself\u001b[39;49m\u001b[39m.\u001b[39;49mserial_evaluate()\n\u001b[0;32m    302\u001b[0m \u001b[39mself\u001b[39m\u001b[39m.\u001b[39mtrials\u001b[39m.\u001b[39mrefresh()\n\u001b[0;32m    303\u001b[0m \u001b[39mif\u001b[39;00m \u001b[39mself\u001b[39m\u001b[39m.\u001b[39mtrials_save_file \u001b[39m!=\u001b[39m \u001b[39m\"\u001b[39m\u001b[39m\"\u001b[39m:\n",
      "File \u001b[1;32me:\\Envs\\kaggle1\\lib\\site-packages\\hyperopt\\fmin.py:178\u001b[0m, in \u001b[0;36mFMinIter.serial_evaluate\u001b[1;34m(self, N)\u001b[0m\n\u001b[0;32m    176\u001b[0m ctrl \u001b[39m=\u001b[39m base\u001b[39m.\u001b[39mCtrl(\u001b[39mself\u001b[39m\u001b[39m.\u001b[39mtrials, current_trial\u001b[39m=\u001b[39mtrial)\n\u001b[0;32m    177\u001b[0m \u001b[39mtry\u001b[39;00m:\n\u001b[1;32m--> 178\u001b[0m     result \u001b[39m=\u001b[39m \u001b[39mself\u001b[39;49m\u001b[39m.\u001b[39;49mdomain\u001b[39m.\u001b[39;49mevaluate(spec, ctrl)\n\u001b[0;32m    179\u001b[0m \u001b[39mexcept\u001b[39;00m \u001b[39mException\u001b[39;00m \u001b[39mas\u001b[39;00m e:\n\u001b[0;32m    180\u001b[0m     logger\u001b[39m.\u001b[39merror(\u001b[39m\"\u001b[39m\u001b[39mjob exception: \u001b[39m\u001b[39m%s\u001b[39;00m\u001b[39m\"\u001b[39m \u001b[39m%\u001b[39m \u001b[39mstr\u001b[39m(e))\n",
      "File \u001b[1;32me:\\Envs\\kaggle1\\lib\\site-packages\\hyperopt\\base.py:892\u001b[0m, in \u001b[0;36mDomain.evaluate\u001b[1;34m(self, config, ctrl, attach_attachments)\u001b[0m\n\u001b[0;32m    883\u001b[0m \u001b[39melse\u001b[39;00m:\n\u001b[0;32m    884\u001b[0m     \u001b[39m# -- the \"work\" of evaluating `config` can be written\u001b[39;00m\n\u001b[0;32m    885\u001b[0m     \u001b[39m#    either into the pyll part (self.expr)\u001b[39;00m\n\u001b[0;32m    886\u001b[0m     \u001b[39m#    or the normal Python part (self.fn)\u001b[39;00m\n\u001b[0;32m    887\u001b[0m     pyll_rval \u001b[39m=\u001b[39m pyll\u001b[39m.\u001b[39mrec_eval(\n\u001b[0;32m    888\u001b[0m         \u001b[39mself\u001b[39m\u001b[39m.\u001b[39mexpr,\n\u001b[0;32m    889\u001b[0m         memo\u001b[39m=\u001b[39mmemo,\n\u001b[0;32m    890\u001b[0m         print_node_on_error\u001b[39m=\u001b[39m\u001b[39mself\u001b[39m\u001b[39m.\u001b[39mrec_eval_print_node_on_error,\n\u001b[0;32m    891\u001b[0m     )\n\u001b[1;32m--> 892\u001b[0m     rval \u001b[39m=\u001b[39m \u001b[39mself\u001b[39;49m\u001b[39m.\u001b[39;49mfn(pyll_rval)\n\u001b[0;32m    894\u001b[0m \u001b[39mif\u001b[39;00m \u001b[39misinstance\u001b[39m(rval, (\u001b[39mfloat\u001b[39m, \u001b[39mint\u001b[39m, np\u001b[39m.\u001b[39mnumber)):\n\u001b[0;32m    895\u001b[0m     dict_rval \u001b[39m=\u001b[39m {\u001b[39m\"\u001b[39m\u001b[39mloss\u001b[39m\u001b[39m\"\u001b[39m: \u001b[39mfloat\u001b[39m(rval), \u001b[39m\"\u001b[39m\u001b[39mstatus\u001b[39m\u001b[39m\"\u001b[39m: STATUS_OK}\n",
      "\u001b[1;32md:\\Code\\kaggle\\atmacup\\#15\\preprocessing.ipynb Cell 14\u001b[0m in \u001b[0;36m9\n\u001b[0;32m     <a href='vscode-notebook-cell:/d%3A/Code/kaggle/atmacup/%2315/preprocessing.ipynb#X22sZmlsZQ%3D%3D?line=95'>96</a>\u001b[0m \u001b[39mdef\u001b[39;00m \u001b[39mobjective\u001b[39m(params):\n\u001b[1;32m---> <a href='vscode-notebook-cell:/d%3A/Code/kaggle/atmacup/%2315/preprocessing.ipynb#X22sZmlsZQ%3D%3D?line=97'>98</a>\u001b[0m     oof_pred,_\u001b[39m=\u001b[39mfit_lgbm(X,y,cv,params\u001b[39m=\u001b[39;49mparams)\n\u001b[0;32m    <a href='vscode-notebook-cell:/d%3A/Code/kaggle/atmacup/%2315/preprocessing.ipynb#X22sZmlsZQ%3D%3D?line=99'>100</a>\u001b[0m     score\u001b[39m=\u001b[39mroot_mean_squared_error(y,oof_pred)\n\u001b[0;32m    <a href='vscode-notebook-cell:/d%3A/Code/kaggle/atmacup/%2315/preprocessing.ipynb#X22sZmlsZQ%3D%3D?line=101'>102</a>\u001b[0m     \u001b[39mreturn\u001b[39;00m {\u001b[39m'\u001b[39m\u001b[39mloss\u001b[39m\u001b[39m'\u001b[39m: score,\u001b[39m'\u001b[39m\u001b[39mstatus\u001b[39m\u001b[39m'\u001b[39m: STATUS_OK}\n",
      "\u001b[1;32md:\\Code\\kaggle\\atmacup\\#15\\preprocessing.ipynb Cell 14\u001b[0m in \u001b[0;36m5\n\u001b[0;32m     <a href='vscode-notebook-cell:/d%3A/Code/kaggle/atmacup/%2315/preprocessing.ipynb#X22sZmlsZQ%3D%3D?line=51'>52</a>\u001b[0m x_valid, y_valid \u001b[39m=\u001b[39m X[idx_valid], y[idx_valid]\n\u001b[0;32m     <a href='vscode-notebook-cell:/d%3A/Code/kaggle/atmacup/%2315/preprocessing.ipynb#X22sZmlsZQ%3D%3D?line=53'>54</a>\u001b[0m clf \u001b[39m=\u001b[39m lgbm\u001b[39m.\u001b[39mLGBMRegressor(\u001b[39m*\u001b[39m\u001b[39m*\u001b[39mparams)\n\u001b[1;32m---> <a href='vscode-notebook-cell:/d%3A/Code/kaggle/atmacup/%2315/preprocessing.ipynb#X22sZmlsZQ%3D%3D?line=55'>56</a>\u001b[0m clf\u001b[39m.\u001b[39;49mfit(x_train, y_train,\n\u001b[0;32m     <a href='vscode-notebook-cell:/d%3A/Code/kaggle/atmacup/%2315/preprocessing.ipynb#X22sZmlsZQ%3D%3D?line=56'>57</a>\u001b[0m         eval_set\u001b[39m=\u001b[39;49m[(x_valid, y_valid)],\n\u001b[0;32m     <a href='vscode-notebook-cell:/d%3A/Code/kaggle/atmacup/%2315/preprocessing.ipynb#X22sZmlsZQ%3D%3D?line=57'>58</a>\u001b[0m         early_stopping_rounds\u001b[39m=\u001b[39;49m\u001b[39m200\u001b[39;49m,\n\u001b[0;32m     <a href='vscode-notebook-cell:/d%3A/Code/kaggle/atmacup/%2315/preprocessing.ipynb#X22sZmlsZQ%3D%3D?line=58'>59</a>\u001b[0m         verbose\u001b[39m=\u001b[39;49mverbose,\n\u001b[0;32m     <a href='vscode-notebook-cell:/d%3A/Code/kaggle/atmacup/%2315/preprocessing.ipynb#X22sZmlsZQ%3D%3D?line=59'>60</a>\u001b[0m         callbacks\u001b[39m=\u001b[39;49m[learning_rate_callback])\n\u001b[0;32m     <a href='vscode-notebook-cell:/d%3A/Code/kaggle/atmacup/%2315/preprocessing.ipynb#X22sZmlsZQ%3D%3D?line=61'>62</a>\u001b[0m pred_i \u001b[39m=\u001b[39m clf\u001b[39m.\u001b[39mpredict(x_valid)\n\u001b[0;32m     <a href='vscode-notebook-cell:/d%3A/Code/kaggle/atmacup/%2315/preprocessing.ipynb#X22sZmlsZQ%3D%3D?line=62'>63</a>\u001b[0m oof_pred[idx_valid] \u001b[39m=\u001b[39m pred_i\n",
      "File \u001b[1;32me:\\Envs\\kaggle1\\lib\\site-packages\\lightgbm\\sklearn.py:895\u001b[0m, in \u001b[0;36mLGBMRegressor.fit\u001b[1;34m(self, X, y, sample_weight, init_score, eval_set, eval_names, eval_sample_weight, eval_init_score, eval_metric, early_stopping_rounds, verbose, feature_name, categorical_feature, callbacks, init_model)\u001b[0m\n\u001b[0;32m    888\u001b[0m \u001b[39mdef\u001b[39;00m \u001b[39mfit\u001b[39m(\u001b[39mself\u001b[39m, X, y,\n\u001b[0;32m    889\u001b[0m         sample_weight\u001b[39m=\u001b[39m\u001b[39mNone\u001b[39;00m, init_score\u001b[39m=\u001b[39m\u001b[39mNone\u001b[39;00m,\n\u001b[0;32m    890\u001b[0m         eval_set\u001b[39m=\u001b[39m\u001b[39mNone\u001b[39;00m, eval_names\u001b[39m=\u001b[39m\u001b[39mNone\u001b[39;00m, eval_sample_weight\u001b[39m=\u001b[39m\u001b[39mNone\u001b[39;00m,\n\u001b[0;32m    891\u001b[0m         eval_init_score\u001b[39m=\u001b[39m\u001b[39mNone\u001b[39;00m, eval_metric\u001b[39m=\u001b[39m\u001b[39mNone\u001b[39;00m, early_stopping_rounds\u001b[39m=\u001b[39m\u001b[39mNone\u001b[39;00m,\n\u001b[0;32m    892\u001b[0m         verbose\u001b[39m=\u001b[39m\u001b[39m'\u001b[39m\u001b[39mwarn\u001b[39m\u001b[39m'\u001b[39m, feature_name\u001b[39m=\u001b[39m\u001b[39m'\u001b[39m\u001b[39mauto\u001b[39m\u001b[39m'\u001b[39m, categorical_feature\u001b[39m=\u001b[39m\u001b[39m'\u001b[39m\u001b[39mauto\u001b[39m\u001b[39m'\u001b[39m,\n\u001b[0;32m    893\u001b[0m         callbacks\u001b[39m=\u001b[39m\u001b[39mNone\u001b[39;00m, init_model\u001b[39m=\u001b[39m\u001b[39mNone\u001b[39;00m):\n\u001b[0;32m    894\u001b[0m     \u001b[39m\"\"\"Docstring is inherited from the LGBMModel.\"\"\"\u001b[39;00m\n\u001b[1;32m--> 895\u001b[0m     \u001b[39msuper\u001b[39;49m()\u001b[39m.\u001b[39;49mfit(X, y, sample_weight\u001b[39m=\u001b[39;49msample_weight, init_score\u001b[39m=\u001b[39;49minit_score,\n\u001b[0;32m    896\u001b[0m                 eval_set\u001b[39m=\u001b[39;49meval_set, eval_names\u001b[39m=\u001b[39;49meval_names, eval_sample_weight\u001b[39m=\u001b[39;49meval_sample_weight,\n\u001b[0;32m    897\u001b[0m                 eval_init_score\u001b[39m=\u001b[39;49meval_init_score, eval_metric\u001b[39m=\u001b[39;49meval_metric,\n\u001b[0;32m    898\u001b[0m                 early_stopping_rounds\u001b[39m=\u001b[39;49mearly_stopping_rounds, verbose\u001b[39m=\u001b[39;49mverbose, feature_name\u001b[39m=\u001b[39;49mfeature_name,\n\u001b[0;32m    899\u001b[0m                 categorical_feature\u001b[39m=\u001b[39;49mcategorical_feature, callbacks\u001b[39m=\u001b[39;49mcallbacks, init_model\u001b[39m=\u001b[39;49minit_model)\n\u001b[0;32m    900\u001b[0m     \u001b[39mreturn\u001b[39;00m \u001b[39mself\u001b[39m\n",
      "File \u001b[1;32me:\\Envs\\kaggle1\\lib\\site-packages\\lightgbm\\sklearn.py:748\u001b[0m, in \u001b[0;36mLGBMModel.fit\u001b[1;34m(self, X, y, sample_weight, init_score, group, eval_set, eval_names, eval_sample_weight, eval_class_weight, eval_init_score, eval_group, eval_metric, early_stopping_rounds, verbose, feature_name, categorical_feature, callbacks, init_model)\u001b[0m\n\u001b[0;32m    745\u001b[0m evals_result \u001b[39m=\u001b[39m {}\n\u001b[0;32m    746\u001b[0m callbacks\u001b[39m.\u001b[39mappend(record_evaluation(evals_result))\n\u001b[1;32m--> 748\u001b[0m \u001b[39mself\u001b[39m\u001b[39m.\u001b[39m_Booster \u001b[39m=\u001b[39m train(\n\u001b[0;32m    749\u001b[0m     params\u001b[39m=\u001b[39;49mparams,\n\u001b[0;32m    750\u001b[0m     train_set\u001b[39m=\u001b[39;49mtrain_set,\n\u001b[0;32m    751\u001b[0m     num_boost_round\u001b[39m=\u001b[39;49m\u001b[39mself\u001b[39;49m\u001b[39m.\u001b[39;49mn_estimators,\n\u001b[0;32m    752\u001b[0m     valid_sets\u001b[39m=\u001b[39;49mvalid_sets,\n\u001b[0;32m    753\u001b[0m     valid_names\u001b[39m=\u001b[39;49meval_names,\n\u001b[0;32m    754\u001b[0m     fobj\u001b[39m=\u001b[39;49m\u001b[39mself\u001b[39;49m\u001b[39m.\u001b[39;49m_fobj,\n\u001b[0;32m    755\u001b[0m     feval\u001b[39m=\u001b[39;49meval_metrics_callable,\n\u001b[0;32m    756\u001b[0m     init_model\u001b[39m=\u001b[39;49minit_model,\n\u001b[0;32m    757\u001b[0m     feature_name\u001b[39m=\u001b[39;49mfeature_name,\n\u001b[0;32m    758\u001b[0m     callbacks\u001b[39m=\u001b[39;49mcallbacks\n\u001b[0;32m    759\u001b[0m )\n\u001b[0;32m    761\u001b[0m \u001b[39mif\u001b[39;00m evals_result:\n\u001b[0;32m    762\u001b[0m     \u001b[39mself\u001b[39m\u001b[39m.\u001b[39m_evals_result \u001b[39m=\u001b[39m evals_result\n",
      "File \u001b[1;32me:\\Envs\\kaggle1\\lib\\site-packages\\lightgbm\\engine.py:292\u001b[0m, in \u001b[0;36mtrain\u001b[1;34m(params, train_set, num_boost_round, valid_sets, valid_names, fobj, feval, init_model, feature_name, categorical_feature, early_stopping_rounds, evals_result, verbose_eval, learning_rates, keep_training_booster, callbacks)\u001b[0m\n\u001b[0;32m    284\u001b[0m \u001b[39mfor\u001b[39;00m cb \u001b[39min\u001b[39;00m callbacks_before_iter:\n\u001b[0;32m    285\u001b[0m     cb(callback\u001b[39m.\u001b[39mCallbackEnv(model\u001b[39m=\u001b[39mbooster,\n\u001b[0;32m    286\u001b[0m                             params\u001b[39m=\u001b[39mparams,\n\u001b[0;32m    287\u001b[0m                             iteration\u001b[39m=\u001b[39mi,\n\u001b[0;32m    288\u001b[0m                             begin_iteration\u001b[39m=\u001b[39minit_iteration,\n\u001b[0;32m    289\u001b[0m                             end_iteration\u001b[39m=\u001b[39minit_iteration \u001b[39m+\u001b[39m num_boost_round,\n\u001b[0;32m    290\u001b[0m                             evaluation_result_list\u001b[39m=\u001b[39m\u001b[39mNone\u001b[39;00m))\n\u001b[1;32m--> 292\u001b[0m booster\u001b[39m.\u001b[39;49mupdate(fobj\u001b[39m=\u001b[39;49mfobj)\n\u001b[0;32m    294\u001b[0m evaluation_result_list \u001b[39m=\u001b[39m []\n\u001b[0;32m    295\u001b[0m \u001b[39m# check evaluation result.\u001b[39;00m\n",
      "File \u001b[1;32me:\\Envs\\kaggle1\\lib\\site-packages\\lightgbm\\basic.py:3021\u001b[0m, in \u001b[0;36mBooster.update\u001b[1;34m(self, train_set, fobj)\u001b[0m\n\u001b[0;32m   3019\u001b[0m \u001b[39mif\u001b[39;00m \u001b[39mself\u001b[39m\u001b[39m.\u001b[39m__set_objective_to_none:\n\u001b[0;32m   3020\u001b[0m     \u001b[39mraise\u001b[39;00m LightGBMError(\u001b[39m'\u001b[39m\u001b[39mCannot update due to null objective function.\u001b[39m\u001b[39m'\u001b[39m)\n\u001b[1;32m-> 3021\u001b[0m _safe_call(_LIB\u001b[39m.\u001b[39;49mLGBM_BoosterUpdateOneIter(\n\u001b[0;32m   3022\u001b[0m     \u001b[39mself\u001b[39;49m\u001b[39m.\u001b[39;49mhandle,\n\u001b[0;32m   3023\u001b[0m     ctypes\u001b[39m.\u001b[39;49mbyref(is_finished)))\n\u001b[0;32m   3024\u001b[0m \u001b[39mself\u001b[39m\u001b[39m.\u001b[39m__is_predicted_cur_iter \u001b[39m=\u001b[39m [\u001b[39mFalse\u001b[39;00m \u001b[39mfor\u001b[39;00m _ \u001b[39min\u001b[39;00m \u001b[39mrange\u001b[39m(\u001b[39mself\u001b[39m\u001b[39m.\u001b[39m__num_dataset)]\n\u001b[0;32m   3025\u001b[0m \u001b[39mreturn\u001b[39;00m is_finished\u001b[39m.\u001b[39mvalue \u001b[39m==\u001b[39m \u001b[39m1\u001b[39m\n",
      "\u001b[1;31mKeyboardInterrupt\u001b[0m: "
     ]
    }
   ],
   "source": [
    "from hyperopt import fmin, tpe, hp, Trials, STATUS_OK\n",
    "from sklearn.model_selection import StratifiedKFold\n",
    "from sklearn.metrics import mean_squared_error\n",
    "from math import pi, cos\n",
    "import lightgbm as lgbm\n",
    "import numpy as np\n",
    "from numpy.random import RandomState\n",
    "import lightgbm as lgbm\n",
    "\n",
    "if search_para:\n",
    "    fold = StratifiedKFold(n_splits=2, shuffle=True, random_state=42)\n",
    "    cv = fold.split(X, y)\n",
    "    cv = list(cv)\n",
    "\n",
    "    def cosine_annealing_with_restarts(iteration, t_max, eta_min, eta_max, decay=1.0):\n",
    "        \"\"\"Calculates the learning rate for cosine annealing with restarts.\"\"\"\n",
    "        cycle = iteration // t_max\n",
    "        eta_max = eta_max * (decay ** cycle)\n",
    "        \n",
    "        t = iteration % t_max\n",
    "        return eta_min + (eta_max - eta_min) * (1 + cos(pi * t / t_max)) / 2\n",
    "\n",
    "    def learning_rate_callback(env):\n",
    "        \"\"\"Sets the learning rate of each iteration.\"\"\"\n",
    "        t_max = 1000\n",
    "        eta_min = 0\n",
    "        eta_max = 0.1\n",
    "        decay = 1\n",
    "        \n",
    "        iteration = env.iteration\n",
    "        lr = cosine_annealing_with_restarts(iteration, t_max, eta_min, eta_max, decay = 0.9)\n",
    "        \n",
    "        env.model.reset_parameter({\"learning_rate\": lr})\n",
    "\n",
    "    def root_mean_squared_error(y_true, y_pred):\n",
    "        \"\"\"mean_squared_error の root (0.5乗)\"\"\"\n",
    "        return mean_squared_error(y_true, y_pred) ** .5\n",
    "\n",
    "    def fit_lgbm(X, \n",
    "                y, \n",
    "                cv,\n",
    "                params: dict=None,\n",
    "                verbose: int=100):\n",
    "        \n",
    "        if params is None:\n",
    "            params = {}\n",
    "\n",
    "        models = []\n",
    "        n_records = len(X)\n",
    "        oof_pred = np.zeros((n_records, ), dtype=np.float32)\n",
    "\n",
    "        for i, (idx_train, idx_valid) in enumerate(tqdm(cv)): \n",
    "            x_train, y_train = X[idx_train], y[idx_train]\n",
    "            x_valid, y_valid = X[idx_valid], y[idx_valid]\n",
    "\n",
    "            clf = lgbm.LGBMRegressor(**params)\n",
    "\n",
    "            clf.fit(x_train, y_train,\n",
    "                    eval_set=[(x_valid, y_valid)],\n",
    "                    early_stopping_rounds=500,\n",
    "                    verbose=verbose,\n",
    "                    callbacks=[learning_rate_callback])\n",
    "\n",
    "            pred_i = clf.predict(x_valid)\n",
    "            oof_pred[idx_valid] = pred_i\n",
    "            models.append(clf)\n",
    "            score = root_mean_squared_error(y_valid, pred_i)\n",
    "            print(f\" - fold{i + 1} - {score:.4f}\")\n",
    "\n",
    "        score = root_mean_squared_error(y, oof_pred)\n",
    "\n",
    "        print(\"=\" * 50)\n",
    "        print(f\"FINISHI: Whole Score: {score:.4f}\")\n",
    "        \n",
    "        return oof_pred, models\n",
    "\n",
    "    # Define the search space for the hyperparameters\n",
    "    space = {\n",
    "        \"objective\": \"rmse\", \n",
    "        \"n_estimators\": 20000,\n",
    "        'max_depth': hp.choice('max_depth', range(5, 30, 1)),\n",
    "        'num_leaves': hp.choice('num_leaves', range(20, 150, 1)),\n",
    "        'min_data_in_leaf': hp.choice('min_data_in_leaf', range(15, 101, 1)),\n",
    "        'feature_fraction': hp.uniform('feature_fraction', 0.5, 1.0),\n",
    "        'bagging_fraction': hp.uniform('bagging_fraction', 0.5, 1.0),\n",
    "        'bagging_freq': hp.choice('bagging_freq', range(1, 10, 1)),\n",
    "        'learning_rate': hp.loguniform('learning_rate', -5, -1),\n",
    "        'min_gain_to_split': hp.loguniform('min_gain_to_split', -5,-2),\n",
    "        'reg_alpha': hp.uniform('reg_alpha', 0.0, 1.0),\n",
    "        'reg_lambda': hp.uniform('reg_lambda', 0.0, 1.0),\n",
    "        \"random_state\": 42,\n",
    "        'device': 'gpu',\n",
    "        'gpu_platform_id': 0,\n",
    "        'gpu_device_id': 0\n",
    "    }\n",
    "\n",
    "    # Define the objective function to minimize\n",
    "    def objective(params):\n",
    "        \n",
    "        oof_pred,_=fit_lgbm(X,y,cv,params=params)\n",
    "        \n",
    "        score=root_mean_squared_error(y,oof_pred)\n",
    "        \n",
    "        return {'loss': score,'status': STATUS_OK}\n",
    "\n",
    "    # Run the optimization\n",
    "    trials = Trials()\n",
    "    best = fmin(fn=objective,\n",
    "                space=space,\n",
    "                algo=tpe.suggest,\n",
    "                max_evals=100,\n",
    "                trials=trials)\n",
    "\n",
    "    # Print the best hyperparameters\n",
    "    print(best)\n",
    "    with open('best_hyperparameters.txt', 'w') as f:\n",
    "        # Write the best hyperparameters to the file\n",
    "        for key, value in best.items():\n",
    "            f.write(f'{key}: {value}\\n')\n",
    "\n",
    "    # Print a message to indicate that the file has been saved\n",
    "    print('Best hyperparameters saved to best_hyperparameters.txt')"
   ]
  },
  {
   "cell_type": "code",
   "execution_count": 40,
   "metadata": {},
   "outputs": [],
   "source": [
    "from sklearn.model_selection import StratifiedKFold\n",
    "from sklearn.metrics import mean_squared_error\n",
    "from math import pi, cos\n",
    "if not search_para:\n",
    "    fold = StratifiedKFold(n_splits=3, shuffle=True, random_state=42)\n",
    "    cv = fold.split(X, y)\n",
    "    cv = list(cv) # split の返り値は generator なので list 化して何度も iterate できるようにしておく\n",
    "\n",
    "\n",
    "\n",
    "    def cosine_annealing_with_restarts(iteration, t_max, eta_min, eta_max, decay=1.0):\n",
    "        \"\"\"Calculates the learning rate for cosine annealing with restarts.\"\"\"\n",
    "        # Calculate the current restart cycle\n",
    "        cycle = iteration // t_max\n",
    "        # Apply the decay to the maximum learning rate\n",
    "        eta_max = eta_max * (decay ** cycle)\n",
    "        \n",
    "        t = iteration % t_max\n",
    "        return eta_min + (eta_max - eta_min) * (1 + cos(pi * t / t_max)) / 2\n",
    "\n",
    "    def learning_rate_callback(env):\n",
    "        \"\"\"Sets the learning rate of each iteration.\"\"\"\n",
    "        # You can adjust these parameters\n",
    "        t_max = 1000\n",
    "        eta_min = 0\n",
    "        eta_max = 0.1\n",
    "        decay = 1.0\n",
    "        \n",
    "        iteration = env.iteration\n",
    "        lr = cosine_annealing_with_restarts(iteration, t_max, eta_min, eta_max, decay = decay)\n",
    "        \n",
    "        # Set the learning rate for the current iteration\n",
    "        env.model.reset_parameter({\"learning_rate\": lr})\n",
    "\n",
    "\n",
    "    def root_mean_squared_error(y_true, y_pred):\n",
    "        \"\"\"mean_squared_error の root (0.5乗)\"\"\"\n",
    "        return mean_squared_error(y_true, y_pred) ** .5\n",
    "\n",
    "\n",
    "    def fit_lgbm(X, \n",
    "                y, \n",
    "                cv, \n",
    "                params: dict=None, \n",
    "                verbose: int=50):\n",
    "        \"\"\"lightGBM を CrossValidation の枠組みで学習を行なう function\"\"\"\n",
    "\n",
    "        # パラメータがないときは、空の dict で置き換える\n",
    "        if params is None:\n",
    "            params = {}\n",
    "\n",
    "        models = []\n",
    "        n_records = len(X)\n",
    "        # training data の target と同じだけのゼロ配列を用意\n",
    "        oof_pred = np.zeros((n_records, ), dtype=np.float32)\n",
    "\n",
    "        for i, (idx_train, idx_valid) in enumerate(tqdm(cv)): \n",
    "            # この部分が交差検証のところです。データセットを cv instance によって分割します\n",
    "            # training data を trian/valid に分割\n",
    "            x_train, y_train = X[idx_train], y[idx_train]\n",
    "            x_valid, y_valid = X[idx_valid], y[idx_valid]\n",
    "            \n",
    "            train_data = lgbm.Dataset(x_train, label=y_train)\n",
    "            valid_data = lgbm.Dataset(x_valid, label=y_valid)\n",
    "            \n",
    "            # clf = lgbm.LGBMRegressor(**params)\n",
    "\n",
    "\n",
    "                \n",
    "            # cv 内で train に定義された x_train で学習する\n",
    "            clf = lgbm.train(params,\n",
    "                            train_data,\n",
    "                            valid_sets=[valid_data],\n",
    "                            verbose_eval = 100,\n",
    "                            # callbacks=[learning_rate_callback],\n",
    "                            early_stopping_rounds=500,\n",
    "                            # evals_result={'metric': 'rmse'}\n",
    "                            )\n",
    "\n",
    "            # cv 内で validation data とされた x_valid で予測をして oof_pred に保存していく\n",
    "            # oof_pred は全部学習に使わなかったデータの予測結果になる → モデルの予測性能を見る指標として利用できる\n",
    "            pred_i = clf.predict(x_valid)\n",
    "            oof_pred[idx_valid] = pred_i\n",
    "            models.append(clf)\n",
    "            score = root_mean_squared_error(y_valid, pred_i)\n",
    "            print(f\" - fold{i + 1} - {score:.4f}\")\n",
    "\n",
    "        score = root_mean_squared_error(y, oof_pred)\n",
    "\n",
    "        print(\"=\" * 50)\n",
    "        print(f\"FINISHI: Whole Score: {score:.4f}\")\n",
    "        return oof_pred, models\n",
    "\n",
    "    params = {\"n_estimators\": 20000,\n",
    "            'metric':'rmse',\n",
    "            'objective':'rmse',\n",
    "            'bagging_fraction': 0.8673982752512271, \n",
    "            'bagging_freq': 1, \n",
    "            'feature_fraction': 0.8071852425372114, \n",
    "            'learning_rate': 0.04099973960813682, \n",
    "            'max_depth': 21, 'min_data_in_leaf': 74, \n",
    "            'min_gain_to_split': 0.006767882260676213, \n",
    "            'num_leaves': 117, \n",
    "            'reg_alpha': 0.3090037417723903, \n",
    "            'reg_lambda': 0.40235283418675616,\n",
    "            \"random_state\": 42,\n",
    "            'device': 'gpu',\n",
    "            'gpu_platform_id': 0,\n",
    "            'gpu_device_id': 0}\n",
    "    # params = {\"n_estimators\": 20000,\n",
    "    #         'metric':'rmse',\n",
    "    #         'objective':'rmse',\n",
    "    #         'bagging_fraction': 0.9770565431983312, \n",
    "    #         'bagging_freq': 5, \n",
    "    #         'feature_fraction': 0.6212255358252863, \n",
    "    #         'learning_rate': 0.006834313210743722, \n",
    "    #         'max_depth': 19, 'min_data_in_leaf': 78, \n",
    "    #         'min_gain_to_split': 0.02077399242886767, \n",
    "    #         'num_leaves': 108, \n",
    "    #         'reg_alpha': 0.03535318364749338, \n",
    "    #         'reg_lambda': 0.7594575702890386,\n",
    "    #         \"random_state\": 42,\n",
    "    #         'device': 'gpu',\n",
    "    #         'gpu_platform_id': 0,\n",
    "    #         'gpu_device_id': 0}"
   ]
  },
  {
   "cell_type": "code",
   "execution_count": 41,
   "metadata": {},
   "outputs": [
    {
     "data": {
      "application/vnd.jupyter.widget-view+json": {
       "model_id": "9fdcbf096e7c4bb5a4cc8562a5c3e8fa",
       "version_major": 2,
       "version_minor": 0
      },
      "text/plain": [
       "  0%|          | 0/3 [00:00<?, ?it/s]"
      ]
     },
     "metadata": {},
     "output_type": "display_data"
    },
    {
     "name": "stderr",
     "output_type": "stream",
     "text": [
      "e:\\Envs\\kaggle1\\lib\\site-packages\\lightgbm\\engine.py:177: UserWarning: Found `n_estimators` in params. Will use it instead of argument\n",
      "  _log_warning(f\"Found `{alias}` in params. Will use it instead of argument\")\n",
      "e:\\Envs\\kaggle1\\lib\\site-packages\\lightgbm\\engine.py:181: UserWarning: 'early_stopping_rounds' argument is deprecated and will be removed in a future release of LightGBM. Pass 'early_stopping()' callback via 'callbacks' argument instead.\n",
      "  _log_warning(\"'early_stopping_rounds' argument is deprecated and will be removed in a future release of LightGBM. \"\n",
      "e:\\Envs\\kaggle1\\lib\\site-packages\\lightgbm\\engine.py:239: UserWarning: 'verbose_eval' argument is deprecated and will be removed in a future release of LightGBM. Pass 'log_evaluation()' callback via 'callbacks' argument instead.\n",
      "  _log_warning(\"'verbose_eval' argument is deprecated and will be removed in a future release of LightGBM. \"\n"
     ]
    },
    {
     "name": "stdout",
     "output_type": "stream",
     "text": [
      "[LightGBM] [Info] This is the GPU trainer!!\n",
      "[LightGBM] [Info] Total Bins 200652\n",
      "[LightGBM] [Info] Number of data points in the train set: 90934, number of used features: 832\n",
      "[LightGBM] [Info] Using requested OpenCL platform 0 device 0\n",
      "[LightGBM] [Info] Using GPU Device: NVIDIA GeForce RTX 3060 Laptop GPU, Vendor: NVIDIA Corporation\n",
      "[LightGBM] [Info] Compiling OpenCL Kernel with 256 bins...\n",
      "[LightGBM] [Info] GPU programs have been built\n",
      "[LightGBM] [Info] Size of histogram bin entry: 8\n",
      "[LightGBM] [Info] 794 dense feature groups (69.03 MB) transferred to GPU in 0.026816 secs. 1 sparse feature groups\n",
      "[LightGBM] [Info] Start training from score 7.768832\n",
      "Training until validation scores don't improve for 500 rounds\n",
      "[100]\tvalid_0's rmse: 1.21203\n",
      "[200]\tvalid_0's rmse: 1.17349\n",
      "[300]\tvalid_0's rmse: 1.16388\n",
      "[400]\tvalid_0's rmse: 1.15804\n",
      "[500]\tvalid_0's rmse: 1.15388\n",
      "[600]\tvalid_0's rmse: 1.15088\n",
      "[700]\tvalid_0's rmse: 1.14856\n",
      "[800]\tvalid_0's rmse: 1.14688\n",
      "[900]\tvalid_0's rmse: 1.14598\n",
      "[1000]\tvalid_0's rmse: 1.14491\n",
      "[1100]\tvalid_0's rmse: 1.1439\n",
      "[1200]\tvalid_0's rmse: 1.14338\n",
      "[1300]\tvalid_0's rmse: 1.14288\n",
      "[1400]\tvalid_0's rmse: 1.14262\n",
      "[1500]\tvalid_0's rmse: 1.14228\n",
      "[1600]\tvalid_0's rmse: 1.14203\n",
      "[1700]\tvalid_0's rmse: 1.14187\n",
      "[1800]\tvalid_0's rmse: 1.14181\n",
      "[1900]\tvalid_0's rmse: 1.14156\n",
      "[2000]\tvalid_0's rmse: 1.1415\n",
      "[2100]\tvalid_0's rmse: 1.14146\n",
      "[2200]\tvalid_0's rmse: 1.14136\n",
      "[2300]\tvalid_0's rmse: 1.1412\n",
      "[2400]\tvalid_0's rmse: 1.14132\n",
      "[2500]\tvalid_0's rmse: 1.14121\n",
      "[2600]\tvalid_0's rmse: 1.14125\n",
      "[2700]\tvalid_0's rmse: 1.14138\n",
      "[2800]\tvalid_0's rmse: 1.14153\n",
      "[2900]\tvalid_0's rmse: 1.14165\n",
      "[3000]\tvalid_0's rmse: 1.14166\n",
      "Early stopping, best iteration is:\n",
      "[2572]\tvalid_0's rmse: 1.14116\n",
      " - fold1 - 1.1412\n"
     ]
    },
    {
     "name": "stderr",
     "output_type": "stream",
     "text": [
      "e:\\Envs\\kaggle1\\lib\\site-packages\\lightgbm\\engine.py:177: UserWarning: Found `n_estimators` in params. Will use it instead of argument\n",
      "  _log_warning(f\"Found `{alias}` in params. Will use it instead of argument\")\n",
      "e:\\Envs\\kaggle1\\lib\\site-packages\\lightgbm\\engine.py:181: UserWarning: 'early_stopping_rounds' argument is deprecated and will be removed in a future release of LightGBM. Pass 'early_stopping()' callback via 'callbacks' argument instead.\n",
      "  _log_warning(\"'early_stopping_rounds' argument is deprecated and will be removed in a future release of LightGBM. \"\n",
      "e:\\Envs\\kaggle1\\lib\\site-packages\\lightgbm\\engine.py:239: UserWarning: 'verbose_eval' argument is deprecated and will be removed in a future release of LightGBM. Pass 'log_evaluation()' callback via 'callbacks' argument instead.\n",
      "  _log_warning(\"'verbose_eval' argument is deprecated and will be removed in a future release of LightGBM. \"\n"
     ]
    },
    {
     "name": "stdout",
     "output_type": "stream",
     "text": [
      "[LightGBM] [Info] This is the GPU trainer!!\n",
      "[LightGBM] [Info] Total Bins 200649\n",
      "[LightGBM] [Info] Number of data points in the train set: 90934, number of used features: 832\n",
      "[LightGBM] [Info] Using requested OpenCL platform 0 device 0\n",
      "[LightGBM] [Info] Using GPU Device: NVIDIA GeForce RTX 3060 Laptop GPU, Vendor: NVIDIA Corporation\n",
      "[LightGBM] [Info] Compiling OpenCL Kernel with 256 bins...\n",
      "[LightGBM] [Info] GPU programs have been built\n",
      "[LightGBM] [Info] Size of histogram bin entry: 8\n",
      "[LightGBM] [Info] 794 dense feature groups (69.03 MB) transferred to GPU in 0.038207 secs. 1 sparse feature groups\n",
      "[LightGBM] [Info] Start training from score 7.768678\n",
      "Training until validation scores don't improve for 500 rounds\n",
      "[100]\tvalid_0's rmse: 1.21587\n"
     ]
    },
    {
     "ename": "KeyboardInterrupt",
     "evalue": "",
     "output_type": "error",
     "traceback": [
      "\u001b[1;31m---------------------------------------------------------------------------\u001b[0m",
      "\u001b[1;31mKeyboardInterrupt\u001b[0m                         Traceback (most recent call last)",
      "\u001b[1;32md:\\Code\\kaggle\\atmacup\\#15\\preprocessing.ipynb Cell 15\u001b[0m in \u001b[0;36m1\n\u001b[1;32m----> <a href='vscode-notebook-cell:/d%3A/Code/kaggle/atmacup/%2315/preprocessing.ipynb#X20sZmlsZQ%3D%3D?line=0'>1</a>\u001b[0m oof, models_lgb \u001b[39m=\u001b[39m fit_lgbm(X, y\u001b[39m=\u001b[39;49my, params\u001b[39m=\u001b[39;49mparams, cv\u001b[39m=\u001b[39;49mcv)\n",
      "\u001b[1;32md:\\Code\\kaggle\\atmacup\\#15\\preprocessing.ipynb Cell 15\u001b[0m in \u001b[0;36m7\n\u001b[0;32m     <a href='vscode-notebook-cell:/d%3A/Code/kaggle/atmacup/%2315/preprocessing.ipynb#X20sZmlsZQ%3D%3D?line=64'>65</a>\u001b[0m valid_data \u001b[39m=\u001b[39m lgbm\u001b[39m.\u001b[39mDataset(x_valid, label\u001b[39m=\u001b[39my_valid)\n\u001b[0;32m     <a href='vscode-notebook-cell:/d%3A/Code/kaggle/atmacup/%2315/preprocessing.ipynb#X20sZmlsZQ%3D%3D?line=66'>67</a>\u001b[0m \u001b[39m# clf = lgbm.LGBMRegressor(**params)\u001b[39;00m\n\u001b[0;32m     <a href='vscode-notebook-cell:/d%3A/Code/kaggle/atmacup/%2315/preprocessing.ipynb#X20sZmlsZQ%3D%3D?line=67'>68</a>\u001b[0m \n\u001b[0;32m     <a href='vscode-notebook-cell:/d%3A/Code/kaggle/atmacup/%2315/preprocessing.ipynb#X20sZmlsZQ%3D%3D?line=68'>69</a>\u001b[0m \n\u001b[0;32m     <a href='vscode-notebook-cell:/d%3A/Code/kaggle/atmacup/%2315/preprocessing.ipynb#X20sZmlsZQ%3D%3D?line=69'>70</a>\u001b[0m     \n\u001b[0;32m     <a href='vscode-notebook-cell:/d%3A/Code/kaggle/atmacup/%2315/preprocessing.ipynb#X20sZmlsZQ%3D%3D?line=70'>71</a>\u001b[0m \u001b[39m# cv 内で train に定義された x_train で学習する\u001b[39;00m\n\u001b[1;32m---> <a href='vscode-notebook-cell:/d%3A/Code/kaggle/atmacup/%2315/preprocessing.ipynb#X20sZmlsZQ%3D%3D?line=71'>72</a>\u001b[0m clf \u001b[39m=\u001b[39m lgbm\u001b[39m.\u001b[39;49mtrain(params,\n\u001b[0;32m     <a href='vscode-notebook-cell:/d%3A/Code/kaggle/atmacup/%2315/preprocessing.ipynb#X20sZmlsZQ%3D%3D?line=72'>73</a>\u001b[0m                 train_data,\n\u001b[0;32m     <a href='vscode-notebook-cell:/d%3A/Code/kaggle/atmacup/%2315/preprocessing.ipynb#X20sZmlsZQ%3D%3D?line=73'>74</a>\u001b[0m                 valid_sets\u001b[39m=\u001b[39;49m[valid_data],\n\u001b[0;32m     <a href='vscode-notebook-cell:/d%3A/Code/kaggle/atmacup/%2315/preprocessing.ipynb#X20sZmlsZQ%3D%3D?line=74'>75</a>\u001b[0m                 verbose_eval \u001b[39m=\u001b[39;49m \u001b[39m100\u001b[39;49m,\n\u001b[0;32m     <a href='vscode-notebook-cell:/d%3A/Code/kaggle/atmacup/%2315/preprocessing.ipynb#X20sZmlsZQ%3D%3D?line=75'>76</a>\u001b[0m                 \u001b[39m# callbacks=[learning_rate_callback],\u001b[39;49;00m\n\u001b[0;32m     <a href='vscode-notebook-cell:/d%3A/Code/kaggle/atmacup/%2315/preprocessing.ipynb#X20sZmlsZQ%3D%3D?line=76'>77</a>\u001b[0m                 early_stopping_rounds\u001b[39m=\u001b[39;49m\u001b[39m500\u001b[39;49m,\n\u001b[0;32m     <a href='vscode-notebook-cell:/d%3A/Code/kaggle/atmacup/%2315/preprocessing.ipynb#X20sZmlsZQ%3D%3D?line=77'>78</a>\u001b[0m                 \u001b[39m# evals_result={'metric': 'rmse'}\u001b[39;49;00m\n\u001b[0;32m     <a href='vscode-notebook-cell:/d%3A/Code/kaggle/atmacup/%2315/preprocessing.ipynb#X20sZmlsZQ%3D%3D?line=78'>79</a>\u001b[0m                 )\n\u001b[0;32m     <a href='vscode-notebook-cell:/d%3A/Code/kaggle/atmacup/%2315/preprocessing.ipynb#X20sZmlsZQ%3D%3D?line=80'>81</a>\u001b[0m \u001b[39m# cv 内で validation data とされた x_valid で予測をして oof_pred に保存していく\u001b[39;00m\n\u001b[0;32m     <a href='vscode-notebook-cell:/d%3A/Code/kaggle/atmacup/%2315/preprocessing.ipynb#X20sZmlsZQ%3D%3D?line=81'>82</a>\u001b[0m \u001b[39m# oof_pred は全部学習に使わなかったデータの予測結果になる → モデルの予測性能を見る指標として利用できる\u001b[39;00m\n\u001b[0;32m     <a href='vscode-notebook-cell:/d%3A/Code/kaggle/atmacup/%2315/preprocessing.ipynb#X20sZmlsZQ%3D%3D?line=82'>83</a>\u001b[0m pred_i \u001b[39m=\u001b[39m clf\u001b[39m.\u001b[39mpredict(x_valid)\n",
      "File \u001b[1;32me:\\Envs\\kaggle1\\lib\\site-packages\\lightgbm\\engine.py:292\u001b[0m, in \u001b[0;36mtrain\u001b[1;34m(params, train_set, num_boost_round, valid_sets, valid_names, fobj, feval, init_model, feature_name, categorical_feature, early_stopping_rounds, evals_result, verbose_eval, learning_rates, keep_training_booster, callbacks)\u001b[0m\n\u001b[0;32m    284\u001b[0m \u001b[39mfor\u001b[39;00m cb \u001b[39min\u001b[39;00m callbacks_before_iter:\n\u001b[0;32m    285\u001b[0m     cb(callback\u001b[39m.\u001b[39mCallbackEnv(model\u001b[39m=\u001b[39mbooster,\n\u001b[0;32m    286\u001b[0m                             params\u001b[39m=\u001b[39mparams,\n\u001b[0;32m    287\u001b[0m                             iteration\u001b[39m=\u001b[39mi,\n\u001b[0;32m    288\u001b[0m                             begin_iteration\u001b[39m=\u001b[39minit_iteration,\n\u001b[0;32m    289\u001b[0m                             end_iteration\u001b[39m=\u001b[39minit_iteration \u001b[39m+\u001b[39m num_boost_round,\n\u001b[0;32m    290\u001b[0m                             evaluation_result_list\u001b[39m=\u001b[39m\u001b[39mNone\u001b[39;00m))\n\u001b[1;32m--> 292\u001b[0m booster\u001b[39m.\u001b[39;49mupdate(fobj\u001b[39m=\u001b[39;49mfobj)\n\u001b[0;32m    294\u001b[0m evaluation_result_list \u001b[39m=\u001b[39m []\n\u001b[0;32m    295\u001b[0m \u001b[39m# check evaluation result.\u001b[39;00m\n",
      "File \u001b[1;32me:\\Envs\\kaggle1\\lib\\site-packages\\lightgbm\\basic.py:3021\u001b[0m, in \u001b[0;36mBooster.update\u001b[1;34m(self, train_set, fobj)\u001b[0m\n\u001b[0;32m   3019\u001b[0m \u001b[39mif\u001b[39;00m \u001b[39mself\u001b[39m\u001b[39m.\u001b[39m__set_objective_to_none:\n\u001b[0;32m   3020\u001b[0m     \u001b[39mraise\u001b[39;00m LightGBMError(\u001b[39m'\u001b[39m\u001b[39mCannot update due to null objective function.\u001b[39m\u001b[39m'\u001b[39m)\n\u001b[1;32m-> 3021\u001b[0m _safe_call(_LIB\u001b[39m.\u001b[39;49mLGBM_BoosterUpdateOneIter(\n\u001b[0;32m   3022\u001b[0m     \u001b[39mself\u001b[39;49m\u001b[39m.\u001b[39;49mhandle,\n\u001b[0;32m   3023\u001b[0m     ctypes\u001b[39m.\u001b[39;49mbyref(is_finished)))\n\u001b[0;32m   3024\u001b[0m \u001b[39mself\u001b[39m\u001b[39m.\u001b[39m__is_predicted_cur_iter \u001b[39m=\u001b[39m [\u001b[39mFalse\u001b[39;00m \u001b[39mfor\u001b[39;00m _ \u001b[39min\u001b[39;00m \u001b[39mrange\u001b[39m(\u001b[39mself\u001b[39m\u001b[39m.\u001b[39m__num_dataset)]\n\u001b[0;32m   3025\u001b[0m \u001b[39mreturn\u001b[39;00m is_finished\u001b[39m.\u001b[39mvalue \u001b[39m==\u001b[39m \u001b[39m1\u001b[39m\n",
      "\u001b[1;31mKeyboardInterrupt\u001b[0m: "
     ]
    }
   ],
   "source": [
    "oof, models_lgb = fit_lgbm(X, y=y, params=params, cv=cv)"
   ]
  },
  {
   "cell_type": "code",
   "execution_count": 22,
   "metadata": {},
   "outputs": [
    {
     "data": {
      "text/plain": [
       "1.1336781658569246"
      ]
     },
     "execution_count": 22,
     "metadata": {},
     "output_type": "execute_result"
    }
   ],
   "source": [
    "root_mean_squared_error(y_true=y, y_pred=oof)"
   ]
  },
  {
   "cell_type": "code",
   "execution_count": 23,
   "metadata": {},
   "outputs": [
    {
     "data": {
      "image/png": "[encoded data removed]",
      "text/plain": [
       "<Figure size 1200x1250 with 1 Axes>"
      ]
     },
     "metadata": {},
     "output_type": "display_data"
    }
   ],
   "source": [
    "\n",
    "def visualize_importance(models, feat_train_df):\n",
    "    \"\"\"lightGBM の model 配列の feature importance を plot する\n",
    "    CVごとのブレを boxen plot として表現します.\n",
    "\n",
    "    args:\n",
    "        models:\n",
    "            List of lightGBM models\n",
    "        feat_train_df:\n",
    "            学習時に使った DataFrame\n",
    "    \"\"\"\n",
    "    feature_importance_df = pd.DataFrame()\n",
    "    for i, model in enumerate(models):\n",
    "        _df = pd.DataFrame()\n",
    "        # _df[\"feature_importance\"] = model.feature_importances_\n",
    "        _df['feature_importance'] = model.feature_importance(importance_type='gain')\n",
    "        _df[\"column\"] = feat_train_df.columns\n",
    "        _df[\"fold\"] = i + 1\n",
    "        feature_importance_df = pd.concat([feature_importance_df, _df], \n",
    "                                          axis=0, ignore_index=True)\n",
    "\n",
    "    order = feature_importance_df.groupby(\"column\")\\\n",
    "        .sum()[[\"feature_importance\"]]\\\n",
    "        .sort_values(\"feature_importance\", ascending=False).index[:50]\n",
    "\n",
    "    fig, ax = plt.subplots(figsize=(12, max(6, len(order) * .25)))\n",
    "    sns.boxenplot(data=feature_importance_df, \n",
    "                  x=\"feature_importance\", \n",
    "                  y=\"column\", \n",
    "                  order=order, \n",
    "                  ax=ax, \n",
    "                  palette=\"viridis\", \n",
    "                  orient=\"h\")\n",
    "    ax.tick_params(axis=\"x\", rotation=90)\n",
    "    ax.set_title(\"Importance\")\n",
    "    ax.grid()\n",
    "    fig.tight_layout()\n",
    "    return fig, ax\n",
    "# fig, ax = visualize_importance(models, train_feat_df)\n",
    "fig, ax = visualize_importance(models_lgb, train_feat_df)"
   ]
  },
  {
   "cell_type": "code",
   "execution_count": 24,
   "metadata": {},
   "outputs": [
    {
     "data": {
      "application/vnd.jupyter.widget-view+json": {
       "model_id": "535826daf7064a09986c871f19313a0e",
       "version_major": 2,
       "version_minor": 0
      },
      "text/plain": [
       "  0%|          | 0/5 [00:00<?, ?it/s]"
      ]
     },
     "metadata": {},
     "output_type": "display_data"
    }
   ],
   "source": [
    "# k 個のモデルの予測を作成. shape = (5, N_test,).\n",
    "pred = np.array([model.predict(test_feat_df.values) for model in tqdm(models_lgb)])\n",
    "# k 個のモデルの予測値の平均 shape = (N_test,).\n",
    "pred = np.mean(pred, axis=0) # axis=0 なので shape の `k` が潰れる "
   ]
  },
  {
   "cell_type": "code",
   "execution_count": 26,
   "metadata": {},
   "outputs": [],
   "source": [
    "score = pd.DataFrame({\n",
    "    \"score\": pred\n",
    "})\n",
    "score['score'] = score['score'].apply(lambda x: np.clip(x, 1, 10))\n",
    "score.round(2).to_csv(\"submission_2.csv\", index=False)"
   ]
  }
 ],
 "metadata": {
  "kernelspec": {
   "display_name": "kaggle1",
   "language": "python",
   "name": "python3"
  },
  "language_info": {
   "codemirror_mode": {
    "name": "ipython",
    "version": 3
   },
   "file_extension": ".py",
   "mimetype": "text/x-python",
   "name": "python",
   "nbconvert_exporter": "python",
   "pygments_lexer": "ipython3",
   "version": "3.8.0"
  },
  "orig_nbformat": 4
 },
 "nbformat": 4,
 "nbformat_minor": 2
}
